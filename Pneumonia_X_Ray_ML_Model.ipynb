{
  "nbformat": 4,
  "nbformat_minor": 0,
  "metadata": {
    "colab": {
      "name": "Pneumonia_X-Ray_ML_Model.ipynb",
      "provenance": [],
      "collapsed_sections": [],
      "mount_file_id": "19om473hne1vUSV4nVCbLfsY0lCdSZ4JT",
      "authorship_tag": "ABX9TyMNEVVjpOzqVvRvg6c7EPVS",
      "include_colab_link": true
    },
    "kernelspec": {
      "name": "python3",
      "display_name": "Python 3"
    },
    "language_info": {
      "name": "python"
    }
  },
  "cells": [
    {
      "cell_type": "markdown",
      "metadata": {
        "id": "view-in-github",
        "colab_type": "text"
      },
      "source": [
        "<a href=\"https://colab.research.google.com/github/saniya1027108/pneumonia-xray-ml-model/blob/branch1/Pneumonia_X_Ray_ML_Model.ipynb\" target=\"_parent\"><img src=\"https://colab.research.google.com/assets/colab-badge.svg\" alt=\"Open In Colab\"/></a>"
      ]
    },
    {
      "cell_type": "markdown",
      "metadata": {
        "id": "d1YDxTOKRWUC"
      },
      "source": [
        "# Pneumonia X-ray ML Model\n",
        "\n",
        "Pneumonia is an infection that inflames the air sacs in one or both lungs. The air sacs may fill with fluid or pus (purulent material), causing cough with phlegm or pus, fever, chills, and difficulty breathing. A variety of organisms, including bacteria, viruses and fungi, can cause pneumonia."
      ]
    },
    {
      "cell_type": "markdown",
      "metadata": {
        "id": "AlIdY6Hd7SC9"
      },
      "source": [
        "The normal chest X-ray depicts clear lungs without any areas of abnormal opacification in the image. Bacterial pneumonia typically exhibits a focal lobar consolidation, in this case in the right upper lobe, whereas viral pneumonia manifests with a more diffuse ‘‘interstitial’’ pattern in both lungs.\n",
        "\n",
        "Chest X-ray images (anterior-posterior) were selected from retrospective cohorts of pediatric patients of one to five years old from Guangzhou Women and Children’s Medical Center, Guangzhou. All chest X-ray imaging was performed as part of patients’ routine clinical care.\n",
        "\n",
        "For the analysis of chest x-ray images, all chest radiographs were initially screened for quality control by removing all low quality or unreadable scans. The diagnoses for the images were then graded by two expert physicians before being cleared for training the AI system. In order to account for any grading errors, the evaluation set was also checked by a third expert.\n",
        "\n"
      ]
    },
    {
      "cell_type": "markdown",
      "metadata": {
        "id": "krdStb4TRPJx"
      },
      "source": [
        "**Data** for this project comes from [here](https://data.mendeley.com/datasets/rscbjbr9sj/2)\n",
        "\n",
        "**Citation :** Kermany, Daniel; Zhang, Kang; Goldbaum, Michael (2018), “Labeled Optical Coherence Tomography (OCT) and Chest X-Ray Images for Classification”, Mendeley Data, V2, doi: 10.17632/rscbjbr9sj.2\n",
        "\n",
        "![Image](https://i.imgur.com/jZqpV51.png)"
      ]
    },
    {
      "cell_type": "markdown",
      "metadata": {
        "id": "6eKPipZJRfj0"
      },
      "source": [
        "Importing our data from the cloud and viewing and understanding it."
      ]
    },
    {
      "cell_type": "code",
      "metadata": {
        "id": "JzcFafOUHp8-"
      },
      "source": [
        "# Unzipping our dataset \n",
        "# This cell is executed once and needs not to be executed again\n",
        "#!unzip  \"/content/drive/MyDrive/Pneumonia/archive.zip\" -d \"/content/drive/MyDrive/Pneumonia\""
      ],
      "execution_count": null,
      "outputs": []
    },
    {
      "cell_type": "code",
      "metadata": {
        "id": "ZkGNuuaHwzFN",
        "colab": {
          "base_uri": "https://localhost:8080/"
        },
        "outputId": "d3eae0a2-9b4f-4b09-8828-c1d593760b2d"
      },
      "source": [
        "!ls \"/content/drive/MyDrive/Pneumonia/chest_xray/chest_xray\""
      ],
      "execution_count": null,
      "outputs": [
        {
          "output_type": "stream",
          "text": [
            "test  train  val\n"
          ],
          "name": "stdout"
        }
      ]
    },
    {
      "cell_type": "code",
      "metadata": {
        "colab": {
          "base_uri": "https://localhost:8080/"
        },
        "id": "hck_B2op71lg",
        "outputId": "89cd6fdc-aeef-413e-8f71-11521276bd7d"
      },
      "source": [
        "!ls \"/content/drive/MyDrive/Pneumonia/chest_xray/chest_xray/train\""
      ],
      "execution_count": null,
      "outputs": [
        {
          "output_type": "stream",
          "text": [
            "NORMAL\tPNEUMONIA\n"
          ],
          "name": "stdout"
        }
      ]
    },
    {
      "cell_type": "markdown",
      "metadata": {
        "id": "yFyZR-wkSNok"
      },
      "source": [
        "So we have two types of dataset one with Normal X-ray and another affected with Pneumonia"
      ]
    },
    {
      "cell_type": "code",
      "metadata": {
        "colab": {
          "base_uri": "https://localhost:8080/"
        },
        "id": "LVCmPGgN77SU",
        "outputId": "b8f60373-0a5e-4687-a96f-c2f971786bf6"
      },
      "source": [
        "!ls \"/content/drive/MyDrive/Pneumonia/chest_xray/chest_xray/train/PNEUMONIA\""
      ],
      "execution_count": null,
      "outputs": [
        {
          "output_type": "stream",
          "text": [
            "person1000_bacteria_2931.jpeg  person30_bacteria_149.jpeg\n",
            "person1000_virus_1681.jpeg     person30_bacteria_150.jpeg\n",
            "person1001_bacteria_2932.jpeg  person30_bacteria_151.jpeg\n",
            "person1002_bacteria_2933.jpeg  person30_bacteria_152.jpeg\n",
            "person1003_bacteria_2934.jpeg  person30_bacteria_153.jpeg\n",
            "person1003_virus_1685.jpeg     person30_bacteria_154.jpeg\n",
            "person1004_bacteria_2935.jpeg  person30_bacteria_155.jpeg\n",
            "person1004_virus_1686.jpeg     person30_bacteria_156.jpeg\n",
            "person1005_bacteria_2936.jpeg  person30_bacteria_157.jpeg\n",
            "person1005_virus_1688.jpeg     person30_bacteria_158.jpeg\n",
            "person1006_bacteria_2937.jpeg  person310_bacteria_1450.jpeg\n",
            "person1007_bacteria_2938.jpeg  person310_bacteria_1451.jpeg\n",
            "person1007_virus_1690.jpeg     person310_virus_633.jpeg\n",
            "person1008_bacteria_2939.jpeg  person311_bacteria_1452.jpeg\n",
            "person1008_virus_1691.jpeg     person311_bacteria_1453.jpeg\n",
            "person1009_virus_1694.jpeg     person311_virus_634.jpeg\n",
            "person100_virus_184.jpeg       person312_bacteria_1454.jpeg\n",
            "person1010_bacteria_2941.jpeg  person312_bacteria_1455.jpeg\n",
            "person1010_virus_1695.jpeg     person312_bacteria_1456.jpeg\n",
            "person1011_bacteria_2942.jpeg  person312_virus_635.jpeg\n",
            "person1012_bacteria_2943.jpeg  person313_bacteria_1457.jpeg\n",
            "person1014_bacteria_2945.jpeg  person313_bacteria_1458.jpeg\n",
            "person1015_virus_1701.jpeg     person313_bacteria_1459.jpeg\n",
            "person1015_virus_1702.jpeg     person313_bacteria_1460.jpeg\n",
            "person1016_bacteria_2947.jpeg  person313_virus_637.jpeg\n",
            "person1016_virus_1704.jpeg     person314_bacteria_1461.jpeg\n",
            "person1017_bacteria_2948.jpeg  person314_bacteria_1462.jpeg\n",
            "person1018_bacteria_2949.jpeg  person314_virus_639.jpeg\n",
            "person1018_virus_1706.jpeg     person315_bacteria_1464.jpeg\n",
            "person1019_bacteria_2950.jpeg  person315_bacteria_1465.jpeg\n",
            "person1019_virus_1707.jpeg     person315_bacteria_1466.jpeg\n",
            "person1019_virus_1708.jpeg     person315_bacteria_1467.jpeg\n",
            "person101_virus_187.jpeg       person315_bacteria_1468.jpeg\n",
            "person101_virus_188.jpeg       person316_bacteria_1469.jpeg\n",
            "person1020_bacteria_2951.jpeg  person316_bacteria_1470.jpeg\n",
            "person1020_virus_1710.jpeg     person316_virus_641.jpeg\n",
            "person1021_virus_1711.jpeg     person317_bacteria_1471.jpeg\n",
            "person1022_bacteria_2953.jpeg  person317_bacteria_1473.jpeg\n",
            "person1022_virus_1712.jpeg     person317_virus_643.jpeg\n",
            "person1023_bacteria_2954.jpeg  person318_bacteria_1474.jpeg\n",
            "person1023_virus_1714.jpeg     person318_virus_644.jpeg\n",
            "person1024_bacteria_2955.jpeg  person319_bacteria_1475.jpeg\n",
            "person1024_virus_1716.jpeg     person319_bacteria_1476.jpeg\n",
            "person1026_bacteria_2957.jpeg  person319_bacteria_1477.jpeg\n",
            "person1026_virus_1718.jpeg     person319_bacteria_1478.jpeg\n",
            "person1028_bacteria_2959.jpeg  person319_bacteria_1479.jpeg\n",
            "person1028_bacteria_2960.jpeg  person319_bacteria_1480.jpeg\n",
            "person1029_bacteria_2961.jpeg  person319_virus_645.jpeg\n",
            "person1029_virus_1721.jpeg     person319_virus_646.jpeg\n",
            "person102_virus_189.jpeg       person31_bacteria_160.jpeg\n",
            "person1030_virus_1722.jpeg     person31_bacteria_161.jpeg\n",
            "person1031_bacteria_2963.jpeg  person31_bacteria_162.jpeg\n",
            "person1031_bacteria_2964.jpeg  person31_bacteria_163.jpeg\n",
            "person1031_virus_1723.jpeg     person31_bacteria_164.jpeg\n",
            "person1033_bacteria_2966.jpeg  person320_virus_647.jpeg\n",
            "person1034_bacteria_2968.jpeg  person321_bacteria_1483.jpeg\n",
            "person1034_virus_1728.jpeg     person321_bacteria_1484.jpeg\n",
            "person1035_bacteria_2969.jpeg  person321_bacteria_1485.jpeg\n",
            "person1035_virus_1729.jpeg     person321_bacteria_1486.jpeg\n",
            "person1036_bacteria_2970.jpeg  person321_bacteria_1487.jpeg\n",
            "person1036_virus_1730.jpeg     person321_bacteria_1488.jpeg\n",
            "person1037_bacteria_2971.jpeg  person321_bacteria_1489.jpeg\n",
            "person1038_bacteria_2972.jpeg  person321_virus_648.jpeg\n",
            "person1038_virus_1733.jpeg     person322_bacteria_1494.jpeg\n",
            "person1039_bacteria_2973.jpeg  person322_virus_655.jpeg\n",
            "person103_virus_190.jpeg       person323_virus_656.jpeg\n",
            "person1040_bacteria_2974.jpeg  person324_virus_658.jpeg\n",
            "person1040_virus_1735.jpeg     person325_bacteria_1497.jpeg\n",
            "person1041_bacteria_2975.jpeg  person325_bacteria_1498.jpeg\n",
            "person1041_virus_1736.jpeg     person325_bacteria_1500.jpeg\n",
            "person1042_virus_1737.jpeg     person325_bacteria_1501.jpeg\n",
            "person1043_bacteria_2977.jpeg  person325_bacteria_1502.jpeg\n",
            "person1043_virus_1738.jpeg     person325_virus_659.jpeg\n",
            "person1044_bacteria_2978.jpeg  person325_virus_660.jpeg\n",
            "person1044_virus_1740.jpeg     person325_virus_661.jpeg\n",
            "person1045_bacteria_2979.jpeg  person325_virus_664.jpeg\n",
            "person1045_virus_1741.jpeg     person325_virus_665.jpeg\n",
            "person1046_bacteria_2980.jpeg  person326_bacteria_1503.jpeg\n",
            "person1046_virus_1742.jpeg     person326_bacteria_1504.jpeg\n",
            "person1048_bacteria_2982.jpeg  person326_bacteria_1505.jpeg\n",
            "person1048_virus_1744.jpeg     person326_bacteria_1506.jpeg\n",
            "person1049_bacteria_2983.jpeg  person326_bacteria_1507.jpeg\n",
            "person1049_virus_1746.jpeg     person326_virus_666.jpeg\n",
            "person104_virus_191.jpeg       person326_virus_668.jpeg\n",
            "person1050_bacteria_2984.jpeg  person326_virus_670.jpeg\n",
            "person1051_bacteria_2985.jpeg  person326_virus_672.jpeg\n",
            "person1051_virus_1750.jpeg     person326_virus_673.jpeg\n",
            "person1052_bacteria_2986.jpeg  person326_virus_675.jpeg\n",
            "person1052_virus_1751.jpeg     person326_virus_677.jpeg\n",
            "person1053_bacteria_2987.jpeg  person327_bacteria_1508.jpeg\n",
            "person1054_bacteria_2988.jpeg  person327_bacteria_1509.jpeg\n",
            "person1055_bacteria_2989.jpeg  person327_virus_679.jpeg\n",
            "person1056_bacteria_2990.jpeg  person328_bacteria_1510.jpeg\n",
            "person1056_virus_1755.jpeg     person328_bacteria_1511.jpeg\n",
            "person1057_bacteria_2991.jpeg  person328_bacteria_1512.jpeg\n",
            "person1057_virus_1756.jpeg     person328_bacteria_1513.jpeg\n",
            "person1058_bacteria_2992.jpeg  person328_bacteria_1514.jpeg\n",
            "person1058_virus_1757.jpeg     person328_bacteria_1515.jpeg\n",
            "person1059_bacteria_2993.jpeg  person328_virus_681.jpeg\n",
            "person1059_virus_1758.jpeg     person329_virus_682.jpeg\n",
            "person105_virus_192.jpeg       person32_bacteria_165.jpeg\n",
            "person105_virus_193.jpeg       person32_bacteria_166.jpeg\n",
            "person1060_virus_1760.jpeg     person330_virus_683.jpeg\n",
            "person1062_bacteria_2996.jpeg  person331_bacteria_1526.jpeg\n",
            "person1062_virus_1762.jpeg     person331_bacteria_1527.jpeg\n",
            "person1063_bacteria_2997.jpeg  person331_bacteria_1528.jpeg\n",
            "person1063_virus_1765.jpeg     person331_bacteria_1529.jpeg\n",
            "person1065_bacteria_2999.jpeg  person331_bacteria_1530.jpeg\n",
            "person1065_virus_1768.jpeg     person331_virus_684.jpeg\n",
            "person1066_bacteria_3000.jpeg  person332_bacteria_1531.jpeg\n",
            "person1066_virus_1769.jpeg     person332_bacteria_1533.jpeg\n",
            "person1067_bacteria_3001.jpeg  person332_bacteria_1534.jpeg\n",
            "person1067_virus_1770.jpeg     person332_bacteria_1535.jpeg\n",
            "person1068_bacteria_3002.jpeg  person332_bacteria_1536.jpeg\n",
            "person1068_virus_1771.jpeg     person332_bacteria_1537.jpeg\n",
            "person1069_bacteria_3003.jpeg  person332_bacteria_1538.jpeg\n",
            "person1069_virus_1772.jpeg     person332_virus_685.jpeg\n",
            "person106_virus_194.jpeg       person333_bacteria_1539.jpeg\n",
            "person1070_virus_1773.jpeg     person333_bacteria_1540.jpeg\n",
            "person1071_bacteria_3005.jpeg  person333_virus_688.jpeg\n",
            "person1071_virus_1774.jpeg     person334_bacteria_1541.jpeg\n",
            "person1072_bacteria_3006.jpeg  person334_bacteria_1542.jpeg\n",
            "person1072_bacteria_3007.jpeg  person334_bacteria_1544.jpeg\n",
            "person1072_virus_1775.jpeg     person334_bacteria_1545.jpeg\n",
            "person1073_bacteria_3008.jpeg  person334_virus_689.jpeg\n",
            "person1073_bacteria_3011.jpeg  person335_virus_690.jpeg\n",
            "person1073_virus_1776.jpeg     person336_bacteria_1548.jpeg\n",
            "person1074_bacteria_3012.jpeg  person336_bacteria_1549.jpeg\n",
            "person1074_bacteria_3014.jpeg  person336_bacteria_1550.jpeg\n",
            "person1075_bacteria_3015.jpeg  person336_bacteria_1551.jpeg\n",
            "person1076_bacteria_3016.jpeg  person336_bacteria_1552.jpeg\n",
            "person1077_bacteria_3017.jpeg  person336_bacteria_1553.jpeg\n",
            "person1077_virus_1787.jpeg     person337_bacteria_1554.jpeg\n",
            "person1078_bacteria_3018.jpeg  person337_bacteria_1557.jpeg\n",
            "person1078_virus_1788.jpeg     person337_bacteria_1558.jpeg\n",
            "person1079_bacteria_3019.jpeg  person337_bacteria_1560.jpeg\n",
            "person1079_virus_1789.jpeg     person337_bacteria_1561.jpeg\n",
            "person107_virus_197.jpeg       person337_bacteria_1562.jpeg\n",
            "person1080_bacteria_3020.jpeg  person337_bacteria_1563.jpeg\n",
            "person1080_virus_1791.jpeg     person337_bacteria_1564.jpeg\n",
            "person1081_bacteria_3021.jpeg  person337_bacteria_1565.jpeg\n",
            "person1081_virus_1793.jpeg     person337_bacteria_1566.jpeg\n",
            "person1082_bacteria_3022.jpeg  person338_bacteria_1567.jpeg\n",
            "person1082_virus_1794.jpeg     person338_bacteria_1568.jpeg\n",
            "person1083_bacteria_3023.jpeg  person338_virus_694.jpeg\n",
            "person1083_virus_1795.jpeg     person339_bacteria_1572.jpeg\n",
            "person1084_bacteria_3024.jpeg  person339_bacteria_1573.jpeg\n",
            "person1084_virus_1796.jpeg     person339_bacteria_1574.jpeg\n",
            "person1085_bacteria_3025.jpeg  person339_virus_695.jpeg\n",
            "person1085_virus_1797.jpeg     person33_bacteria_169.jpeg\n",
            "person1086_bacteria_3026.jpeg  person33_bacteria_172.jpeg\n",
            "person1086_virus_1798.jpeg     person33_bacteria_173.jpeg\n",
            "person1087_bacteria_3027.jpeg  person33_bacteria_174.jpeg\n",
            "person1087_virus_1799.jpeg     person33_bacteria_175.jpeg\n",
            "person1088_bacteria_3028.jpeg  person340_bacteria_1575.jpeg\n",
            "person1088_virus_1800.jpeg     person340_virus_698.jpeg\n",
            "person1089_bacteria_3029.jpeg  person341_bacteria_1577.jpeg\n",
            "person1089_virus_1808.jpeg     person341_virus_699.jpeg\n",
            "person108_virus_199.jpeg       person342_virus_701.jpeg\n",
            "person108_virus_200.jpeg       person342_virus_702.jpeg\n",
            "person108_virus_201.jpeg       person343_bacteria_1583.jpeg\n",
            "person1090_virus_1809.jpeg     person343_bacteria_1584.jpeg\n",
            "person1091_bacteria_3031.jpeg  person343_virus_704.jpeg\n",
            "person1091_virus_1810.jpeg     person344_bacteria_1585.jpeg\n",
            "person1092_bacteria_3032.jpeg  person344_virus_705.jpeg\n",
            "person1092_virus_1811.jpeg     person346_bacteria_1590.jpeg\n",
            "person1093_bacteria_3033.jpeg  person346_virus_708.jpeg\n",
            "person1094_virus_1814.jpeg     person346_virus_709.jpeg\n",
            "person1095_virus_1815.jpeg     person347_bacteria_1594.jpeg\n",
            "person1096_bacteria_3037.jpeg  person347_bacteria_1595.jpeg\n",
            "person1096_virus_1816.jpeg     person347_bacteria_1597.jpeg\n",
            "person1097_bacteria_3038.jpeg  person347_bacteria_1599.jpeg\n",
            "person1097_virus_1817.jpeg     person348_bacteria_1601.jpeg\n",
            "person1098_bacteria_3039.jpeg  person348_bacteria_1602.jpeg\n",
            "person1098_virus_1818.jpeg     person348_bacteria_1603.jpeg\n",
            "person1099_bacteria_3040.jpeg  person348_bacteria_1604.jpeg\n",
            "person1099_virus_1819.jpeg     person348_virus_711.jpeg\n",
            "person109_virus_203.jpeg       person348_virus_714.jpeg\n",
            "person10_bacteria_43.jpeg      person348_virus_715.jpeg\n",
            "person1100_bacteria_3041.jpeg  person348_virus_716.jpeg\n",
            "person1100_virus_1820.jpeg     person348_virus_717.jpeg\n",
            "person1101_bacteria_3042.jpeg  person348_virus_719.jpeg\n",
            "person1102_bacteria_3043.jpeg  person348_virus_720.jpeg\n",
            "person1102_virus_1822.jpeg     person348_virus_721.jpeg\n",
            "person1103_bacteria_3044.jpeg  person348_virus_723.jpeg\n",
            "person1103_virus_1825.jpeg     person349_bacteria_1605.jpeg\n",
            "person1104_virus_1826.jpeg     person349_bacteria_1606.jpeg\n",
            "person1105_bacteria_3046.jpeg  person349_bacteria_1607.jpeg\n",
            "person1106_virus_1829.jpeg     person349_virus_724.jpeg\n",
            "person1107_bacteria_3048.jpeg  person34_bacteria_176.jpeg\n",
            "person1107_virus_1831.jpeg     person350_virus_725.jpeg\n",
            "person1107_virus_1832.jpeg     person351_bacteria_1617.jpeg\n",
            "person1108_bacteria_3049.jpeg  person351_bacteria_1619.jpeg\n",
            "person1108_virus_1833.jpeg     person351_bacteria_1620.jpeg\n",
            "person1109_bacteria_3050.jpeg  person351_bacteria_1621.jpeg\n",
            "person110_virus_205.jpeg       person351_bacteria_1622.jpeg\n",
            "person110_virus_206.jpeg       person351_bacteria_1623.jpeg\n",
            "person110_virus_207.jpeg       person351_bacteria_1624.jpeg\n",
            "person110_virus_208.jpeg       person351_virus_726.jpeg\n",
            "person1110_bacteria_3051.jpeg  person352_bacteria_1625.jpeg\n",
            "person1110_virus_1835.jpeg     person353_bacteria_1626.jpeg\n",
            "person1111_bacteria_3052.jpeg  person353_bacteria_1628.jpeg\n",
            "person1111_virus_1836.jpeg     person353_virus_728.jpeg\n",
            "person1112_bacteria_3053.jpeg  person354_bacteria_1632.jpeg\n",
            "person1112_virus_1837.jpeg     person354_bacteria_1633.jpeg\n",
            "person1113_virus_1838.jpeg     person354_bacteria_1634.jpeg\n",
            "person1114_bacteria_3055.jpeg  person354_bacteria_1635.jpeg\n",
            "person1115_bacteria_3056.jpeg  person354_virus_729.jpeg\n",
            "person1115_virus_1840.jpeg     person355_bacteria_1637.jpeg\n",
            "person1116_virus_1841.jpeg     person355_virus_730.jpeg\n",
            "person1118_bacteria_3059.jpeg  person355_virus_731.jpeg\n",
            "person1119_virus_1844.jpeg     person356_bacteria_1638.jpeg\n",
            "person111_virus_209.jpeg       person356_virus_733.jpeg\n",
            "person111_virus_210.jpeg       person357_bacteria_1639.jpeg\n",
            "person111_virus_212.jpeg       person357_bacteria_1640.jpeg\n",
            "person1120_virus_1845.jpeg     person357_virus_734.jpeg\n",
            "person1121_virus_1846.jpeg     person357_virus_735.jpeg\n",
            "person1122_bacteria_3063.jpeg  person357_virus_736.jpeg\n",
            "person1122_virus_1847.jpeg     person358_virus_737.jpeg\n",
            "person1123_virus_1848.jpeg     person359_bacteria_1642.jpeg\n",
            "person1124_bacteria_3065.jpeg  person359_bacteria_1643.jpeg\n",
            "person1124_virus_1851.jpeg     person359_bacteria_1644.jpeg\n",
            "person1125_bacteria_3066.jpeg  person359_bacteria_1645.jpeg\n",
            "person1125_virus_1852.jpeg     person359_bacteria_1646.jpeg\n",
            "person1126_virus_1853.jpeg     person359_virus_738.jpeg\n",
            "person1127_bacteria_3068.jpeg  person35_bacteria_178.jpeg\n",
            "person1127_virus_1854.jpeg     person35_bacteria_180.jpeg\n",
            "person1128_bacteria_3069.jpeg  person35_bacteria_181.jpeg\n",
            "person1129_bacteria_3070.jpeg  person360_bacteria_1647.jpeg\n",
            "person1129_virus_1857.jpeg     person360_virus_739.jpeg\n",
            "person112_virus_213.jpeg       person361_bacteria_1651.jpeg\n",
            "person1130_bacteria_3072.jpeg  person361_virus_740.jpeg\n",
            "person1130_virus_1860.jpeg     person362_bacteria_1652.jpeg\n",
            "person1131_bacteria_3073.jpeg  person362_virus_741.jpeg\n",
            "person1132_virus_1863.jpeg     person363_bacteria_1653.jpeg\n",
            "person1133_bacteria_3075.jpeg  person363_bacteria_1654.jpeg\n",
            "person1133_virus_1865.jpeg     person363_bacteria_1655.jpeg\n",
            "person1134_bacteria_3076.jpeg  person363_virus_742.jpeg\n",
            "person1135_bacteria_3077.jpeg  person364_bacteria_1656.jpeg\n",
            "person1136_bacteria_3078.jpeg  person364_bacteria_1657.jpeg\n",
            "person1137_virus_1876.jpeg     person364_bacteria_1658.jpeg\n",
            "person1138_bacteria_3080.jpeg  person364_bacteria_1659.jpeg\n",
            "person1138_virus_1877.jpeg     person364_bacteria_1660.jpeg\n",
            "person1138_virus_1879.jpeg     person364_virus_743.jpeg\n",
            "person1139_bacteria_3081.jpeg  person365_virus_745.jpeg\n",
            "person1139_bacteria_3082.jpeg  person366_bacteria_1664.jpeg\n",
            "person1139_virus_1882.jpeg     person366_virus_746.jpeg\n",
            "person113_virus_215.jpeg       person367_bacteria_1665.jpeg\n",
            "person113_virus_216.jpeg       person367_virus_747.jpeg\n",
            "person1140_bacteria_3083.jpeg  person368_bacteria_1666.jpeg\n",
            "person1140_virus_1885.jpeg     person368_bacteria_1667.jpeg\n",
            "person1141_bacteria_3084.jpeg  person368_bacteria_1668.jpeg\n",
            "person1141_bacteria_3085.jpeg  person368_bacteria_1672.jpeg\n",
            "person1141_virus_1886.jpeg     person368_bacteria_1678.jpeg\n",
            "person1141_virus_1890.jpeg     person368_virus_748.jpeg\n",
            "person1142_bacteria_3086.jpeg  person369_bacteria_1680.jpeg\n",
            "person1142_virus_1892.jpeg     person369_virus_750.jpeg\n",
            "person1143_virus_1896.jpeg     person36_bacteria_182.jpeg\n",
            "person1143_virus_1897.jpeg     person36_bacteria_183.jpeg\n",
            "person1144_bacteria_3089.jpeg  person36_bacteria_184.jpeg\n",
            "person1145_bacteria_3090.jpeg  person36_bacteria_185.jpeg\n",
            "person1145_virus_1902.jpeg     person370_bacteria_1687.jpeg\n",
            "person1145_virus_1905.jpeg     person370_bacteria_1688.jpeg\n",
            "person1145_virus_1906.jpeg     person370_bacteria_1689.jpeg\n",
            "person1146_bacteria_3091.jpeg  person370_bacteria_1690.jpeg\n",
            "person1147_virus_1917.jpeg     person370_bacteria_1691.jpeg\n",
            "person1147_virus_1919.jpeg     person370_bacteria_1692.jpeg\n",
            "person1147_virus_1920.jpeg     person370_virus_752.jpeg\n",
            "person1149_bacteria_3094.jpeg  person370_virus_753.jpeg\n",
            "person1149_virus_1924.jpeg     person371_bacteria_1694.jpeg\n",
            "person1149_virus_1925.jpeg     person371_bacteria_1695.jpeg\n",
            "person114_virus_217.jpeg       person371_bacteria_1696.jpeg\n",
            "person1150_bacteria_3095.jpeg  person371_bacteria_1698.jpeg\n",
            "person1151_virus_1928.jpeg     person371_bacteria_1699.jpeg\n",
            "person1152_virus_1930.jpeg     person371_bacteria_1700.jpeg\n",
            "person1153_virus_1932.jpeg     person371_bacteria_1701.jpeg\n",
            "person1154_bacteria_3099.jpeg  person371_bacteria_1702.jpeg\n",
            "person1154_virus_1933.jpeg     person371_bacteria_1703.jpeg\n",
            "person1155_bacteria_3100.jpeg  person371_virus_754.jpeg\n",
            "person1155_virus_1934.jpeg     person372_bacteria_1704.jpeg\n",
            "person1156_bacteria_3101.jpeg  person372_bacteria_1705.jpeg\n",
            "person1156_virus_1935.jpeg     person372_bacteria_1706.jpeg\n",
            "person1156_virus_1936.jpeg     person372_virus_755.jpeg\n",
            "person1157_bacteria_3102.jpeg  person373_bacteria_1707.jpeg\n",
            "person1157_virus_1937.jpeg     person373_bacteria_1708.jpeg\n",
            "person1158_bacteria_3103.jpeg  person373_bacteria_1709.jpeg\n",
            "person1158_virus_1938.jpeg     person373_virus_756.jpeg\n",
            "person1158_virus_1940.jpeg     person374_bacteria_1710.jpeg\n",
            "person1158_virus_1941.jpeg     person374_bacteria_1711.jpeg\n",
            "person1158_virus_1942.jpeg     person374_bacteria_1712.jpeg\n",
            "person1158_virus_1943.jpeg     person374_virus_757.jpeg\n",
            "person1159_bacteria_3104.jpeg  person375_bacteria_1713.jpeg\n",
            "person1159_virus_1944.jpeg     person375_virus_758.jpeg\n",
            "person1159_virus_1945.jpeg     person376_bacteria_1715.jpeg\n",
            "person1159_virus_1946.jpeg     person376_bacteria_1716.jpeg\n",
            "person115_virus_218.jpeg       person376_virus_759.jpeg\n",
            "person115_virus_219.jpeg       person377_bacteria_1717.jpeg\n",
            "person1160_bacteria_3105.jpeg  person377_bacteria_1718.jpeg\n",
            "person1160_virus_1947.jpeg     person377_virus_760.jpeg\n",
            "person1161_virus_1948.jpeg     person378_virus_761.jpeg\n",
            "person1162_bacteria_3107.jpeg  person379_bacteria_1721.jpeg\n",
            "person1162_virus_1949.jpeg     person379_bacteria_1722.jpeg\n",
            "person1162_virus_1950.jpeg     person379_virus_762.jpeg\n",
            "person1163_virus_1951.jpeg     person37_bacteria_186.jpeg\n",
            "person1164_bacteria_3110.jpeg  person37_bacteria_187.jpeg\n",
            "person1164_virus_1952.jpeg     person37_bacteria_188.jpeg\n",
            "person1164_virus_1955.jpeg     person37_bacteria_189.jpeg\n",
            "person1164_virus_1956.jpeg     person380_virus_763.jpeg\n",
            "person1164_virus_1957.jpeg     person381_bacteria_1730.jpeg\n",
            "person1164_virus_1958.jpeg     person381_bacteria_1731.jpeg\n",
            "person1165_bacteria_3111.jpeg  person382_bacteria_1737.jpeg\n",
            "person1165_virus_1959.jpeg     person382_bacteria_1738.jpeg\n",
            "person1167_bacteria_3113.jpeg  person382_bacteria_1739.jpeg\n",
            "person1168_bacteria_3114.jpeg  person382_bacteria_1740.jpeg\n",
            "person1168_bacteria_3115.jpeg  person382_bacteria_1741.jpeg\n",
            "person1168_virus_1965.jpeg     person382_bacteria_1742.jpeg\n",
            "person1168_virus_1966.jpeg     person382_bacteria_1745.jpeg\n",
            "person1169_virus_1968.jpeg     person382_bacteria_1746.jpeg\n",
            "person116_virus_221.jpeg       person383_bacteria_1747.jpeg\n",
            "person1170_bacteria_3117.jpeg  person383_bacteria_1748.jpeg\n",
            "person1170_virus_1969.jpeg     person383_bacteria_1749.jpeg\n",
            "person1170_virus_1970.jpeg     person383_bacteria_1750.jpeg\n",
            "person1171_bacteria_3118.jpeg  person383_bacteria_1751.jpeg\n",
            "person1172_bacteria_3119.jpeg  person383_bacteria_1752.jpeg\n",
            "person1172_virus_1977.jpeg     person383_bacteria_1753.jpeg\n",
            "person1173_virus_1978.jpeg     person383_bacteria_1754.jpeg\n",
            "person1174_virus_1980.jpeg     person383_virus_767.jpeg\n",
            "person1175_bacteria_3122.jpeg  person384_bacteria_1755.jpeg\n",
            "person1175_virus_1981.jpeg     person384_virus_769.jpeg\n",
            "person1176_bacteria_3123.jpeg  person385_bacteria_1765.jpeg\n",
            "person1176_bacteria_3124.jpeg  person385_bacteria_1766.jpeg\n",
            "person1176_virus_1996.jpeg     person385_virus_770.jpeg\n",
            "person1176_virus_1997.jpeg     person386_virus_771.jpeg\n",
            "person1176_virus_1998.jpeg     person387_bacteria_1769.jpeg\n",
            "person1177_bacteria_3125.jpeg  person387_bacteria_1770.jpeg\n",
            "person1177_virus_1999.jpeg     person387_bacteria_1772.jpeg\n",
            "person1177_virus_2000.jpeg     person387_virus_772.jpeg\n",
            "person1177_virus_2001.jpeg     person388_virus_775.jpeg\n",
            "person1177_virus_2002.jpeg     person388_virus_777.jpeg\n",
            "person1178_bacteria_3126.jpeg  person389_bacteria_1778.jpeg\n",
            "person1178_virus_2004.jpeg     person389_bacteria_1780.jpeg\n",
            "person1179_bacteria_3127.jpeg  person389_virus_778.jpeg\n",
            "person1179_virus_2006.jpeg     person38_bacteria_190.jpeg\n",
            "person117_virus_223.jpeg       person38_bacteria_191.jpeg\n",
            "person1180_bacteria_3128.jpeg  person38_bacteria_192.jpeg\n",
            "person1180_virus_2007.jpeg     person38_bacteria_193.jpeg\n",
            "person1180_virus_2008.jpeg     person38_bacteria_194.jpeg\n",
            "person1180_virus_2009.jpeg     person38_bacteria_195.jpeg\n",
            "person1180_virus_2010.jpeg     person38_bacteria_196.jpeg\n",
            "person1180_virus_2011.jpeg     person390_bacteria_1781.jpeg\n",
            "person1180_virus_2012.jpeg     person391_bacteria_1782.jpeg\n",
            "person1180_virus_2013.jpeg     person391_virus_781.jpeg\n",
            "person1180_virus_2014.jpeg     person392_bacteria_1783.jpeg\n",
            "person1180_virus_2015.jpeg     person392_bacteria_1784.jpeg\n",
            "person1181_bacteria_3129.jpeg  person392_bacteria_1785.jpeg\n",
            "person1181_virus_2016.jpeg     person392_bacteria_1786.jpeg\n",
            "person1182_virus_2017.jpeg     person392_bacteria_1787.jpeg\n",
            "person1183_bacteria_3131.jpeg  person392_virus_782.jpeg\n",
            "person1183_virus_2018.jpeg     person393_bacteria_1789.jpeg\n",
            "person1184_bacteria_3132.jpeg  person393_virus_784.jpeg\n",
            "person1184_virus_2019.jpeg     person394_bacteria_1791.jpeg\n",
            "person1185_bacteria_3133.jpeg  person394_bacteria_1792.jpeg\n",
            "person1186_bacteria_3134.jpeg  person394_virus_786.jpeg\n",
            "person1186_bacteria_3135.jpeg  person395_bacteria_1794.jpeg\n",
            "person1186_virus_2021.jpeg     person395_bacteria_1795.jpeg\n",
            "person1186_virus_2022.jpeg     person395_virus_788.jpeg\n",
            "person1187_bacteria_3136.jpeg  person396_bacteria_1796.jpeg\n",
            "person1187_virus_2023.jpeg     person396_virus_789.jpeg\n",
            "person1188_bacteria_3137.jpeg  person397_bacteria_1797.jpeg\n",
            "person1188_virus_2024.jpeg     person397_virus_790.jpeg\n",
            "person118_virus_224.jpeg       person398_bacteria_1799.jpeg\n",
            "person1190_virus_2031.jpeg     person398_bacteria_1801.jpeg\n",
            "person1191_virus_2032.jpeg     person399_bacteria_1804.jpeg\n",
            "person1192_bacteria_3141.jpeg  person399_bacteria_1805.jpeg\n",
            "person1193_virus_2034.jpeg     person399_bacteria_1806.jpeg\n",
            "person1194_bacteria_3143.jpeg  person399_virus_793.jpeg\n",
            "person1195_bacteria_3144.jpeg  person39_bacteria_198.jpeg\n",
            "person1196_bacteria_3146.jpeg  person39_bacteria_200.jpeg\n",
            "person1197_bacteria_3147.jpeg  person3_bacteria_10.jpeg\n",
            "person1197_virus_2039.jpeg     person3_bacteria_11.jpeg\n",
            "person1198_bacteria_3148.jpeg  person3_bacteria_12.jpeg\n",
            "person1199_bacteria_3149.jpeg  person3_bacteria_13.jpeg\n",
            "person119_virus_225.jpeg       person400_bacteria_1807.jpeg\n",
            "person11_bacteria_45.jpeg      person400_virus_794.jpeg\n",
            "person1200_virus_2042.jpeg     person401_bacteria_1808.jpeg\n",
            "person1201_bacteria_3151.jpeg  person401_virus_795.jpeg\n",
            "person1202_bacteria_3152.jpeg  person401_virus_797.jpeg\n",
            "person1202_bacteria_3153.jpeg  person401_virus_798.jpeg\n",
            "person1202_virus_2045.jpeg     person402_bacteria_1809.jpeg\n",
            "person1203_bacteria_3154.jpeg  person402_bacteria_1810.jpeg\n",
            "person1203_bacteria_3155.jpeg  person402_bacteria_1811.jpeg\n",
            "person1204_bacteria_3156.jpeg  person402_bacteria_1812.jpeg\n",
            "person1205_bacteria_3157.jpeg  person402_bacteria_1813.jpeg\n",
            "person1206_bacteria_3158.jpeg  person402_virus_799.jpeg\n",
            "person1206_virus_2051.jpeg     person402_virus_801.jpeg\n",
            "person1207_bacteria_3159.jpeg  person403_bacteria_1814.jpeg\n",
            "person1208_bacteria_3160.jpeg  person403_virus_803.jpeg\n",
            "person1209_bacteria_3161.jpeg  person405_bacteria_1817.jpeg\n",
            "person120_virus_226.jpeg       person405_virus_805.jpeg\n",
            "person1211_bacteria_3163.jpeg  person406_bacteria_1818.jpeg\n",
            "person1211_virus_2056.jpeg     person406_bacteria_1819.jpeg\n",
            "person1212_bacteria_3164.jpeg  person406_bacteria_1820.jpeg\n",
            "person1212_virus_2057.jpeg     person407_bacteria_1822.jpeg\n",
            "person1213_virus_2058.jpeg     person407_virus_811.jpeg\n",
            "person1214_bacteria_3166.jpeg  person407_virus_812.jpeg\n",
            "person1214_virus_2059.jpeg     person407_virus_814.jpeg\n",
            "person1215_bacteria_3167.jpeg  person408_bacteria_1823.jpeg\n",
            "person1216_bacteria_3168.jpeg  person408_virus_815.jpeg\n",
            "person1216_virus_2062.jpeg     person409_bacteria_1824.jpeg\n",
            "person1217_bacteria_3169.jpeg  person409_virus_816.jpeg\n",
            "person1217_virus_2063.jpeg     person409_virus_818.jpeg\n",
            "person1218_bacteria_3171.jpeg  person409_virus_820.jpeg\n",
            "person1218_virus_2066.jpeg     person40_bacteria_202.jpeg\n",
            "person1219_bacteria_3172.jpeg  person40_bacteria_203.jpeg\n",
            "person1219_virus_2067.jpeg     person40_bacteria_204.jpeg\n",
            "person1220_bacteria_3173.jpeg  person40_bacteria_205.jpeg\n",
            "person1220_bacteria_3174.jpeg  person410_bacteria_1825.jpeg\n",
            "person1220_virus_2068.jpeg     person410_virus_821.jpeg\n",
            "person1222_bacteria_3177.jpeg  person411_bacteria_1826.jpeg\n",
            "person1222_virus_2071.jpeg     person412_bacteria_1827.jpeg\n",
            "person1223_bacteria_3178.jpeg  person413_bacteria_1828.jpeg\n",
            "person1223_virus_2073.jpeg     person413_bacteria_1829.jpeg\n",
            "person1224_virus_2074.jpeg     person413_bacteria_1830.jpeg\n",
            "person1225_bacteria_3180.jpeg  person413_bacteria_1831.jpeg\n",
            "person1225_virus_2076.jpeg     person413_bacteria_1832.jpeg\n",
            "person1226_virus_2077.jpeg     person413_bacteria_1833.jpeg\n",
            "person1227_bacteria_3182.jpeg  person413_bacteria_1834.jpeg\n",
            "person1227_virus_2078.jpeg     person413_virus_844.jpeg\n",
            "person1228_bacteria_3183.jpeg  person414_bacteria_1835.jpeg\n",
            "person1228_virus_2079.jpeg     person414_virus_845.jpeg\n",
            "person1229_virus_2080.jpeg     person415_bacteria_1837.jpeg\n",
            "person122_virus_229.jpeg       person415_bacteria_1838.jpeg\n",
            "person1230_bacteria_3185.jpeg  person415_bacteria_1839.jpeg\n",
            "person1230_virus_2081.jpeg     person415_virus_847.jpeg\n",
            "person1231_bacteria_3186.jpeg  person416_bacteria_1840.jpeg\n",
            "person1231_virus_2088.jpeg     person416_virus_849.jpeg\n",
            "person1232_virus_2089.jpeg     person417_bacteria_1841.jpeg\n",
            "person1233_bacteria_3188.jpeg  person417_bacteria_1842.jpeg\n",
            "person1233_virus_2090.jpeg     person417_virus_850.jpeg\n",
            "person1234_bacteria_3189.jpeg  person418_bacteria_1843.jpeg\n",
            "person1234_bacteria_3190.jpeg  person418_virus_852.jpeg\n",
            "person1234_virus_2093.jpeg     person419_bacteria_1844.jpeg\n",
            "person1235_bacteria_3191.jpeg  person419_bacteria_1845.jpeg\n",
            "person1235_virus_2095.jpeg     person419_virus_855.jpeg\n",
            "person1236_bacteria_3192.jpeg  person419_virus_857.jpeg\n",
            "person1236_virus_2096.jpeg     person419_virus_859.jpeg\n",
            "person1237_bacteria_3193.jpeg  person419_virus_861.jpeg\n",
            "person1237_virus_2097.jpeg     person41_bacteria_206.jpeg\n",
            "person1238_bacteria_3194.jpeg  person41_bacteria_207.jpeg\n",
            "person1238_virus_2098.jpeg     person41_bacteria_208.jpeg\n",
            "person1239_bacteria_3195.jpeg  person41_bacteria_209.jpeg\n",
            "person1239_virus_2099.jpeg     person41_bacteria_210.jpeg\n",
            "person123_virus_230.jpeg       person41_bacteria_211.jpeg\n",
            "person1240_bacteria_3196.jpeg  person420_bacteria_1847.jpeg\n",
            "person1241_bacteria_3197.jpeg  person420_bacteria_1848.jpeg\n",
            "person1241_virus_2106.jpeg     person420_bacteria_1849.jpeg\n",
            "person1242_bacteria_3198.jpeg  person420_bacteria_1850.jpeg\n",
            "person1242_virus_2108.jpeg     person420_bacteria_1851.jpeg\n",
            "person1242_virus_2109.jpeg     person421_bacteria_1852.jpeg\n",
            "person1243_bacteria_3199.jpeg  person421_virus_866.jpeg\n",
            "person1243_virus_2110.jpeg     person422_bacteria_1853.jpeg\n",
            "person1244_bacteria_3200.jpeg  person422_virus_867.jpeg\n",
            "person1244_virus_2111.jpeg     person422_virus_868.jpeg\n",
            "person1246_bacteria_3202.jpeg  person423_bacteria_1854.jpeg\n",
            "person1247_bacteria_3203.jpeg  person423_bacteria_1855.jpeg\n",
            "person1247_virus_2115.jpeg     person423_bacteria_1856.jpeg\n",
            "person1248_bacteria_3204.jpeg  person423_bacteria_1857.jpeg\n",
            "person1248_virus_2117.jpeg     person423_bacteria_1858.jpeg\n",
            "person1249_bacteria_3205.jpeg  person423_virus_869.jpeg\n",
            "person1249_virus_2118.jpeg     person424_bacteria_1859.jpeg\n",
            "person124_virus_231.jpeg       person425_bacteria_1860.jpeg\n",
            "person124_virus_233.jpeg       person425_virus_871.jpeg\n",
            "person124_virus_234.jpeg       person426_bacteria_1861.jpeg\n",
            "person124_virus_236.jpeg       person426_bacteria_1862.jpeg\n",
            "person124_virus_237.jpeg       person426_bacteria_1863.jpeg\n",
            "person124_virus_238.jpeg       person426_virus_873.jpeg\n",
            "person124_virus_239.jpeg       person427_bacteria_1864.jpeg\n",
            "person124_virus_240.jpeg       person427_bacteria_1865.jpeg\n",
            "person124_virus_242.jpeg       person427_bacteria_1866.jpeg\n",
            "person124_virus_244.jpeg       person427_bacteria_1867.jpeg\n",
            "person124_virus_245.jpeg       person427_bacteria_1868.jpeg\n",
            "person124_virus_246.jpeg       person427_virus_875.jpeg\n",
            "person124_virus_247.jpeg       person428_bacteria_1869.jpeg\n",
            "person124_virus_249.jpeg       person428_virus_876.jpeg\n",
            "person124_virus_250.jpeg       person429_bacteria_1870.jpeg\n",
            "person124_virus_251.jpeg       person429_virus_877.jpeg\n",
            "person1250_bacteria_3207.jpeg  person430_bacteria_1871.jpeg\n",
            "person1251_bacteria_3208.jpeg  person430_virus_879.jpeg\n",
            "person1252_bacteria_3209.jpeg  person431_bacteria_1872.jpeg\n",
            "person1252_virus_2124.jpeg     person431_virus_880.jpeg\n",
            "person1253_bacteria_3211.jpeg  person432_virus_881.jpeg\n",
            "person1253_virus_2129.jpeg     person433_bacteria_1874.jpeg\n",
            "person1254_virus_2130.jpeg     person433_bacteria_1875.jpeg\n",
            "person1255_virus_2132.jpeg     person433_bacteria_1876.jpeg\n",
            "person1256_bacteria_3214.jpeg  person433_virus_882.jpeg\n",
            "person1257_bacteria_3215.jpeg  person434_bacteria_1877.jpeg\n",
            "person1258_bacteria_3216.jpeg  person434_virus_883.jpeg\n",
            "person1258_virus_2138.jpeg     person434_virus_884.jpeg\n",
            "person1259_bacteria_3217.jpeg  person435_bacteria_1879.jpeg\n",
            "person1259_virus_2139.jpeg     person435_virus_885.jpeg\n",
            "person125_virus_254.jpeg       person436_bacteria_1883.jpeg\n",
            "person1260_bacteria_3218.jpeg  person436_virus_886.jpeg\n",
            "person1260_virus_2140.jpeg     person437_bacteria_1884.jpeg\n",
            "person1261_bacteria_3219.jpeg  person437_bacteria_1885.jpeg\n",
            "person1261_virus_2145.jpeg     person437_bacteria_1886.jpeg\n",
            "person1261_virus_2147.jpeg     person437_bacteria_1887.jpeg\n",
            "person1261_virus_2148.jpeg     person437_bacteria_1888.jpeg\n",
            "person1262_bacteria_3220.jpeg  person437_virus_888.jpeg\n",
            "person1263_bacteria_3221.jpeg  person438_bacteria_1889.jpeg\n",
            "person1264_bacteria_3222.jpeg  person438_bacteria_1890.jpeg\n",
            "person1264_virus_2155.jpeg     person438_bacteria_1891.jpeg\n",
            "person1265_bacteria_3223.jpeg  person438_bacteria_1892.jpeg\n",
            "person1265_virus_2156.jpeg     person438_bacteria_1893.jpeg\n",
            "person1266_bacteria_3224.jpeg  person438_virus_889.jpeg\n",
            "person1266_bacteria_3225.jpeg  person439_bacteria_1895.jpeg\n",
            "person1266_virus_2158.jpeg     person439_virus_890.jpeg\n",
            "person1267_bacteria_3226.jpeg  person439_virus_891.jpeg\n",
            "person1267_virus_2160.jpeg     person43_bacteria_213.jpeg\n",
            "person1268_bacteria_3227.jpeg  person43_bacteria_216.jpeg\n",
            "person1268_bacteria_3228.jpeg  person440_bacteria_1897.jpeg\n",
            "person1268_virus_2161.jpeg     person440_bacteria_1898.jpeg\n",
            "person1269_bacteria_3229.jpeg  person440_virus_893.jpeg\n",
            "person1269_virus_2162.jpeg     person441_bacteria_1900.jpeg\n",
            "person126_virus_255.jpeg       person441_bacteria_1902.jpeg\n",
            "person1270_bacteria_3230.jpeg  person441_bacteria_1903.jpeg\n",
            "person1270_virus_2163.jpeg     person441_bacteria_1904.jpeg\n",
            "person1271_bacteria_3231.jpeg  person441_bacteria_1905.jpeg\n",
            "person1271_virus_2164.jpeg     person441_bacteria_1907.jpeg\n",
            "person1272_bacteria_3232.jpeg  person441_bacteria_1910.jpeg\n",
            "person1272_virus_2190.jpeg     person441_bacteria_1911.jpeg\n",
            "person1273_bacteria_3233.jpeg  person441_bacteria_1912.jpeg\n",
            "person1273_bacteria_3234.jpeg  person441_bacteria_1914.jpeg\n",
            "person1273_virus_2191.jpeg     person441_bacteria_1915.jpeg\n",
            "person1274_bacteria_3235.jpeg  person441_bacteria_1916.jpeg\n",
            "person1274_bacteria_3236.jpeg  person441_bacteria_1917.jpeg\n",
            "person1274_virus_2193.jpeg     person441_bacteria_1918.jpeg\n",
            "person1275_bacteria_3237.jpeg  person441_virus_894.jpeg\n",
            "person1276_bacteria_3239.jpeg  person441_virus_895.jpeg\n",
            "person1276_virus_2198.jpeg     person441_virus_896.jpeg\n",
            "person1277_bacteria_3240.jpeg  person441_virus_897.jpeg\n",
            "person1278_virus_2201.jpeg     person442_virus_898.jpeg\n",
            "person1279_bacteria_3242.jpeg  person442_virus_899.jpeg\n",
            "person1280_bacteria_3243.jpeg  person442_virus_900.jpeg\n",
            "person1281_bacteria_3244.jpeg  person442_virus_901.jpeg\n",
            "person1281_virus_2204.jpeg     person442_virus_902.jpeg\n",
            "person1282_bacteria_3245.jpeg  person442_virus_903.jpeg\n",
            "person1283_bacteria_3246.jpeg  person442_virus_904.jpeg\n",
            "person1283_virus_2206.jpeg     person442_virus_905.jpeg\n",
            "person1284_bacteria_3247.jpeg  person442_virus_906.jpeg\n",
            "person1284_virus_2207.jpeg     person443_bacteria_1923.jpeg\n",
            "person1285_virus_2208.jpeg     person443_bacteria_1924.jpeg\n",
            "person1286_bacteria_3249.jpeg  person443_bacteria_1926.jpeg\n",
            "person1286_virus_2209.jpeg     person443_virus_908.jpeg\n",
            "person1287_bacteria_3250.jpeg  person444_bacteria_1927.jpeg\n",
            "person1287_virus_2210.jpeg     person444_virus_911.jpeg\n",
            "person1288_bacteria_3251.jpeg  person445_bacteria_1928.jpeg\n",
            "person1288_virus_2211.jpeg     person445_bacteria_1929.jpeg\n",
            "person1289_bacteria_3252.jpeg  person445_bacteria_1930.jpeg\n",
            "person128_virus_261.jpeg       person445_virus_912.jpeg\n",
            "person1290_bacteria_3253.jpeg  person445_virus_913.jpeg\n",
            "person1290_virus_2215.jpeg     person445_virus_914.jpeg\n",
            "person1290_virus_2216.jpeg     person445_virus_915.jpeg\n",
            "person1291_virus_2217.jpeg     person445_virus_916.jpeg\n",
            "person1292_bacteria_3255.jpeg  person445_virus_917.jpeg\n",
            "person1292_virus_2218.jpeg     person445_virus_918.jpeg\n",
            "person1293_virus_2219.jpeg     person445_virus_919.jpeg\n",
            "person1294_bacteria_3257.jpeg  person446_bacteria_1931.jpeg\n",
            "person1294_virus_2221.jpeg     person446_virus_920.jpeg\n",
            "person1294_virus_2222.jpeg     person447_bacteria_1932.jpeg\n",
            "person1295_bacteria_3258.jpeg  person447_virus_921_1.jpeg\n",
            "person1295_virus_2223.jpeg     person447_virus_921.jpeg\n",
            "person1296_virus_2224.jpeg     person448_bacteria_1933.jpeg\n",
            "person1297_bacteria_3260.jpeg  person448_bacteria_1934.jpeg\n",
            "person1298_bacteria_3261.jpeg  person448_bacteria_1935.jpeg\n",
            "person1298_virus_2226.jpeg     person448_bacteria_1936.jpeg\n",
            "person1298_virus_2228.jpeg     person448_bacteria_1937.jpeg\n",
            "person12_bacteria_46.jpeg      person448_virus_922.jpeg\n",
            "person12_bacteria_47.jpeg      person449_bacteria_1938.jpeg\n",
            "person12_bacteria_48.jpeg      person449_bacteria_1939.jpeg\n",
            "person1300_bacteria_3264.jpeg  person449_bacteria_1940.jpeg\n",
            "person1300_virus_2240.jpeg     person44_bacteria_218.jpeg\n",
            "person1301_virus_2241.jpeg     person44_bacteria_219.jpeg\n",
            "person1302_bacteria_3266.jpeg  person450_bacteria_1941.jpeg\n",
            "person1303_bacteria_3267.jpeg  person450_virus_931.jpeg\n",
            "person1303_virus_2243.jpeg     person451_bacteria_1942.jpeg\n",
            "person1304_bacteria_3269.jpeg  person451_virus_932.jpeg\n",
            "person1305_bacteria_3271.jpeg  person452_bacteria_1943.jpeg\n",
            "person1306_bacteria_3272.jpeg  person453_virus_935.jpeg\n",
            "person1306_bacteria_3274.jpeg  person453_virus_936.jpeg\n",
            "person1306_bacteria_3275.jpeg  person454_bacteria_1945.jpeg\n",
            "person1306_bacteria_3276.jpeg  person454_virus_938.jpeg\n",
            "person1306_bacteria_3277.jpeg  person455_bacteria_1947.jpeg\n",
            "person1306_virus_2249.jpeg     person456_bacteria_1948.jpeg\n",
            "person1307_bacteria_3278.jpeg  person456_virus_943.jpeg\n",
            "person1307_virus_2251.jpeg     person457_bacteria_1949.jpeg\n",
            "person1308_bacteria_3280.jpeg  person457_virus_944.jpeg\n",
            "person1308_bacteria_3283.jpeg  person458_bacteria_1950.jpeg\n",
            "person1308_bacteria_3285.jpeg  person458_bacteria_1951.jpeg\n",
            "person1308_bacteria_3286.jpeg  person458_bacteria_1952.jpeg\n",
            "person1308_bacteria_3288.jpeg  person458_bacteria_1953.jpeg\n",
            "person1308_bacteria_3290.jpeg  person458_bacteria_1954.jpeg\n",
            "person1308_bacteria_3292.jpeg  person458_bacteria_1955.jpeg\n",
            "person1308_virus_2252.jpeg     person458_virus_945.jpeg\n",
            "person1308_virus_2253.jpeg     person459_bacteria_1956.jpeg\n",
            "person1309_bacteria_3294.jpeg  person459_bacteria_1957.jpeg\n",
            "person1309_virus_2254.jpeg     person459_virus_947.jpeg\n",
            "person130_virus_263.jpeg       person45_bacteria_220.jpeg\n",
            "person1310_bacteria_3295.jpeg  person45_bacteria_221.jpeg\n",
            "person1310_bacteria_3297.jpeg  person45_bacteria_222.jpeg\n",
            "person1310_bacteria_3300.jpeg  person460_bacteria_1958.jpeg\n",
            "person1310_bacteria_3301.jpeg  person460_virus_948.jpeg\n",
            "person1310_bacteria_3302.jpeg  person461_bacteria_1960.jpeg\n",
            "person1310_bacteria_3304.jpeg  person461_virus_949.jpeg\n",
            "person1310_virus_2255.jpeg     person461_virus_950.jpeg\n",
            "person1311_bacteria_3312.jpeg  person462_bacteria_1961.jpeg\n",
            "person1311_virus_2257.jpeg     person462_bacteria_1963.jpeg\n",
            "person1311_virus_2259.jpeg     person462_bacteria_1967.jpeg\n",
            "person1312_bacteria_3313.jpeg  person462_bacteria_1968.jpeg\n",
            "person1312_bacteria_3314.jpeg  person462_virus_951.jpeg\n",
            "person1312_bacteria_3316.jpeg  person463_bacteria_1971.jpeg\n",
            "person1312_bacteria_3317.jpeg  person463_virus_952.jpeg\n",
            "person1312_bacteria_3318.jpeg  person463_virus_953.jpeg\n",
            "person1312_bacteria_3319.jpeg  person464_bacteria_1974.jpeg\n",
            "person1312_virus_2261.jpeg     person464_bacteria_1975.jpeg\n",
            "person1313_bacteria_3320.jpeg  person464_virus_954.jpeg\n",
            "person1313_virus_2264.jpeg     person464_virus_956.jpeg\n",
            "person1314_virus_2266.jpeg     person465_bacteria_1976.jpeg\n",
            "person1314_virus_2268.jpeg     person465_bacteria_1977.jpeg\n",
            "person1314_virus_2269.jpeg     person465_bacteria_1979.jpeg\n",
            "person1315_bacteria_3322.jpeg  person465_bacteria_1980.jpeg\n",
            "person1315_virus_2270.jpeg     person465_bacteria_1981.jpeg\n",
            "person1316_bacteria_3326.jpeg  person465_bacteria_1982.jpeg\n",
            "person1316_virus_2271.jpeg     person465_virus_957.jpeg\n",
            "person1317_bacteria_3332.jpeg  person466_bacteria_1983.jpeg\n",
            "person1317_virus_2273.jpeg     person466_bacteria_1984.jpeg\n",
            "person1318_bacteria_3334.jpeg  person466_bacteria_1986.jpeg\n",
            "person1318_bacteria_3335.jpeg  person466_bacteria_1987.jpeg\n",
            "person1318_virus_2274.jpeg     person466_virus_960.jpeg\n",
            "person1319_virus_2276.jpeg     person467_bacteria_1988.jpeg\n",
            "person131_virus_265.jpeg       person467_bacteria_1989.jpeg\n",
            "person1320_bacteria_3339.jpeg  person467_virus_961.jpeg\n",
            "person1320_bacteria_3340.jpeg  person468_bacteria_1990.jpeg\n",
            "person1320_bacteria_3342.jpeg  person468_bacteria_1991.jpeg\n",
            "person1320_bacteria_3344.jpeg  person468_virus_963.jpeg\n",
            "person1320_bacteria_3345.jpeg  person469_bacteria_1992.jpeg\n",
            "person1320_bacteria_3346.jpeg  person469_bacteria_1993.jpeg\n",
            "person1320_bacteria_3347.jpeg  person469_bacteria_1994.jpeg\n",
            "person1320_bacteria_3348.jpeg  person469_bacteria_1995.jpeg\n",
            "person1320_bacteria_3350.jpeg  person469_virus_965.jpeg\n",
            "person1320_bacteria_3351.jpeg  person46_bacteria_224.jpeg\n",
            "person1320_bacteria_3352.jpeg  person46_bacteria_225.jpeg\n",
            "person1320_bacteria_3353.jpeg  person470_bacteria_1996.jpeg\n",
            "person1320_bacteria_3355.jpeg  person470_bacteria_1998.jpeg\n",
            "person1320_virus_2277.jpeg     person470_bacteria_1999.jpeg\n",
            "person1321_bacteria_3358.jpeg  person470_bacteria_2000.jpeg\n",
            "person1321_bacteria_3359.jpeg  person470_bacteria_2001.jpeg\n",
            "person1321_virus_2279.jpeg     person470_bacteria_2002.jpeg\n",
            "person1322_bacteria_3360.jpeg  person470_bacteria_2003.jpeg\n",
            "person1323_bacteria_3361.jpeg  person470_virus_966.jpeg\n",
            "person1323_bacteria_3362.jpeg  person471_bacteria_2004.jpeg\n",
            "person1323_bacteria_3363.jpeg  person471_bacteria_2005.jpeg\n",
            "person1323_virus_2282.jpeg     person471_bacteria_2006.jpeg\n",
            "person1323_virus_2283.jpeg     person471_virus_967.jpeg\n",
            "person1324_virus_2284.jpeg     person471_virus_968.jpeg\n",
            "person1324_virus_2285.jpeg     person472_bacteria_2007.jpeg\n",
            "person1325_bacteria_3366.jpeg  person472_bacteria_2008.jpeg\n",
            "person1325_virus_2287.jpeg     person472_bacteria_2010.jpeg\n",
            "person1326_bacteria_3372.jpeg  person472_bacteria_2014.jpeg\n",
            "person1327_bacteria_3373.jpeg  person472_bacteria_2015.jpeg\n",
            "person1327_bacteria_3374.jpeg  person472_virus_969.jpeg\n",
            "person1328_bacteria_3376.jpeg  person473_bacteria_2018.jpeg\n",
            "person1328_virus_2293.jpeg     person474_virus_971.jpeg\n",
            "person1328_virus_2294.jpeg     person475_bacteria_2020.jpeg\n",
            "person1328_virus_2295.jpeg     person475_bacteria_2021.jpeg\n",
            "person1329_bacteria_3377.jpeg  person475_bacteria_2022.jpeg\n",
            "person132_virus_266.jpeg       person475_bacteria_2023.jpeg\n",
            "person1331_bacteria_3380.jpeg  person475_bacteria_2024.jpeg\n",
            "person1331_virus_2299.jpeg     person475_bacteria_2025.jpeg\n",
            "person1332_virus_2300.jpeg     person475_virus_972.jpeg\n",
            "person1333_bacteria_3383.jpeg  person476_bacteria_2026.jpeg\n",
            "person1333_bacteria_3384.jpeg  person476_virus_973.jpeg\n",
            "person1333_bacteria_3385.jpeg  person477_bacteria_2028.jpeg\n",
            "person1333_bacteria_3386.jpeg  person477_bacteria_2029.jpeg\n",
            "person1333_virus_2301.jpeg     person477_bacteria_2030.jpeg\n",
            "person1336_virus_2306.jpeg     person477_bacteria_2031.jpeg\n",
            "person1337_virus_2307.jpeg     person478_bacteria_2032.jpeg\n",
            "person1338_bacteria_3394.jpeg  person478_bacteria_2035.jpeg\n",
            "person1338_bacteria_3395.jpeg  person478_virus_975.jpeg\n",
            "person1338_bacteria_3397.jpeg  person479_virus_978.jpeg\n",
            "person1338_virus_2308.jpeg     person47_bacteria_229.jpeg\n",
            "person1339_bacteria_3399.jpeg  person480_bacteria_2038.jpeg\n",
            "person1339_bacteria_3402.jpeg  person480_bacteria_2039.jpeg\n",
            "person133_virus_267.jpeg       person480_bacteria_2040.jpeg\n",
            "person1340_bacteria_3405.jpeg  person480_virus_981.jpeg\n",
            "person1340_virus_2311.jpeg     person480_virus_982.jpeg\n",
            "person1340_virus_2312.jpeg     person481_bacteria_2041.jpeg\n",
            "person1341_bacteria_3406.jpeg  person481_bacteria_2042.jpeg\n",
            "person1341_virus_2313.jpeg     person481_virus_983.jpeg\n",
            "person1342_bacteria_3407.jpeg  person482_bacteria_2043.jpeg\n",
            "person1342_virus_2315.jpeg     person482_bacteria_2044.jpeg\n",
            "person1343_bacteria_3409.jpeg  person482_bacteria_2045.jpeg\n",
            "person1343_bacteria_3411.jpeg  person482_virus_984.jpeg\n",
            "person1343_bacteria_3413.jpeg  person483_bacteria_2046.jpeg\n",
            "person1343_bacteria_3414.jpeg  person483_virus_985.jpeg\n",
            "person1343_bacteria_3415.jpeg  person484_virus_986.jpeg\n",
            "person1343_bacteria_3416.jpeg  person485_bacteria_2049.jpeg\n",
            "person1343_bacteria_3417.jpeg  person485_virus_988.jpeg\n",
            "person1343_bacteria_3418.jpeg  person486_bacteria_2051.jpeg\n",
            "person1343_bacteria_3419.jpeg  person486_bacteria_2052.jpeg\n",
            "person1343_virus_2316.jpeg     person486_bacteria_2053.jpeg\n",
            "person1343_virus_2317.jpeg     person486_bacteria_2054.jpeg\n",
            "person1344_bacteria_3421.jpeg  person486_virus_990.jpeg\n",
            "person1344_virus_2319.jpeg     person487_bacteria_2055.jpeg\n",
            "person1344_virus_2320.jpeg     person487_bacteria_2056.jpeg\n",
            "person1345_bacteria_3422.jpeg  person487_bacteria_2057.jpeg\n",
            "person1345_bacteria_3424.jpeg  person487_bacteria_2058.jpeg\n",
            "person1345_bacteria_3425.jpeg  person487_bacteria_2059.jpeg\n",
            "person1345_bacteria_3426.jpeg  person487_bacteria_2060.jpeg\n",
            "person1345_bacteria_3427.jpeg  person487_virus_991.jpeg\n",
            "person1345_bacteria_3428.jpeg  person488_bacteria_2061.jpeg\n",
            "person1345_virus_2321.jpeg     person488_bacteria_2062.jpeg\n",
            "person1346_bacteria_3430.jpeg  person488_virus_992.jpeg\n",
            "person1346_virus_2322.jpeg     person489_bacteria_2063.jpeg\n",
            "person1347_virus_2323.jpeg     person489_bacteria_2064.jpeg\n",
            "person1348_virus_2324.jpeg     person489_bacteria_2065.jpeg\n",
            "person1348_virus_2326.jpeg     person489_bacteria_2066.jpeg\n",
            "person1349_bacteria_3434.jpeg  person489_bacteria_2067.jpeg\n",
            "person1349_bacteria_3436.jpeg  person489_virus_994.jpeg\n",
            "person1349_bacteria_3437.jpeg  person489_virus_995.jpeg\n",
            "person1349_bacteria_3438.jpeg  person48_bacteria_230.jpeg\n",
            "person1349_bacteria_3439.jpeg  person48_bacteria_231.jpeg\n",
            "person134_virus_268.jpeg       person48_bacteria_232.jpeg\n",
            "person1350_virus_2329.jpeg     person48_bacteria_233.jpeg\n",
            "person1351_bacteria_3441.jpeg  person490_bacteria_2068.jpeg\n",
            "person1351_virus_2330.jpeg     person490_bacteria_2069.jpeg\n",
            "person1352_bacteria_3442.jpeg  person490_bacteria_2070.jpeg\n",
            "person1352_bacteria_3443.jpeg  person490_virus_996.jpeg\n",
            "person1352_bacteria_3444.jpeg  person491_bacteria_2071.jpeg\n",
            "person1352_bacteria_3445.jpeg  person491_bacteria_2073.jpeg\n",
            "person1353_bacteria_3446.jpeg  person491_bacteria_2075.jpeg\n",
            "person1353_virus_2333.jpeg     person491_bacteria_2080.jpeg\n",
            "person1354_bacteria_3448.jpeg  person491_bacteria_2081.jpeg\n",
            "person1355_bacteria_3449.jpeg  person491_bacteria_2082.jpeg\n",
            "person1355_bacteria_3452.jpeg  person491_virus_997.jpeg\n",
            "person1355_virus_2336.jpeg     person492_bacteria_2083.jpeg\n",
            "person1356_virus_2337.jpeg     person492_bacteria_2084.jpeg\n",
            "person1357_virus_2338.jpeg     person492_bacteria_2085.jpeg\n",
            "person1358_bacteria_3463.jpeg  person492_virus_998.jpeg\n",
            "person1358_bacteria_3465.jpeg  person493_bacteria_2086.jpeg\n",
            "person1358_virus_2339.jpeg     person493_bacteria_2087.jpeg\n",
            "person1359_virus_2340.jpeg     person493_virus_999.jpeg\n",
            "person135_virus_270.jpeg       person494_bacteria_2088.jpeg\n",
            "person135_virus_271.jpeg       person494_bacteria_2089.jpeg\n",
            "person1360_virus_2341.jpeg     person494_bacteria_2090.jpeg\n",
            "person1361_bacteria_3476.jpeg  person494_virus_1000.jpeg\n",
            "person1361_bacteria_3477.jpeg  person495_bacteria_2094.jpeg\n",
            "person1361_virus_2342.jpeg     person495_virus_1001.jpeg\n",
            "person1361_virus_2344.jpeg     person496_bacteria_2095.jpeg\n",
            "person1362_virus_2345.jpeg     person496_virus_1003.jpeg\n",
            "person1363_bacteria_3483.jpeg  person497_virus_1005.jpeg\n",
            "person1363_bacteria_3484.jpeg  person498_bacteria_2100.jpeg\n",
            "person1363_virus_2346.jpeg     person498_bacteria_2101.jpeg\n",
            "person1365_bacteria_3489.jpeg  person498_bacteria_2102.jpeg\n",
            "person1365_virus_2348.jpeg     person498_virus_1007.jpeg\n",
            "person1366_bacteria_3490.jpeg  person499_bacteria_2103.jpeg\n",
            "person1366_virus_2349.jpeg     person499_bacteria_2104.jpeg\n",
            "person1367_virus_2351.jpeg     person499_virus_1008.jpeg\n",
            "person1368_virus_2352.jpeg     person49_bacteria_235.jpeg\n",
            "person1368_virus_2353.jpeg     person49_bacteria_236.jpeg\n",
            "person1368_virus_2354.jpeg     person49_bacteria_237.jpeg\n",
            "person1369_virus_2355.jpeg     person4_bacteria_14.jpeg\n",
            "person1369_virus_2356.jpeg     person500_bacteria_2105.jpeg\n",
            "person1371_virus_2361.jpeg     person500_bacteria_2106.jpeg\n",
            "person1371_virus_2362.jpeg     person500_bacteria_2107.jpeg\n",
            "person1372_bacteria_3498.jpeg  person500_bacteria_2108.jpeg\n",
            "person1372_bacteria_3499.jpeg  person500_bacteria_2109.jpeg\n",
            "person1372_bacteria_3500.jpeg  person500_bacteria_2110.jpeg\n",
            "person1372_bacteria_3501.jpeg  person500_bacteria_2111.jpeg\n",
            "person1372_bacteria_3502.jpeg  person500_virus_1009.jpeg\n",
            "person1372_bacteria_3503.jpeg  person501_bacteria_2112.jpeg\n",
            "person1374_bacteria_3506.jpeg  person501_bacteria_2113.jpeg\n",
            "person1374_bacteria_3507.jpeg  person501_bacteria_2114.jpeg\n",
            "person1374_virus_2365.jpeg     person501_bacteria_2115.jpeg\n",
            "person1375_bacteria_3509.jpeg  person501_bacteria_2116.jpeg\n",
            "person1375_bacteria_3510.jpeg  person501_virus_1010.jpeg\n",
            "person1375_virus_2366.jpeg     person502_bacteria_2117.jpeg\n",
            "person1376_bacteria_3511.jpeg  person502_bacteria_2118.jpeg\n",
            "person1376_virus_2367.jpeg     person502_bacteria_2119.jpeg\n",
            "person1377_bacteria_3512.jpeg  person502_bacteria_2120.jpeg\n",
            "person1377_virus_2369.jpeg     person502_bacteria_2121.jpeg\n",
            "person1378_bacteria_3513.jpeg  person502_bacteria_2122.jpeg\n",
            "person1379_bacteria_3514.jpeg  person502_bacteria_2123.jpeg\n",
            "person137_virus_281.jpeg       person502_virus_1011.jpeg\n",
            "person1380_bacteria_3515.jpeg  person502_virus_1012.jpeg\n",
            "person1381_bacteria_3516.jpeg  person503_bacteria_2125.jpeg\n",
            "person1381_bacteria_3517.jpeg  person503_bacteria_2126.jpeg\n",
            "person1381_virus_2375.jpeg     person503_virus_1013.jpeg\n",
            "person1383_bacteria_3521.jpeg  person504_bacteria_2127.jpeg\n",
            "person1383_virus_2377.jpeg     person504_bacteria_2129.jpeg\n",
            "person1384_bacteria_3522.jpeg  person504_bacteria_2130.jpeg\n",
            "person1385_bacteria_3524.jpeg  person504_bacteria_2132.jpeg\n",
            "person1385_virus_2380.jpeg     person504_bacteria_2133.jpeg\n",
            "person1387_virus_2382.jpeg     person505_bacteria_2135.jpeg\n",
            "person1388_bacteria_3529.jpeg  person505_virus_1017.jpeg\n",
            "person1389_bacteria_3531.jpeg  person506_bacteria_2136.jpeg\n",
            "person1389_virus_2387.jpeg     person506_bacteria_2138.jpeg\n",
            "person138_virus_282.jpeg       person506_virus_1018.jpeg\n",
            "person1390_bacteria_3534.jpeg  person507_bacteria_2139.jpeg\n",
            "person1390_bacteria_3535.jpeg  person507_bacteria_2140.jpeg\n",
            "person1391_bacteria_3536.jpeg  person507_bacteria_2141.jpeg\n",
            "person1391_bacteria_3537.jpeg  person507_virus_1019.jpeg\n",
            "person1392_bacteria_3538.jpeg  person508_bacteria_2142.jpeg\n",
            "person1393_virus_2396.jpeg     person508_bacteria_2143.jpeg\n",
            "person1394_virus_2397.jpeg     person508_bacteria_2144.jpeg\n",
            "person1395_bacteria_3544.jpeg  person508_virus_1020.jpeg\n",
            "person1395_virus_2398.jpeg     person508_virus_1021.jpeg\n",
            "person1396_bacteria_3545.jpeg  person509_bacteria_2145.jpeg\n",
            "person1396_virus_2399.jpeg     person509_bacteria_2146.jpeg\n",
            "person1397_virus_2400.jpeg     person509_virus_1024.jpeg\n",
            "person1398_bacteria_3548.jpeg  person509_virus_1025.jpeg\n",
            "person1398_virus_2401.jpeg     person50_bacteria_238.jpeg\n",
            "person1399_bacteria_3549.jpeg  person510_bacteria_2147.jpeg\n",
            "person1399_virus_2402.jpeg     person510_bacteria_2148.jpeg\n",
            "person139_virus_283.jpeg       person510_bacteria_2149.jpeg\n",
            "person13_bacteria_49.jpeg      person510_bacteria_2150.jpeg\n",
            "person13_bacteria_50.jpeg      person510_virus_1026.jpeg\n",
            "person1400_bacteria_3550.jpeg  person511_bacteria_2152.jpeg\n",
            "person1400_bacteria_3551.jpeg  person511_bacteria_2153.jpeg\n",
            "person1400_bacteria_3553.jpeg  person511_virus_1027.jpeg\n",
            "person1400_bacteria_3554.jpeg  person512_bacteria_2154.jpeg\n",
            "person1401_bacteria_3555.jpeg  person512_bacteria_2155.jpeg\n",
            "person1402_virus_2405.jpeg     person512_virus_1029.jpeg\n",
            "person1403_bacteria_3557.jpeg  person513_virus_1030.jpeg\n",
            "person1403_bacteria_3559.jpeg  person514_bacteria_2184.jpeg\n",
            "person1403_virus_2406.jpeg     person514_virus_1031.jpeg\n",
            "person1404_bacteria_3561.jpeg  person515_bacteria_2185.jpeg\n",
            "person1405_bacteria_3564.jpeg  person515_bacteria_2186.jpeg\n",
            "person1405_bacteria_3566.jpeg  person515_bacteria_2187.jpeg\n",
            "person1405_bacteria_3567.jpeg  person515_bacteria_2188.jpeg\n",
            "person1405_bacteria_3571.jpeg  person515_bacteria_2189.jpeg\n",
            "person1405_bacteria_3573.jpeg  person515_bacteria_2190.jpeg\n",
            "person1405_virus_2408.jpeg     person515_virus_1032.jpeg\n",
            "person1406_bacteria_3574.jpeg  person516_bacteria_2191.jpeg\n",
            "person1406_bacteria_3575.jpeg  person516_bacteria_2192.jpeg\n",
            "person1406_virus_2409.jpeg     person516_virus_1033.jpeg\n",
            "person1407_virus_2410.jpeg     person517_bacteria_2196.jpeg\n",
            "person1408_bacteria_3579.jpeg  person517_virus_1034.jpeg\n",
            "person1408_bacteria_3581.jpeg  person517_virus_1035.jpeg\n",
            "person1408_virus_2411.jpeg     person518_bacteria_2197.jpeg\n",
            "person1409_bacteria_3583.jpeg  person518_bacteria_2198.jpeg\n",
            "person1409_bacteria_3585.jpeg  person518_bacteria_2199.jpeg\n",
            "person1409_virus_2413.jpeg     person518_bacteria_2200.jpeg\n",
            "person140_virus_284.jpeg       person518_virus_1036.jpeg\n",
            "person140_virus_285.jpeg       person519_virus_1038.jpeg\n",
            "person1411_bacteria_3591.jpeg  person51_bacteria_239.jpeg\n",
            "person1411_bacteria_3593.jpeg  person51_bacteria_240.jpeg\n",
            "person1411_bacteria_3598.jpeg  person51_bacteria_241.jpeg\n",
            "person1411_bacteria_3599.jpeg  person51_bacteria_242.jpeg\n",
            "person1411_bacteria_3601.jpeg  person51_bacteria_243.jpeg\n",
            "person1411_bacteria_3602.jpeg  person51_bacteria_244.jpeg\n",
            "person1411_bacteria_3603.jpeg  person51_bacteria_245.jpeg\n",
            "person1411_bacteria_3604.jpeg  person51_bacteria_246.jpeg\n",
            "person1411_bacteria_3607.jpeg  person51_bacteria_247.jpeg\n",
            "person1411_bacteria_3609.jpeg  person51_bacteria_248.jpeg\n",
            "person1411_bacteria_3610.jpeg  person520_bacteria_2203.jpeg\n",
            "person1411_virus_2415.jpeg     person520_bacteria_2204.jpeg\n",
            "person1412_bacteria_3612.jpeg  person520_bacteria_2205.jpeg\n",
            "person1413_bacteria_3613.jpeg  person520_virus_1039.jpeg\n",
            "person1413_bacteria_3615.jpeg  person521_virus_1040.jpeg\n",
            "person1413_bacteria_3617.jpeg  person522_bacteria_2210.jpeg\n",
            "person1413_bacteria_3620.jpeg  person522_bacteria_2211.jpeg\n",
            "person1413_virus_2422.jpeg     person522_virus_1041.jpeg\n",
            "person1413_virus_2423.jpeg     person523_virus_1043.jpeg\n",
            "person1414_bacteria_3627.jpeg  person524_virus_1045.jpeg\n",
            "person1414_bacteria_3628.jpeg  person525_bacteria_2216.jpeg\n",
            "person1414_virus_2424.jpeg     person525_bacteria_2217.jpeg\n",
            "person1415_bacteria_3629.jpeg  person525_bacteria_2218.jpeg\n",
            "person1415_virus_2425.jpeg     person525_bacteria_2220.jpeg\n",
            "person1416_virus_2427.jpeg     person525_virus_1046.jpeg\n",
            "person1417_bacteria_3635.jpeg  person526_bacteria_2221.jpeg\n",
            "person1418_bacteria_3636.jpeg  person527_bacteria_2225.jpeg\n",
            "person1418_bacteria_3637.jpeg  person527_bacteria_2226.jpeg\n",
            "person1418_bacteria_3638.jpeg  person527_virus_1048.jpeg\n",
            "person1418_bacteria_3639.jpeg  person528_bacteria_2227.jpeg\n",
            "person1418_bacteria_3643.jpeg  person528_virus_1049.jpeg\n",
            "person1418_virus_2429.jpeg     person529_bacteria_2228.jpeg\n",
            "person1419_bacteria_3645.jpeg  person529_bacteria_2229.jpeg\n",
            "person141_virus_287.jpeg       person529_bacteria_2230.jpeg\n",
            "person1420_bacteria_3647.jpeg  person529_virus_1050.jpeg\n",
            "person1420_virus_2431.jpeg     person52_bacteria_249.jpeg\n",
            "person1422_bacteria_3649.jpeg  person52_bacteria_251.jpeg\n",
            "person1422_virus_2434.jpeg     person530_bacteria_2231.jpeg\n",
            "person1423_bacteria_3650.jpeg  person530_bacteria_2233.jpeg\n",
            "person1424_bacteria_3651.jpeg  person530_virus_1052.jpeg\n",
            "person1424_virus_2437.jpeg     person531_bacteria_2235.jpeg\n",
            "person1425_virus_2438.jpeg     person531_bacteria_2236.jpeg\n",
            "person1426_bacteria_3667.jpeg  person531_bacteria_2237.jpeg\n",
            "person1426_bacteria_3668.jpeg  person531_bacteria_2238.jpeg\n",
            "person1426_virus_2439.jpeg     person531_bacteria_2239.jpeg\n",
            "person1427_virus_2441.jpeg     person531_bacteria_2240.jpeg\n",
            "person1428_virus_2442.jpeg     person531_bacteria_2241.jpeg\n",
            "person1429_bacteria_3688.jpeg  person531_bacteria_2242.jpeg\n",
            "person1429_bacteria_3690.jpeg  person531_virus_1053.jpeg\n",
            "person1429_bacteria_3691.jpeg  person532_virus_1054.jpeg\n",
            "person1429_virus_2443.jpeg     person533_bacteria_2245.jpeg\n",
            "person142_virus_288.jpeg       person533_bacteria_2250.jpeg\n",
            "person1430_bacteria_3693.jpeg  person533_virus_1055.jpeg\n",
            "person1430_bacteria_3694.jpeg  person534_bacteria_2251.jpeg\n",
            "person1430_bacteria_3695.jpeg  person534_bacteria_2252.jpeg\n",
            "person1430_bacteria_3696.jpeg  person534_bacteria_2253.jpeg\n",
            "person1430_bacteria_3697.jpeg  person534_bacteria_2254.jpeg\n",
            "person1430_virus_2444.jpeg     person534_virus_1061.jpeg\n",
            "person1431_bacteria_3698.jpeg  person535_bacteria_2255.jpeg\n",
            "person1432_bacteria_3699.jpeg  person535_bacteria_2256.jpeg\n",
            "person1433_bacteria_3701.jpeg  person535_virus_1062.jpeg\n",
            "person1433_bacteria_3704.jpeg  person536_bacteria_2257.jpeg\n",
            "person1433_bacteria_3705.jpeg  person536_bacteria_2258.jpeg\n",
            "person1433_virus_2447.jpeg     person536_bacteria_2259.jpeg\n",
            "person1436_bacteria_3711.jpeg  person536_bacteria_2260.jpeg\n",
            "person1436_bacteria_3712.jpeg  person536_virus_1064.jpeg\n",
            "person1438_bacteria_3715.jpeg  person536_virus_1065.jpeg\n",
            "person1438_bacteria_3718.jpeg  person537_bacteria_2261.jpeg\n",
            "person1438_bacteria_3721.jpeg  person537_bacteria_2262.jpeg\n",
            "person1438_virus_2452.jpeg     person537_bacteria_2263.jpeg\n",
            "person1439_bacteria_3722.jpeg  person537_bacteria_2264.jpeg\n",
            "person1439_virus_2453.jpeg     person537_bacteria_2265.jpeg\n",
            "person143_virus_289.jpeg       person537_bacteria_2266.jpeg\n",
            "person1440_bacteria_3723.jpeg  person537_virus_1067.jpeg\n",
            "person1441_bacteria_3724.jpeg  person538_bacteria_2268.jpeg\n",
            "person1441_virus_2454.jpeg     person538_virus_1068.jpeg\n",
            "person1441_virus_2457.jpeg     person539_bacteria_2269.jpeg\n",
            "person1442_bacteria_3726.jpeg  person539_bacteria_2270.jpeg\n",
            "person1444_bacteria_3732.jpeg  person539_virus_1069.jpeg\n",
            "person1445_bacteria_3734.jpeg  person53_bacteria_252.jpeg\n",
            "person1445_bacteria_3735.jpeg  person53_bacteria_253.jpeg\n",
            "person1446_bacteria_3737.jpeg  person53_bacteria_254.jpeg\n",
            "person1446_bacteria_3739.jpeg  person53_bacteria_255.jpeg\n",
            "person1446_bacteria_3740.jpeg  person540_bacteria_2271.jpeg\n",
            "person1447_bacteria_3741.jpeg  person540_bacteria_2272.jpeg\n",
            "person1448_virus_2468.jpeg     person540_bacteria_2273.jpeg\n",
            "person1449_bacteria_3743.jpeg  person540_virus_1070.jpeg\n",
            "person1449_bacteria_3745.jpeg  person541_bacteria_2274.jpeg\n",
            "person1449_bacteria_3746.jpeg  person541_bacteria_2275.jpeg\n",
            "person1449_bacteria_3747.jpeg  person541_virus_1071.jpeg\n",
            "person1449_virus_2474.jpeg     person542_bacteria_2276.jpeg\n",
            "person1449_virus_2476.jpeg     person542_virus_1072.jpeg\n",
            "person1450_bacteria_3753.jpeg  person543_bacteria_2279.jpeg\n",
            "person1451_virus_2479.jpeg     person543_bacteria_2280.jpeg\n",
            "person1451_virus_2480.jpeg     person543_bacteria_2281.jpeg\n",
            "person1451_virus_2482.jpeg     person543_bacteria_2282.jpeg\n",
            "person1452_virus_2484.jpeg     person543_bacteria_2283.jpeg\n",
            "person1453_bacteria_3770.jpeg  person543_bacteria_2284.jpeg\n",
            "person1453_bacteria_3771.jpeg  person543_virus_1073.jpeg\n",
            "person1453_bacteria_3772.jpeg  person544_bacteria_2286.jpeg\n",
            "person1453_virus_2485.jpeg     person544_virus_1074.jpeg\n",
            "person1454_bacteria_3774.jpeg  person544_virus_1075.jpeg\n",
            "person1454_bacteria_3778.jpeg  person544_virus_1076.jpeg\n",
            "person1454_bacteria_3779.jpeg  person544_virus_1078.jpeg\n",
            "person1454_bacteria_3780.jpeg  person544_virus_1079.jpeg\n",
            "person1454_bacteria_3781.jpeg  person544_virus_1080.jpeg\n",
            "person1454_bacteria_3782.jpeg  person545_bacteria_2287.jpeg\n",
            "person1454_virus_2486.jpeg     person545_bacteria_2288.jpeg\n",
            "person1455_bacteria_3784.jpeg  person545_bacteria_2289.jpeg\n",
            "person1455_virus_2487.jpeg     person545_bacteria_2290.jpeg\n",
            "person1455_virus_2488.jpeg     person545_virus_1081.jpeg\n",
            "person1455_virus_2489.jpeg     person546_virus_1085.jpeg\n",
            "person1455_virus_2490.jpeg     person547_bacteria_2292.jpeg\n",
            "person1455_virus_2492.jpeg     person547_bacteria_2294.jpeg\n",
            "person1455_virus_2496.jpeg     person547_bacteria_2296.jpeg\n",
            "person1457_virus_2498.jpeg     person547_virus_1086.jpeg\n",
            "person1458_virus_2501.jpeg     person548_bacteria_2297.jpeg\n",
            "person1458_virus_2502.jpeg     person548_bacteria_2298.jpeg\n",
            "person1458_virus_2503.jpeg     person548_bacteria_2299.jpeg\n",
            "person1459_bacteria_3796.jpeg  person548_bacteria_2300.jpeg\n",
            "person1459_bacteria_3797.jpeg  person548_bacteria_2301.jpeg\n",
            "person1459_virus_2506.jpeg     person548_bacteria_2302.jpeg\n",
            "person145_virus_294.jpeg       person548_virus_1088.jpeg\n",
            "person145_virus_295.jpeg       person549_bacteria_2303.jpeg\n",
            "person1460_bacteria_3801.jpeg  person549_bacteria_2304.jpeg\n",
            "person1460_bacteria_3805.jpeg  person549_bacteria_2305.jpeg\n",
            "person1460_virus_2507.jpeg     person549_bacteria_2306.jpeg\n",
            "person1460_virus_2509.jpeg     person549_bacteria_2307.jpeg\n",
            "person1461_virus_2510.jpeg     person549_virus_1089.jpeg\n",
            "person1462_virus_2512.jpeg     person54_bacteria_257.jpeg\n",
            "person1463_bacteria_3808.jpeg  person54_bacteria_258.jpeg\n",
            "person1463_bacteria_3809.jpeg  person550_bacteria_2308.jpeg\n",
            "person1463_bacteria_3811.jpeg  person550_bacteria_2309.jpeg\n",
            "person1463_virus_2516.jpeg     person550_virus_1090.jpeg\n",
            "person1465_virus_2530.jpeg     person551_bacteria_2310.jpeg\n",
            "person1465_virus_2531.jpeg     person551_bacteria_2311.jpeg\n",
            "person1465_virus_2532.jpeg     person551_virus_1091.jpeg\n",
            "person1465_virus_2537.jpeg     person552_bacteria_2313.jpeg\n",
            "person1466_virus_2541.jpeg     person552_bacteria_2315.jpeg\n",
            "person1466_virus_2542.jpeg     person552_virus_1092.jpeg\n",
            "person1466_virus_2543.jpeg     person553_bacteria_2316.jpeg\n",
            "person1467_virus_2544.jpeg     person553_bacteria_2317.jpeg\n",
            "person1468_bacteria_3822.jpeg  person553_virus_1093.jpeg\n",
            "person1468_virus_2545.jpeg     person554_bacteria_2320.jpeg\n",
            "person1468_virus_2546.jpeg     person554_bacteria_2321.jpeg\n",
            "person1469_bacteria_3824.jpeg  person554_bacteria_2322.jpeg\n",
            "person1469_bacteria_3827.jpeg  person554_bacteria_2323.jpeg\n",
            "person1469_virus_2547.jpeg     person554_virus_1094.jpeg\n",
            "person146_virus_296.jpeg       person555_bacteria_2325.jpeg\n",
            "person1470_bacteria_3829.jpeg  person556_bacteria_2326.jpeg\n",
            "person1470_bacteria_3830.jpeg  person556_virus_1096.jpeg\n",
            "person1471_bacteria_3831.jpeg  person557_bacteria_2327.jpeg\n",
            "person1471_virus_2549.jpeg     person557_virus_1097.jpeg\n",
            "person1472_bacteria_3833.jpeg  person558_bacteria_2328.jpeg\n",
            "person1472_bacteria_3834.jpeg  person558_virus_1098.jpeg\n",
            "person1472_virus_2550.jpeg     person559_bacteria_2329.jpeg\n",
            "person1473_bacteria_3836.jpeg  person559_virus_1099.jpeg\n",
            "person1473_virus_2551.jpeg     person55_bacteria_260.jpeg\n",
            "person1473_virus_2553.jpeg     person55_bacteria_261.jpeg\n",
            "person1474_bacteria_3837.jpeg  person55_bacteria_262.jpeg\n",
            "person1474_virus_2556.jpeg     person55_bacteria_263.jpeg\n",
            "person1474_virus_2557.jpeg     person55_bacteria_264.jpeg\n",
            "person1475_virus_2558.jpeg     person55_bacteria_265.jpeg\n",
            "person1476_bacteria_3842.jpeg  person55_bacteria_266.jpeg\n",
            "person1476_bacteria_3843.jpeg  person560_bacteria_2330.jpeg\n",
            "person1476_virus_2560.jpeg     person561_bacteria_2331.jpeg\n",
            "person1477_virus_2561.jpeg     person562_bacteria_2332.jpeg\n",
            "person1478_bacteria_3848.jpeg  person562_virus_1102.jpeg\n",
            "person147_virus_297.jpeg       person563_bacteria_2333.jpeg\n",
            "person1480_bacteria_3858.jpeg  person563_bacteria_2334.jpeg\n",
            "person1480_bacteria_3859.jpeg  person563_bacteria_2335.jpeg\n",
            "person1480_virus_2566.jpeg     person563_bacteria_2336.jpeg\n",
            "person1481_bacteria_3862.jpeg  person563_bacteria_2337.jpeg\n",
            "person1481_bacteria_3863.jpeg  person563_bacteria_2338.jpeg\n",
            "person1481_bacteria_3864.jpeg  person563_bacteria_2339.jpeg\n",
            "person1481_bacteria_3865.jpeg  person563_bacteria_2340.jpeg\n",
            "person1481_bacteria_3866.jpeg  person563_virus_1103.jpeg\n",
            "person1481_bacteria_3867.jpeg  person564_bacteria_2342.jpeg\n",
            "person1481_bacteria_3868.jpeg  person564_bacteria_2343.jpeg\n",
            "person1481_virus_2567.jpeg     person564_bacteria_2344.jpeg\n",
            "person1482_bacteria_3870.jpeg  person564_bacteria_2345.jpeg\n",
            "person1482_bacteria_3874.jpeg  person564_bacteria_2346.jpeg\n",
            "person1482_virus_2569.jpeg     person564_bacteria_2347.jpeg\n",
            "person1482_virus_2570.jpeg     person564_virus_1104.jpeg\n",
            "person1482_virus_2571.jpeg     person565_bacteria_2348.jpeg\n",
            "person1482_virus_2572.jpeg     person565_virus_1105.jpeg\n",
            "person1482_virus_2573.jpeg     person566_bacteria_2351.jpeg\n",
            "person1483_bacteria_3876.jpeg  person566_virus_1106.jpeg\n",
            "person1483_virus_2574.jpeg     person567_bacteria_2352.jpeg\n",
            "person1484_bacteria_3878.jpeg  person567_bacteria_2353.jpeg\n",
            "person1484_virus_2576.jpeg     person567_bacteria_2354.jpeg\n",
            "person1484_virus_2577.jpeg     person567_virus_1107.jpeg\n",
            "person1486_bacteria_3881.jpeg  person568_bacteria_2358.jpeg\n",
            "person1486_bacteria_3883.jpeg  person568_bacteria_2359.jpeg\n",
            "person1486_bacteria_3884.jpeg  person569_bacteria_2360.jpeg\n",
            "person1486_bacteria_3885.jpeg  person569_bacteria_2362.jpeg\n",
            "person1486_virus_2580.jpeg     person569_bacteria_2363.jpeg\n",
            "person1488_bacteria_3887.jpeg  person569_bacteria_2364.jpeg\n",
            "person1488_virus_2585.jpeg     person569_virus_1110.jpeg\n",
            "person1488_virus_2587.jpeg     person56_bacteria_267.jpeg\n",
            "person1488_virus_2589.jpeg     person56_bacteria_268.jpeg\n",
            "person1488_virus_2592.jpeg     person56_bacteria_269.jpeg\n",
            "person1488_virus_2593.jpeg     person570_bacteria_2365.jpeg\n",
            "person1489_bacteria_3889.jpeg  person570_virus_1112.jpeg\n",
            "person1489_virus_2594.jpeg     person571_bacteria_2367.jpeg\n",
            "person148_virus_298.jpeg       person571_virus_1114.jpeg\n",
            "person1490_bacteria_3891.jpeg  person572_bacteria_2368.jpeg\n",
            "person1490_virus_2596.jpeg     person573_bacteria_2369.jpeg\n",
            "person1491_bacteria_3892.jpeg  person573_virus_1116.jpeg\n",
            "person1491_bacteria_3893.jpeg  person574_bacteria_2370.jpeg\n",
            "person1491_virus_2597.jpeg     person574_bacteria_2371.jpeg\n",
            "person1492_bacteria_3894.jpeg  person574_bacteria_2372.jpeg\n",
            "person1492_virus_2599.jpeg     person574_bacteria_2373.jpeg\n",
            "person1493_bacteria_3895.jpeg  person574_virus_1118.jpeg\n",
            "person1493_bacteria_3896.jpeg  person575_bacteria_2374.jpeg\n",
            "person1493_bacteria_3897.jpeg  person575_virus_1119.jpeg\n",
            "person1493_bacteria_3898.jpeg  person576_bacteria_2375.jpeg\n",
            "person1493_bacteria_3899.jpeg  person576_bacteria_2376.jpeg\n",
            "person1494_bacteria_3901.jpeg  person576_virus_1120.jpeg\n",
            "person1494_virus_2601.jpeg     person577_bacteria_2378.jpeg\n",
            "person1495_virus_2603.jpeg     person577_virus_1121.jpeg\n",
            "person1496_bacteria_3905.jpeg  person578_bacteria_2379.jpeg\n",
            "person1496_bacteria_3906.jpeg  person578_virus_1122.jpeg\n",
            "person1496_bacteria_3907.jpeg  person579_bacteria_2381.jpeg\n",
            "person1496_bacteria_3908.jpeg  person579_bacteria_2382.jpeg\n",
            "person1496_bacteria_3909.jpeg  person579_bacteria_2383.jpeg\n",
            "person1496_bacteria_3910.jpeg  person579_bacteria_2384.jpeg\n",
            "person1496_bacteria_3911.jpeg  person579_bacteria_2386.jpeg\n",
            "person1496_virus_2605.jpeg     person579_virus_1123.jpeg\n",
            "person1496_virus_2606.jpeg     person57_bacteria_270.jpeg\n",
            "person1497_bacteria_3912.jpeg  person57_bacteria_271.jpeg\n",
            "person1497_virus_2607.jpeg     person580_bacteria_2387.jpeg\n",
            "person1499_bacteria_3915.jpeg  person580_bacteria_2388.jpeg\n",
            "person1499_virus_2609.jpeg     person580_bacteria_2389.jpeg\n",
            "person149_virus_299.jpeg       person581_bacteria_2390.jpeg\n",
            "person14_bacteria_51.jpeg      person581_bacteria_2392.jpeg\n",
            "person1500_bacteria_3916.jpeg  person581_bacteria_2393.jpeg\n",
            "person1500_virus_2610.jpeg     person581_bacteria_2394.jpeg\n",
            "person1501_virus_2611.jpeg     person581_bacteria_2395.jpeg\n",
            "person1502_bacteria_3922.jpeg  person581_bacteria_2400.jpeg\n",
            "person1502_bacteria_3923.jpeg  person581_virus_1125.jpeg\n",
            "person1502_bacteria_3924.jpeg  person582_bacteria_2403.jpeg\n",
            "person1502_bacteria_3925.jpeg  person582_bacteria_2404.jpeg\n",
            "person1502_bacteria_3927.jpeg  person582_bacteria_2405.jpeg\n",
            "person1502_bacteria_3928.jpeg  person583_bacteria_2406.jpeg\n",
            "person1502_bacteria_3929.jpeg  person583_bacteria_2408.jpeg\n",
            "person1502_virus_2612.jpeg     person583_bacteria_2409.jpeg\n",
            "person1503_virus_2613.jpeg     person583_virus_1127.jpeg\n",
            "person1504_bacteria_3931.jpeg  person584_virus_1128.jpeg\n",
            "person1504_virus_2614.jpeg     person585_bacteria_2411.jpeg\n",
            "person1505_virus_2615.jpeg     person585_bacteria_2412.jpeg\n",
            "person1506_bacteria_3933.jpeg  person585_bacteria_2413.jpeg\n",
            "person1506_virus_2616.jpeg     person585_bacteria_2414.jpeg\n",
            "person1507_bacteria_3935.jpeg  person585_bacteria_2415.jpeg\n",
            "person1507_bacteria_3942.jpeg  person585_bacteria_2416.jpeg\n",
            "person1507_bacteria_3943.jpeg  person585_virus_1129.jpeg\n",
            "person1507_bacteria_3944.jpeg  person586_bacteria_2417.jpeg\n",
            "person1507_bacteria_3945.jpeg  person586_bacteria_2418.jpeg\n",
            "person1507_bacteria_3946.jpeg  person586_bacteria_2420.jpeg\n",
            "person1507_bacteria_3947.jpeg  person586_virus_1130.jpeg\n",
            "person1507_bacteria_3948.jpeg  person587_bacteria_2421.jpeg\n",
            "person1508_bacteria_3949.jpeg  person588_bacteria_2422.jpeg\n",
            "person1509_bacteria_3951.jpeg  person588_bacteria_2423.jpeg\n",
            "person1509_virus_2621.jpeg     person588_virus_1134.jpeg\n",
            "person1510_virus_2628.jpeg     person588_virus_1135.jpeg\n",
            "person1510_virus_2629.jpeg     person589_bacteria_2424.jpeg\n",
            "person1511_bacteria_3955.jpeg  person589_bacteria_2425.jpeg\n",
            "person1512_bacteria_3958.jpeg  person58_bacteria_272.jpeg\n",
            "person1512_virus_2631.jpeg     person58_bacteria_273.jpeg\n",
            "person1513_bacteria_3962.jpeg  person58_bacteria_274.jpeg\n",
            "person1513_virus_2632.jpeg     person58_bacteria_275.jpeg\n",
            "person1514_bacteria_3964.jpeg  person58_bacteria_276.jpeg\n",
            "person1514_virus_2633.jpeg     person58_bacteria_277.jpeg\n",
            "person1516_virus_2643.jpeg     person58_bacteria_278.jpeg\n",
            "person1517_bacteria_3968.jpeg  person590_bacteria_2428.jpeg\n",
            "person1517_virus_2644.jpeg     person590_virus_1138.jpeg\n",
            "person1518_bacteria_3969.jpeg  person591_bacteria_2429.jpeg\n",
            "person1518_virus_2645.jpeg     person591_virus_1139.jpeg\n",
            "person1519_bacteria_3970.jpeg  person592_bacteria_2431.jpeg\n",
            "person1519_virus_2646.jpeg     person592_bacteria_2434.jpeg\n",
            "person151_virus_301.jpeg       person592_virus_1141.jpeg\n",
            "person151_virus_302.jpeg       person593_bacteria_2435.jpeg\n",
            "person1520_bacteria_3971.jpeg  person593_virus_1142.jpeg\n",
            "person1520_virus_2647.jpeg     person594_bacteria_2436.jpeg\n",
            "person1521_virus_2649.jpeg     person594_virus_1145.jpeg\n",
            "person1522_bacteria_3977.jpeg  person595_bacteria_2438.jpeg\n",
            "person1522_virus_2651.jpeg     person595_virus_1147.jpeg\n",
            "person1523_bacteria_3979.jpeg  person596_bacteria_2440.jpeg\n",
            "person1523_bacteria_3980.jpeg  person596_bacteria_2441.jpeg\n",
            "person1524_bacteria_3983.jpeg  person596_bacteria_2443.jpeg\n",
            "person1524_bacteria_3984.jpeg  person596_bacteria_2444.jpeg\n",
            "person1524_virus_2658.jpeg     person596_bacteria_2445.jpeg\n",
            "person1525_bacteria_3985.jpeg  person596_bacteria_2446.jpeg\n",
            "person1525_virus_2659.jpeg     person596_bacteria_2447.jpeg\n",
            "person1526_bacteria_3986.jpeg  person596_bacteria_2449.jpeg\n",
            "person1526_virus_2660.jpeg     person596_virus_1149.jpeg\n",
            "person1527_bacteria_3988.jpeg  person597_bacteria_2450.jpeg\n",
            "person1527_bacteria_3989.jpeg  person597_bacteria_2451.jpeg\n",
            "person1527_bacteria_3990.jpeg  person597_virus_1150.jpeg\n",
            "person1527_virus_2661.jpeg     person598_bacteria_2453.jpeg\n",
            "person1528_bacteria_3991.jpeg  person598_bacteria_2454.jpeg\n",
            "person1528_bacteria_3996.jpeg  person598_virus_1151.jpeg\n",
            "person1528_virus_2662.jpeg     person598_virus_1153.jpeg\n",
            "person1529_virus_2663.jpeg     person598_virus_1154.jpeg\n",
            "person152_virus_303.jpeg       person599_bacteria_2455.jpeg\n",
            "person1530_bacteria_4000.jpeg  person599_virus_1155.jpeg\n",
            "person1530_virus_2664.jpeg     person59_bacteria_279.jpeg\n",
            "person1531_bacteria_4003.jpeg  person59_bacteria_280.jpeg\n",
            "person1531_virus_2666.jpeg     person59_bacteria_281.jpeg\n",
            "person1532_virus_2667.jpeg     person59_bacteria_282.jpeg\n",
            "person1534_virus_2670.jpeg     person59_bacteria_283.jpeg\n",
            "person1535_bacteria_4015.jpeg  person59_bacteria_284.jpeg\n",
            "person1535_bacteria_4016.jpeg  person5_bacteria_15.jpeg\n",
            "person1535_bacteria_4017.jpeg  person5_bacteria_16.jpeg\n",
            "person1535_virus_2672.jpeg     person5_bacteria_17.jpeg\n",
            "person1536_bacteria_4018.jpeg  person5_bacteria_19.jpeg\n",
            "person1536_virus_2673.jpeg     person600_bacteria_2456.jpeg\n",
            "person1537_bacteria_4019.jpeg  person600_bacteria_2457.jpeg\n",
            "person1537_bacteria_4020.jpeg  person600_bacteria_2458.jpeg\n",
            "person1537_virus_2674.jpeg     person600_virus_1156.jpeg\n",
            "person1538_bacteria_4021.jpeg  person601_bacteria_2459.jpeg\n",
            "person1539_bacteria_4022.jpeg  person602_bacteria_2460.jpeg\n",
            "person1539_virus_2678.jpeg     person603_bacteria_2461.jpeg\n",
            "person1539_virus_2679.jpeg     person603_virus_1164.jpeg\n",
            "person153_virus_304.jpeg       person604_bacteria_2462.jpeg\n",
            "person1540_bacteria_4023.jpeg  person604_bacteria_2463.jpeg\n",
            "person1540_virus_2680.jpeg     person604_virus_1165.jpeg\n",
            "person1541_virus_2681.jpeg     person605_bacteria_2464.jpeg\n",
            "person1542_bacteria_4029.jpeg  person605_bacteria_2465.jpeg\n",
            "person1542_virus_2683.jpeg     person605_bacteria_2466.jpeg\n",
            "person1543_virus_2684.jpeg     person605_bacteria_2467.jpeg\n",
            "person1544_bacteria_4033.jpeg  person605_bacteria_2468.jpeg\n",
            "person1544_bacteria_4035.jpeg  person605_virus_1166.jpeg\n",
            "person1544_bacteria_4037.jpeg  person605_virus_1169.jpeg\n",
            "person1544_bacteria_4038.jpeg  person606_bacteria_2469.jpeg\n",
            "person1544_virus_2685.jpeg     person607_bacteria_2470.jpeg\n",
            "person1545_bacteria_4041.jpeg  person607_virus_1173.jpeg\n",
            "person1545_bacteria_4042.jpeg  person608_bacteria_2471.jpeg\n",
            "person1546_bacteria_4044.jpeg  person608_bacteria_2472.jpeg\n",
            "person1546_bacteria_4045.jpeg  person608_bacteria_2473.jpeg\n",
            "person1546_virus_2687.jpeg     person608_virus_1175.jpeg\n",
            "person1547_virus_2688.jpeg     person609_bacteria_2474.jpeg\n",
            "person1548_bacteria_4048.jpeg  person609_virus_1176.jpeg\n",
            "person1548_virus_2689.jpeg     person60_bacteria_285.jpeg\n",
            "person1549_bacteria_4050.jpeg  person60_bacteria_286.jpeg\n",
            "person1549_virus_2690.jpeg     person60_bacteria_287.jpeg\n",
            "person154_virus_305.jpeg       person610_bacteria_2475.jpeg\n",
            "person154_virus_306.jpeg       person610_virus_1177.jpeg\n",
            "person1550_bacteria_4051.jpeg  person611_bacteria_2476.jpeg\n",
            "person1550_virus_2691.jpeg     person612_bacteria_2477.jpeg\n",
            "person1551_bacteria_4053.jpeg  person612_bacteria_2478.jpeg\n",
            "person1551_bacteria_4054.jpeg  person612_virus_1179.jpeg\n",
            "person1551_virus_2692.jpeg     person613_bacteria_2479.jpeg\n",
            "person1552_bacteria_4055.jpeg  person613_virus_1181.jpeg\n",
            "person1554_bacteria_4057.jpeg  person614_bacteria_2480.jpeg\n",
            "person1554_virus_2696.jpeg     person614_bacteria_2481.jpeg\n",
            "person1555_bacteria_4058.jpeg  person614_bacteria_2483.jpeg\n",
            "person1555_bacteria_4059.jpeg  person614_virus_1183.jpeg\n",
            "person1555_bacteria_4060.jpeg  person615_virus_1184.jpeg\n",
            "person1556_bacteria_4061.jpeg  person616_bacteria_2487.jpeg\n",
            "person1556_bacteria_4062.jpeg  person616_virus_1186.jpeg\n",
            "person1556_virus_2699.jpeg     person617_bacteria_2488.jpeg\n",
            "person1557_bacteria_4063.jpeg  person617_virus_1187.jpeg\n",
            "person1557_bacteria_4065.jpeg  person618_bacteria_2489.jpeg\n",
            "person1558_bacteria_4066.jpeg  person618_virus_1189.jpeg\n",
            "person1559_bacteria_4067.jpeg  person619_bacteria_2490.jpeg\n",
            "person155_virus_307.jpeg       person619_bacteria_2491.jpeg\n",
            "person1561_bacteria_4077.jpeg  person619_virus_1190.jpeg\n",
            "person1562_bacteria_4078.jpeg  person61_bacteria_288.jpeg\n",
            "person1562_bacteria_4081.jpeg  person61_bacteria_289.jpeg\n",
            "person1562_bacteria_4087.jpeg  person61_bacteria_290.jpeg\n",
            "person1562_bacteria_4089.jpeg  person61_bacteria_291.jpeg\n",
            "person1563_bacteria_4092.jpeg  person61_bacteria_292.jpeg\n",
            "person1564_bacteria_4094.jpeg  person61_bacteria_293.jpeg\n",
            "person1564_virus_2719.jpeg     person61_bacteria_294.jpeg\n",
            "person1565_bacteria_4095.jpeg  person61_bacteria_295.jpeg\n",
            "person1566_bacteria_4099.jpeg  person61_bacteria_296.jpeg\n",
            "person1567_bacteria_4100.jpeg  person61_bacteria_297.jpeg\n",
            "person1567_virus_2722.jpeg     person620_bacteria_2492.jpeg\n",
            "person1568_virus_2723.jpeg     person620_virus_1191.jpeg\n",
            "person156_virus_308.jpeg       person620_virus_1192.jpeg\n",
            "person1571_bacteria_4108.jpeg  person621_virus_1194.jpeg\n",
            "person1571_bacteria_4110.jpeg  person621_virus_1195.jpeg\n",
            "person1571_virus_2728.jpeg     person622_bacteria_2494.jpeg\n",
            "person1574_bacteria_4118.jpeg  person622_virus_1196.jpeg\n",
            "person1575_bacteria_4119.jpeg  person623_bacteria_2495.jpeg\n",
            "person1576_bacteria_4120.jpeg  person623_bacteria_2496.jpeg\n",
            "person1576_bacteria_4121.jpeg  person623_virus_1197.jpeg\n",
            "person1576_bacteria_4122.jpeg  person624_bacteria_2497.jpeg\n",
            "person1576_bacteria_4124.jpeg  person624_virus_1198.jpeg\n",
            "person1576_bacteria_4126.jpeg  person625_bacteria_2499.jpeg\n",
            "person1576_bacteria_4127.jpeg  person625_bacteria_2500.jpeg\n",
            "person1576_bacteria_4128.jpeg  person625_virus_1199.jpeg\n",
            "person1576_bacteria_4129.jpeg  person626_bacteria_2502.jpeg\n",
            "person1576_virus_2734.jpeg     person626_virus_1202.jpeg\n",
            "person1577_virus_2735.jpeg     person627_virus_1204.jpeg\n",
            "person1579_bacteria_4133.jpeg  person628_bacteria_2505.jpeg\n",
            "person157_virus_311.jpeg       person628_virus_1206.jpeg\n",
            "person1580_virus_2739.jpeg     person629_bacteria_2506.jpeg\n",
            "person1581_bacteria_4135.jpeg  person629_bacteria_2507.jpeg\n",
            "person1581_virus_2741.jpeg     person629_bacteria_2508.jpeg\n",
            "person1582_bacteria_4136.jpeg  person629_bacteria_2509.jpeg\n",
            "person1582_bacteria_4137.jpeg  person629_bacteria_2510.jpeg\n",
            "person1582_bacteria_4140.jpeg  person629_virus_1207.jpeg\n",
            "person1582_bacteria_4142.jpeg  person62_bacteria_298.jpeg\n",
            "person1582_bacteria_4143.jpeg  person62_bacteria_299.jpeg\n",
            "person1583_bacteria_4144.jpeg  person62_bacteria_300.jpeg\n",
            "person1584_bacteria_4146.jpeg  person62_bacteria_301.jpeg\n",
            "person1584_bacteria_4148.jpeg  person62_bacteria_302.jpeg\n",
            "person1585_bacteria_4149.jpeg  person62_bacteria_303.jpeg\n",
            "person1585_bacteria_4151.jpeg  person630_bacteria_2512.jpeg\n",
            "person1585_bacteria_4155.jpeg  person630_bacteria_2513.jpeg\n",
            "person1588_virus_2762.jpeg     person630_bacteria_2514.jpeg\n",
            "person1589_bacteria_4171.jpeg  person630_bacteria_2515.jpeg\n",
            "person1589_bacteria_4172.jpeg  person630_bacteria_2516.jpeg\n",
            "person1589_virus_2763.jpeg     person630_virus_1209.jpeg\n",
            "person158_virus_312.jpeg       person632_bacteria_2520.jpeg\n",
            "person1590_bacteria_4174.jpeg  person632_bacteria_2521.jpeg\n",
            "person1590_bacteria_4175.jpeg  person632_virus_1211.jpeg\n",
            "person1590_bacteria_4176.jpeg  person633_bacteria_2522.jpeg\n",
            "person1590_virus_2764.jpeg     person633_virus_1213.jpeg\n",
            "person1591_bacteria_4177.jpeg  person634_bacteria_2525.jpeg\n",
            "person1591_virus_2765.jpeg     person635_bacteria_2526.jpeg\n",
            "person1592_bacteria_4178.jpeg  person636_bacteria_2527.jpeg\n",
            "person1592_virus_2766.jpeg     person636_virus_1217.jpeg\n",
            "person1593_virus_2767.jpeg     person637_bacteria_2528.jpeg\n",
            "person1594_bacteria_4182.jpeg  person637_bacteria_2529.jpeg\n",
            "person1594_virus_2768.jpeg     person637_virus_1218.jpeg\n",
            "person1595_bacteria_4183.jpeg  person639_virus_1220.jpeg\n",
            "person1595_virus_2771.jpeg     person63_bacteria_306.jpeg\n",
            "person1596_bacteria_4184.jpeg  person640_bacteria_2532.jpeg\n",
            "person1597_bacteria_4187.jpeg  person640_virus_1221.jpeg\n",
            "person1597_bacteria_4188.jpeg  person641_bacteria_2533.jpeg\n",
            "person1597_bacteria_4189.jpeg  person641_virus_1222.jpeg\n",
            "person1597_bacteria_4190.jpeg  person642_virus_1223.jpeg\n",
            "person1597_bacteria_4191.jpeg  person643_bacteria_2534.jpeg\n",
            "person1597_bacteria_4192.jpeg  person644_bacteria_2536.jpeg\n",
            "person1597_bacteria_4193.jpeg  person644_virus_1225.jpeg\n",
            "person1597_bacteria_4194.jpeg  person645_bacteria_2537.jpeg\n",
            "person1598_bacteria_4195.jpeg  person645_virus_1226.jpeg\n",
            "person1598_bacteria_4197.jpeg  person646_bacteria_2538.jpeg\n",
            "person1598_bacteria_4198.jpeg  person646_virus_1227.jpeg\n",
            "person1599_bacteria_4200.jpeg  person647_bacteria_2539.jpeg\n",
            "person1599_bacteria_4201.jpeg  person647_virus_1228.jpeg\n",
            "person1599_virus_2775.jpeg     person647_virus_1229.jpeg\n",
            "person1599_virus_2776.jpeg     person648_bacteria_2540.jpeg\n",
            "person15_bacteria_52.jpeg      person648_virus_1230.jpeg\n",
            "person1600_bacteria_4202.jpeg  person649_bacteria_2541.jpeg\n",
            "person1600_virus_2777.jpeg     person649_virus_1231.jpeg\n",
            "person1601_bacteria_4209.jpeg  person64_bacteria_310.jpeg\n",
            "person1601_bacteria_4212.jpeg  person64_bacteria_312.jpeg\n",
            "person1602_bacteria_4218.jpeg  person64_bacteria_316.jpeg\n",
            "person1602_virus_2780.jpeg     person64_bacteria_317.jpeg\n",
            "person1603_virus_2781.jpeg     person64_bacteria_318.jpeg\n",
            "person1604_virus_2782.jpeg     person64_bacteria_319.jpeg\n",
            "person1605_bacteria_4226.jpeg  person64_bacteria_320.jpeg\n",
            "person1607_bacteria_4232.jpeg  person650_bacteria_2542.jpeg\n",
            "person1607_virus_2785.jpeg     person650_virus_1232.jpeg\n",
            "person1608_bacteria_4235.jpeg  person651_bacteria_2543.jpeg\n",
            "person1609_bacteria_4236.jpeg  person652_bacteria_2544.jpeg\n",
            "person1609_bacteria_4237.jpeg  person652_virus_1234.jpeg\n",
            "person1609_bacteria_4239.jpeg  person653_bacteria_2545.jpeg\n",
            "person1609_virus_2790.jpeg     person653_virus_1235.jpeg\n",
            "person1609_virus_2791.jpeg     person654_bacteria_2546.jpeg\n",
            "person160_virus_316.jpeg       person655_bacteria_2547.jpeg\n",
            "person1610_bacteria_4240.jpeg  person656_bacteria_2548.jpeg\n",
            "person1611_bacteria_4241.jpeg  person656_virus_1238.jpeg\n",
            "person1613_bacteria_4247.jpeg  person657_bacteria_2549.jpeg\n",
            "person1614_bacteria_4248.jpeg  person657_virus_1240.jpeg\n",
            "person1615_bacteria_4249.jpeg  person658_bacteria_2550.jpeg\n",
            "person1616_bacteria_4251.jpeg  person658_virus_1241.jpeg\n",
            "person1617_bacteria_4254.jpeg  person659_bacteria_2551.jpeg\n",
            "person1617_bacteria_4255.jpeg  person659_virus_1243.jpeg\n",
            "person1617_bacteria_4256.jpeg  person65_bacteria_322.jpeg\n",
            "person1618_bacteria_4258.jpeg  person660_bacteria_2552.jpeg\n",
            "person1619_bacteria_4261.jpeg  person660_virus_1244.jpeg\n",
            "person1619_bacteria_4262.jpeg  person661_bacteria_2553.jpeg\n",
            "person1619_bacteria_4266.jpeg  person661_virus_1245.jpeg\n",
            "person1619_bacteria_4267.jpeg  person662_bacteria_2554.jpeg\n",
            "person1619_bacteria_4268.jpeg  person662_virus_1246.jpeg\n",
            "person1619_bacteria_4269.jpeg  person663_bacteria_2555.jpeg\n",
            "person1619_bacteria_4270.jpeg  person663_virus_1247.jpeg\n",
            "person1619_bacteria_4271.jpeg  person663_virus_1248.jpeg\n",
            "person161_virus_317.jpeg       person664_virus_1249.jpeg\n",
            "person1620_bacteria_4272.jpeg  person665_bacteria_2557.jpeg\n",
            "person1625_bacteria_4290.jpeg  person665_virus_1250.jpeg\n",
            "person1626_bacteria_4291.jpeg  person666_bacteria_2558.jpeg\n",
            "person1628_bacteria_4293.jpeg  person666_virus_1251.jpeg\n",
            "person1628_bacteria_4294.jpeg  person667_virus_1252.jpeg\n",
            "person1628_bacteria_4295.jpeg  person667_virus_1253.jpeg\n",
            "person1628_bacteria_4296.jpeg  person669_bacteria_2561.jpeg\n",
            "person1628_bacteria_4297.jpeg  person669_bacteria_2562.jpeg\n",
            "person1628_bacteria_4298.jpeg  person669_virus_1255.jpeg\n",
            "person1629_bacteria_4299.jpeg  person66_bacteria_323.jpeg\n",
            "person162_virus_319.jpeg       person66_bacteria_324.jpeg\n",
            "person162_virus_320.jpeg       person66_bacteria_325.jpeg\n",
            "person162_virus_321.jpeg       person66_bacteria_326.jpeg\n",
            "person162_virus_322.jpeg       person670_bacteria_2563.jpeg\n",
            "person1630_bacteria_4303.jpeg  person670_virus_1256.jpeg\n",
            "person1630_bacteria_4304.jpeg  person670_virus_1259.jpeg\n",
            "person1634_bacteria_4326.jpeg  person671_bacteria_2564.jpeg\n",
            "person1634_bacteria_4331.jpeg  person671_virus_1260.jpeg\n",
            "person1634_bacteria_4334.jpeg  person672_bacteria_2565.jpeg\n",
            "person1635_bacteria_4335.jpeg  person672_virus_1261.jpeg\n",
            "person1636_bacteria_4337.jpeg  person673_bacteria_2566.jpeg\n",
            "person1636_bacteria_4338.jpeg  person673_virus_1263.jpeg\n",
            "person1637_bacteria_4339.jpeg  person674_bacteria_2568.jpeg\n",
            "person1638_bacteria_4340.jpeg  person675_bacteria_2569.jpeg\n",
            "person1638_bacteria_4341.jpeg  person677_bacteria_2571.jpeg\n",
            "person1638_bacteria_4342.jpeg  person677_virus_1268.jpeg\n",
            "person1639_bacteria_4343.jpeg  person678_bacteria_2572.jpeg\n",
            "person1639_bacteria_4344.jpeg  person679_virus_1270.jpeg\n",
            "person1639_bacteria_4345.jpeg  person67_bacteria_328.jpeg\n",
            "person1639_bacteria_4347.jpeg  person67_bacteria_329.jpeg\n",
            "person1640_bacteria_4348.jpeg  person67_bacteria_330.jpeg\n",
            "person1641_bacteria_4350.jpeg  person67_bacteria_331.jpeg\n",
            "person1642_bacteria_4352.jpeg  person67_bacteria_332.jpeg\n",
            "person1642_bacteria_4353.jpeg  person67_bacteria_333.jpeg\n",
            "person1643_bacteria_4354.jpeg  person67_bacteria_334.jpeg\n",
            "person1644_bacteria_4356.jpeg  person680_bacteria_2575.jpeg\n",
            "person1644_bacteria_4357.jpeg  person681_bacteria_2576.jpeg\n",
            "person1644_bacteria_4358.jpeg  person681_virus_1272.jpeg\n",
            "person1644_bacteria_4360.jpeg  person682_virus_1273.jpeg\n",
            "person1644_bacteria_4361.jpeg  person683_bacteria_2578.jpeg\n",
            "person1644_bacteria_4362.jpeg  person684_bacteria_2580.jpeg\n",
            "person1645_bacteria_4363.jpeg  person684_virus_1275.jpeg\n",
            "person1646_bacteria_4368.jpeg  person685_bacteria_2581.jpeg\n",
            "person1647_bacteria_4372.jpeg  person687_bacteria_2583.jpeg\n",
            "person1648_bacteria_4373.jpeg  person688_bacteria_2584.jpeg\n",
            "person1648_bacteria_4375.jpeg  person688_virus_1281.jpeg\n",
            "person1648_bacteria_4376.jpeg  person688_virus_1282.jpeg\n",
            "person1649_bacteria_4377.jpeg  person689_bacteria_2585.jpeg\n",
            "person1649_bacteria_4378.jpeg  person689_bacteria_2586.jpeg\n",
            "person1649_bacteria_4379.jpeg  person68_bacteria_335.jpeg\n",
            "person1651_bacteria_4381.jpeg  person68_bacteria_336.jpeg\n",
            "person1652_bacteria_4383.jpeg  person68_bacteria_337.jpeg\n",
            "person1657_bacteria_4398.jpeg  person690_bacteria_2587.jpeg\n",
            "person1657_bacteria_4399.jpeg  person691_bacteria_2588.jpeg\n",
            "person1657_bacteria_4400.jpeg  person692_bacteria_2589.jpeg\n",
            "person1658_bacteria_4402.jpeg  person692_virus_1286.jpeg\n",
            "person1660_bacteria_4404.jpeg  person693_bacteria_2590.jpeg\n",
            "person1661_bacteria_4406.jpeg  person696_bacteria_2594.jpeg\n",
            "person1663_bacteria_4411.jpeg  person698_virus_1294.jpeg\n",
            "person1663_bacteria_4412.jpeg  person699_bacteria_2598.jpeg\n",
            "person1665_bacteria_4415.jpeg  person699_virus_1295.jpeg\n",
            "person1666_bacteria_4416.jpeg  person69_bacteria_338.jpeg\n",
            "person1667_bacteria_4417.jpeg  person6_bacteria_22.jpeg\n",
            "person1667_bacteria_4418.jpeg  person700_bacteria_2599.jpeg\n",
            "person1668_bacteria_4420.jpeg  person701_bacteria_2600.jpeg\n",
            "person1668_bacteria_4421.jpeg  person701_virus_1297.jpeg\n",
            "person1669_bacteria_4422.jpeg  person702_bacteria_2601.jpeg\n",
            "person1669_bacteria_4423.jpeg  person702_virus_1299.jpeg\n",
            "person1669_bacteria_4424.jpeg  person703_bacteria_2602.jpeg\n",
            "person1670_bacteria_4425.jpeg  person703_virus_1300.jpeg\n",
            "person1670_bacteria_4426.jpeg  person704_bacteria_2603.jpeg\n",
            "person1670_bacteria_4427.jpeg  person704_virus_1301.jpeg\n",
            "person1670_bacteria_4428.jpeg  person705_virus_1302.jpeg\n",
            "person1670_bacteria_4429.jpeg  person705_virus_1303.jpeg\n",
            "person1670_bacteria_4430.jpeg  person706_virus_1304.jpeg\n",
            "person1670_bacteria_4431.jpeg  person707_bacteria_2606.jpeg\n",
            "person1671_bacteria_4432.jpeg  person707_virus_1305.jpeg\n",
            "person1673_bacteria_4434.jpeg  person709_bacteria_2608.jpeg\n",
            "person1674_bacteria_4437.jpeg  person70_bacteria_341.jpeg\n",
            "person1676_bacteria_4441.jpeg  person70_bacteria_342.jpeg\n",
            "person1677_bacteria_4443.jpeg  person70_bacteria_343.jpeg\n",
            "person1677_bacteria_4444.jpeg  person70_bacteria_344.jpeg\n",
            "person1678_bacteria_4446.jpeg  person70_bacteria_345.jpeg\n",
            "person1679_bacteria_4448.jpeg  person70_bacteria_346.jpeg\n",
            "person1679_bacteria_4449.jpeg  person710_bacteria_2611.jpeg\n",
            "person1679_bacteria_4450.jpeg  person710_virus_1308.jpeg\n",
            "person1679_bacteria_4452.jpeg  person711_bacteria_2612.jpeg\n",
            "person1679_bacteria_4453.jpeg  person711_virus_1309.jpeg\n",
            "person1680_bacteria_4455.jpeg  person712_bacteria_2613.jpeg\n",
            "person1682_bacteria_4459.jpeg  person712_virus_1310.jpeg\n",
            "person1683_bacteria_4460.jpeg  person713_bacteria_2614.jpeg\n",
            "person1684_bacteria_4461.jpeg  person714_bacteria_2615.jpeg\n",
            "person1684_bacteria_4462.jpeg  person716_bacteria_2617.jpeg\n",
            "person1684_bacteria_4463.jpeg  person716_virus_1314.jpeg\n",
            "person1685_bacteria_4465.jpeg  person717_bacteria_2618.jpeg\n",
            "person1686_bacteria_4466.jpeg  person718_bacteria_2620.jpeg\n",
            "person1687_bacteria_4468.jpeg  person718_virus_1316.jpeg\n",
            "person1689_bacteria_4472.jpeg  person719_bacteria_2621.jpeg\n",
            "person1689_bacteria_4473.jpeg  person719_virus_1338.jpeg\n",
            "person1689_bacteria_4474.jpeg  person71_bacteria_347.jpeg\n",
            "person1690_bacteria_4475.jpeg  person71_bacteria_348.jpeg\n",
            "person1691_bacteria_4479.jpeg  person71_bacteria_349.jpeg\n",
            "person1691_bacteria_4481.jpeg  person71_bacteria_350.jpeg\n",
            "person1693_bacteria_4485.jpeg  person71_bacteria_351.jpeg\n",
            "person1695_bacteria_4492.jpeg  person720_bacteria_2622.jpeg\n",
            "person1696_bacteria_4495.jpeg  person720_virus_1339.jpeg\n",
            "person1697_bacteria_4496.jpeg  person721_bacteria_2623.jpeg\n",
            "person1698_bacteria_4497.jpeg  person721_virus_1340.jpeg\n",
            "person1699_bacteria_4498.jpeg  person722_virus_1341.jpeg\n",
            "person16_bacteria_53.jpeg      person723_bacteria_2625.jpeg\n",
            "person16_bacteria_54.jpeg      person723_virus_1342.jpeg\n",
            "person16_bacteria_55.jpeg      person724_bacteria_2626.jpeg\n",
            "person1700_bacteria_4500.jpeg  person724_virus_1343.jpeg\n",
            "person1700_bacteria_4502.jpeg  person724_virus_1344.jpeg\n",
            "person1701_bacteria_4504.jpeg  person725_bacteria_2627.jpeg\n",
            "person1702_bacteria_4506.jpeg  person726_bacteria_2628.jpeg\n",
            "person1702_bacteria_4508.jpeg  person727_bacteria_2629.jpeg\n",
            "person1702_bacteria_4509.jpeg  person727_virus_1347.jpeg\n",
            "person1702_bacteria_4510.jpeg  person728_bacteria_2630.jpeg\n",
            "person1702_bacteria_4511.jpeg  person72_bacteria_352.jpeg\n",
            "person1705_bacteria_4515.jpeg  person72_bacteria_353.jpeg\n",
            "person1706_bacteria_4516.jpeg  person72_bacteria_354.jpeg\n",
            "person1707_bacteria_4520.jpeg  person730_bacteria_2632.jpeg\n",
            "person1708_bacteria_4521.jpeg  person730_virus_1351.jpeg\n",
            "person1709_bacteria_4522.jpeg  person731_bacteria_2633.jpeg\n",
            "person1709_bacteria_4523.jpeg  person731_virus_1352.jpeg\n",
            "person1709_bacteria_4524.jpeg  person732_bacteria_2634.jpeg\n",
            "person1710_bacteria_4525.jpeg  person732_virus_1353.jpeg\n",
            "person1710_bacteria_4526.jpeg  person733_bacteria_2635.jpeg\n",
            "person1711_bacteria_4527.jpeg  person734_bacteria_2637.jpeg\n",
            "person1712_bacteria_4529.jpeg  person734_virus_1355.jpeg\n",
            "person1713_bacteria_4530.jpeg  person735_bacteria_2638.jpeg\n",
            "person1715_bacteria_4532.jpeg  person735_virus_1356.jpeg\n",
            "person1716_bacteria_4533.jpeg  person736_bacteria_2639.jpeg\n",
            "person1717_bacteria_4534.jpeg  person736_virus_1358.jpeg\n",
            "person1717_bacteria_4536.jpeg  person737_bacteria_2640.jpeg\n",
            "person1718_bacteria_4538.jpeg  person738_bacteria_2641.jpeg\n",
            "person1718_bacteria_4540.jpeg  person738_virus_1360.jpeg\n",
            "person1719_bacteria_4541.jpeg  person739_bacteria_2642.jpeg\n",
            "person1719_bacteria_4542.jpeg  person739_virus_1361.jpeg\n",
            "person1719_bacteria_4544.jpeg  person73_bacteria_355.jpeg\n",
            "person1720_bacteria_4545.jpeg  person73_bacteria_356.jpeg\n",
            "person1721_bacteria_4546.jpeg  person73_bacteria_357.jpeg\n",
            "person1722_bacteria_4547.jpeg  person73_bacteria_358.jpeg\n",
            "person1723_bacteria_4548.jpeg  person73_bacteria_359.jpeg\n",
            "person1724_bacteria_4549.jpeg  person73_bacteria_360.jpeg\n",
            "person1725_bacteria_4550.jpeg  person740_bacteria_2643.jpeg\n",
            "person1725_bacteria_4551.jpeg  person740_virus_1362.jpeg\n",
            "person1726_bacteria_4552.jpeg  person740_virus_1363.jpeg\n",
            "person1728_bacteria_4555.jpeg  person741_bacteria_2644.jpeg\n",
            "person1728_bacteria_4556.jpeg  person741_virus_1364.jpeg\n",
            "person1729_bacteria_4557.jpeg  person742_virus_1365.jpeg\n",
            "person1730_bacteria_4558.jpeg  person743_bacteria_2646.jpeg\n",
            "person1730_bacteria_4559.jpeg  person743_virus_1366.jpeg\n",
            "person1731_bacteria_4563.jpeg  person744_bacteria_2647.jpeg\n",
            "person1732_bacteria_4564.jpeg  person744_virus_1367.jpeg\n",
            "person1733_bacteria_4566.jpeg  person745_bacteria_2648.jpeg\n",
            "person1735_bacteria_4570.jpeg  person745_virus_1368.jpeg\n",
            "person1737_bacteria_4573.jpeg  person746_bacteria_2649.jpeg\n",
            "person1739_bacteria_4576.jpeg  person746_virus_1369.jpeg\n",
            "person1740_bacteria_4579.jpeg  person747_bacteria_2650.jpeg\n",
            "person1744_bacteria_4583.jpeg  person747_virus_1370.jpeg\n",
            "person1745_bacteria_4584.jpeg  person747_virus_1372.jpeg\n",
            "person1746_bacteria_4585.jpeg  person748_virus_1373.jpeg\n",
            "person1748_bacteria_4588.jpeg  person749_bacteria_2652.jpeg\n",
            "person1749_bacteria_4590.jpeg  person749_virus_1374.jpeg\n",
            "person1751_bacteria_4592.jpeg  person74_bacteria_361.jpeg\n",
            "person1753_bacteria_4594.jpeg  person74_bacteria_362.jpeg\n",
            "person1756_bacteria_4598.jpeg  person74_bacteria_363.jpeg\n",
            "person1757_bacteria_4599.jpeg  person750_bacteria_2653.jpeg\n",
            "person1758_bacteria_4600.jpeg  person751_bacteria_2654.jpeg\n",
            "person1760_bacteria_4602.jpeg  person752_virus_1377.jpeg\n",
            "person1761_bacteria_4603.jpeg  person753_bacteria_2656.jpeg\n",
            "person1763_bacteria_4606.jpeg  person753_virus_1378.jpeg\n",
            "person1764_bacteria_4607.jpeg  person754_virus_1379.jpeg\n",
            "person1765_bacteria_4608.jpeg  person755_bacteria_2659.jpeg\n",
            "person1770_bacteria_4613.jpeg  person755_virus_1380.jpeg\n",
            "person1770_bacteria_4614.jpeg  person755_virus_1382.jpeg\n",
            "person1771_bacteria_4615.jpeg  person756_bacteria_2660.jpeg\n",
            "person1777_bacteria_4622.jpeg  person757_bacteria_2661.jpeg\n",
            "person1779_bacteria_4626.jpeg  person757_virus_1385.jpeg\n",
            "person1784_bacteria_4631.jpeg  person758_bacteria_2662.jpeg\n",
            "person1787_bacteria_4634.jpeg  person759_bacteria_2663.jpeg\n",
            "person1790_bacteria_4638.jpeg  person759_virus_1387.jpeg\n",
            "person1796_bacteria_4644.jpeg  person75_bacteria_364.jpeg\n",
            "person1799_bacteria_4647.jpeg  person75_bacteria_365.jpeg\n",
            "person17_bacteria_56.jpeg      person75_bacteria_366.jpeg\n",
            "person1803_bacteria_4651.jpeg  person75_bacteria_367.jpeg\n",
            "person1803_bacteria_4652.jpeg  person75_bacteria_368.jpeg\n",
            "person1810_bacteria_4664.jpeg  person75_bacteria_369.jpeg\n",
            "person1812_bacteria_4667.jpeg  person760_bacteria_2664.jpeg\n",
            "person1814_bacteria_4669.jpeg  person760_virus_1388.jpeg\n",
            "person1816_bacteria_4673.jpeg  person761_bacteria_2665.jpeg\n",
            "person1816_bacteria_4674.jpeg  person761_virus_1389.jpeg\n",
            "person1817_bacteria_4675.jpeg  person762_virus_1390.jpeg\n",
            "person1818_bacteria_4676.jpeg  person763_bacteria_2667.jpeg\n",
            "person1819_bacteria_4677.jpeg  person763_virus_1391.jpeg\n",
            "person1823_bacteria_4682.jpeg  person764_bacteria_2668.jpeg\n",
            "person1830_bacteria_4693.jpeg  person764_virus_1392.jpeg\n",
            "person1835_bacteria_4699.jpeg  person765_bacteria_2669.jpeg\n",
            "person1838_bacteria_4703.jpeg  person765_virus_1393.jpeg\n",
            "person1839_bacteria_4705.jpeg  person766_bacteria_2670.jpeg\n",
            "person1841_bacteria_4708.jpeg  person767_bacteria_2671.jpeg\n",
            "person1843_bacteria_4710.jpeg  person768_bacteria_2672.jpeg\n",
            "person1847_bacteria_4716.jpeg  person768_virus_1396.jpeg\n",
            "person1848_bacteria_4719.jpeg  person769_bacteria_2673.jpeg\n",
            "person1850_bacteria_4721.jpeg  person76_bacteria_370.jpeg\n",
            "person1851_bacteria_4722.jpeg  person76_bacteria_371.jpeg\n",
            "person1852_bacteria_4724.jpeg  person76_bacteria_372.jpeg\n",
            "person1855_bacteria_4727.jpeg  person770_bacteria_2674.jpeg\n",
            "person1857_bacteria_4729.jpeg  person770_virus_1398.jpeg\n",
            "person1858_bacteria_4730.jpeg  person771_bacteria_2675.jpeg\n",
            "person1859_bacteria_4731.jpeg  person771_virus_1399.jpeg\n",
            "person1860_bacteria_4732.jpeg  person772_virus_1401.jpeg\n",
            "person1863_bacteria_4735.jpeg  person773_virus_1402.jpeg\n",
            "person1864_bacteria_4736.jpeg  person774_bacteria_2678.jpeg\n",
            "person1865_bacteria_4737.jpeg  person774_virus_1403.jpeg\n",
            "person1865_bacteria_4739.jpeg  person775_bacteria_2679.jpeg\n",
            "person1866_bacteria_4740.jpeg  person775_virus_1404.jpeg\n",
            "person1867_bacteria_4741.jpeg  person776_bacteria_2680.jpeg\n",
            "person1868_bacteria_4743.jpeg  person776_virus_1405.jpeg\n",
            "person1869_bacteria_4745.jpeg  person778_bacteria_2682.jpeg\n",
            "person1872_bacteria_4750.jpeg  person778_virus_1408.jpeg\n",
            "person1872_bacteria_4751.jpeg  person779_bacteria_2683.jpeg\n",
            "person1875_bacteria_4756.jpeg  person779_virus_1409.jpeg\n",
            "person1876_bacteria_4760.jpeg  person779_virus_1410.jpeg\n",
            "person1877_bacteria_4761.jpeg  person77_bacteria_374.jpeg\n",
            "person1879_bacteria_4764.jpeg  person77_bacteria_375.jpeg\n",
            "person1880_bacteria_4765.jpeg  person77_bacteria_376.jpeg\n",
            "person1881_bacteria_4767.jpeg  person77_bacteria_377.jpeg\n",
            "person1883_bacteria_4769.jpeg  person780_bacteria_2684.jpeg\n",
            "person1884_bacteria_4771.jpeg  person780_virus_1411.jpeg\n",
            "person1885_bacteria_4772.jpeg  person781_virus_1412.jpeg\n",
            "person1886_bacteria_4773.jpeg  person782_bacteria_2686.jpeg\n",
            "person1888_bacteria_4775.jpeg  person783_bacteria_2687.jpeg\n",
            "person1893_bacteria_4781.jpeg  person783_virus_1414.jpeg\n",
            "person1896_bacteria_4788.jpeg  person785_bacteria_2689.jpeg\n",
            "person1897_bacteria_4789.jpeg  person786_bacteria_2690.jpeg\n",
            "person18_bacteria_57.jpeg      person787_bacteria_2691.jpeg\n",
            "person1901_bacteria_4795.jpeg  person788_virus_1419.jpeg\n",
            "person1903_bacteria_4797.jpeg  person789_bacteria_2694.jpeg\n",
            "person1904_bacteria_4798.jpeg  person789_virus_1420.jpeg\n",
            "person1905_bacteria_4801.jpeg  person790_virus_1421.jpeg\n",
            "person1906_bacteria_4803.jpeg  person791_virus_1422.jpeg\n",
            "person1907_bacteria_4806.jpeg  person793_virus_1424.jpeg\n",
            "person1908_bacteria_4811.jpeg  person794_bacteria_2700.jpeg\n",
            "person1910_bacteria_4814.jpeg  person795_virus_1427.jpeg\n",
            "person1911_bacteria_4815.jpeg  person796_bacteria_2702.jpeg\n",
            "person1912_bacteria_4816.jpeg  person796_virus_1428.jpeg\n",
            "person1912_bacteria_4817.jpeg  person797_virus_1429.jpeg\n",
            "person1916_bacteria_4821.jpeg  person798_virus_1430.jpeg\n",
            "person1917_bacteria_4823.jpeg  person799_bacteria_2705.jpeg\n",
            "person1918_bacteria_4825.jpeg  person799_virus_1431.jpeg\n",
            "person1921_bacteria_4828.jpeg  person7_bacteria_24.jpeg\n",
            "person1922_bacteria_4830.jpeg  person7_bacteria_25.jpeg\n",
            "person1923_bacteria_4831.jpeg  person7_bacteria_28.jpeg\n",
            "person1924_bacteria_4832.jpeg  person7_bacteria_29.jpeg\n",
            "person1924_bacteria_4833.jpeg  person800_bacteria_2706.jpeg\n",
            "person1926_bacteria_4835.jpeg  person801_virus_1434.jpeg\n",
            "person1927_bacteria_4836.jpeg  person802_bacteria_2708.jpeg\n",
            "person1927_bacteria_4837.jpeg  person803_bacteria_2710.jpeg\n",
            "person1929_bacteria_4839.jpeg  person803_virus_1436.jpeg\n",
            "person1930_bacteria_4841.jpeg  person804_bacteria_2711.jpeg\n",
            "person1931_bacteria_4842.jpeg  person805_bacteria_2712.jpeg\n",
            "person1932_bacteria_4843.jpeg  person806_virus_1439.jpeg\n",
            "person1933_bacteria_4844.jpeg  person806_virus_1440.jpeg\n",
            "person1934_bacteria_4846.jpeg  person807_virus_1441.jpeg\n",
            "person1935_bacteria_4847.jpeg  person808_bacteria_2716.jpeg\n",
            "person1935_bacteria_4848.jpeg  person808_virus_1442.jpeg\n",
            "person1935_bacteria_4849.jpeg  person809_bacteria_2717.jpeg\n",
            "person1935_bacteria_4850.jpeg  person809_bacteria_2718.jpeg\n",
            "person1936_bacteria_4852.jpeg  person80_virus_150.jpeg\n",
            "person1937_bacteria_4853.jpeg  person810_bacteria_2719.jpeg\n",
            "person1938_bacteria_4854.jpeg  person810_virus_1445.jpeg\n",
            "person1940_bacteria_4859.jpeg  person810_virus_1446.jpeg\n",
            "person1940_bacteria_4861.jpeg  person811_bacteria_2721.jpeg\n",
            "person1940_bacteria_4862.jpeg  person811_virus_1447.jpeg\n",
            "person1941_bacteria_4863.jpeg  person813_bacteria_2723.jpeg\n",
            "person1942_bacteria_4865.jpeg  person813_bacteria_2724.jpeg\n",
            "person1943_bacteria_4868.jpeg  person813_virus_1449.jpeg\n",
            "person1944_bacteria_4869.jpeg  person814_bacteria_2725.jpeg\n",
            "person1945_bacteria_4872.jpeg  person815_bacteria_2726.jpeg\n",
            "person19_bacteria_58.jpeg      person816_bacteria_2727.jpeg\n",
            "person19_bacteria_59.jpeg      person817_bacteria_2728.jpeg\n",
            "person19_bacteria_60.jpeg      person818_bacteria_2729.jpeg\n",
            "person19_bacteria_61.jpeg      person819_bacteria_2730.jpeg\n",
            "person19_bacteria_62.jpeg      person819_virus_1455.jpeg\n",
            "person19_bacteria_63.jpeg      person81_virus_152.jpeg\n",
            "person1_bacteria_1.jpeg        person81_virus_153.jpeg\n",
            "person1_bacteria_2.jpeg        person820_bacteria_2731.jpeg\n",
            "person20_bacteria_64.jpeg      person820_virus_1456.jpeg\n",
            "person20_bacteria_66.jpeg      person823_virus_1459.jpeg\n",
            "person20_bacteria_67.jpeg      person825_bacteria_2736.jpeg\n",
            "person20_bacteria_69.jpeg      person826_bacteria_2737.jpeg\n",
            "person20_bacteria_70.jpeg      person826_virus_1462.jpeg\n",
            "person21_bacteria_72.jpeg      person827_bacteria_2738.jpeg\n",
            "person21_bacteria_73.jpeg      person829_bacteria_2740.jpeg\n",
            "person22_bacteria_74.jpeg      person82_virus_154.jpeg\n",
            "person22_bacteria_76.jpeg      person82_virus_155.jpeg\n",
            "person22_bacteria_77.jpeg      person830_bacteria_2741.jpeg\n",
            "person23_bacteria_100.jpeg     person830_virus_1466.jpeg\n",
            "person23_bacteria_101.jpeg     person831_bacteria_2742.jpeg\n",
            "person23_bacteria_102.jpeg     person832_bacteria_2743.jpeg\n",
            "person23_bacteria_103.jpeg     person832_virus_1468.jpeg\n",
            "person23_bacteria_104.jpeg     person833_virus_1469.jpeg\n",
            "person23_bacteria_105.jpeg     person834_bacteria_2747.jpeg\n",
            "person23_bacteria_106.jpeg     person834_bacteria_2748.jpeg\n",
            "person23_bacteria_107.jpeg     person835_bacteria_2749.jpeg\n",
            "person23_bacteria_78.jpeg      person835_bacteria_2750.jpeg\n",
            "person23_bacteria_79.jpeg      person835_virus_1472.jpeg\n",
            "person23_bacteria_80.jpeg      person836_bacteria_2752.jpeg\n",
            "person23_bacteria_81.jpeg      person836_virus_1473.jpeg\n",
            "person23_bacteria_82.jpeg      person837_bacteria_2753.jpeg\n",
            "person23_bacteria_83.jpeg      person837_bacteria_2754.jpeg\n",
            "person23_bacteria_84.jpeg      person837_virus_1475.jpeg\n",
            "person23_bacteria_85.jpeg      person838_virus_1476.jpeg\n",
            "person23_bacteria_86.jpeg      person839_bacteria_2757.jpeg\n",
            "person23_bacteria_87.jpeg      person83_virus_156.jpeg\n",
            "person23_bacteria_88.jpeg      person840_bacteria_2758.jpeg\n",
            "person23_bacteria_89.jpeg      person840_bacteria_2759.jpeg\n",
            "person23_bacteria_90.jpeg      person841_bacteria_2760.jpeg\n",
            "person23_bacteria_91.jpeg      person841_bacteria_2761.jpeg\n",
            "person23_bacteria_92.jpeg      person841_virus_1481.jpeg\n",
            "person23_bacteria_93.jpeg      person842_bacteria_2762.jpeg\n",
            "person23_bacteria_94.jpeg      person842_virus_1483.jpeg\n",
            "person23_bacteria_95.jpeg      person843_bacteria_2763.jpeg\n",
            "person23_bacteria_96.jpeg      person843_virus_1485.jpeg\n",
            "person23_bacteria_97.jpeg      person844_virus_1487.jpeg\n",
            "person23_bacteria_98.jpeg      person845_virus_1489.jpeg\n",
            "person23_bacteria_99.jpeg      person846_bacteria_2766.jpeg\n",
            "person24_bacteria_108.jpeg     person846_virus_1491.jpeg\n",
            "person24_bacteria_109.jpeg     person847_bacteria_2767.jpeg\n",
            "person24_bacteria_110.jpeg     person847_virus_1492.jpeg\n",
            "person24_bacteria_111.jpeg     person848_bacteria_2769.jpeg\n",
            "person24_bacteria_112.jpeg     person848_virus_1493.jpeg\n",
            "person253_bacteria_1152.jpeg   person849_bacteria_2770.jpeg\n",
            "person253_bacteria_1153.jpeg   person849_virus_1494.jpeg\n",
            "person253_bacteria_1154.jpeg   person84_virus_157.jpeg\n",
            "person253_bacteria_1155.jpeg   person850_bacteria_2771.jpeg\n",
            "person253_bacteria_1156.jpeg   person851_virus_1496.jpeg\n",
            "person253_bacteria_1157.jpeg   person852_virus_1497.jpeg\n",
            "person255_bacteria_1160.jpeg   person853_bacteria_2774.jpeg\n",
            "person255_bacteria_1161.jpeg   person853_bacteria_2775.jpeg\n",
            "person255_bacteria_1162.jpeg   person853_virus_1498.jpeg\n",
            "person255_bacteria_1165.jpeg   person854_bacteria_2776.jpeg\n",
            "person255_bacteria_1175.jpeg   person855_bacteria_2777.jpeg\n",
            "person255_bacteria_1182.jpeg   person855_virus_1500.jpeg\n",
            "person255_bacteria_1188.jpeg   person858_bacteria_2780.jpeg\n",
            "person255_virus_531.jpeg       person859_virus_1504.jpeg\n",
            "person256_bacteria_1189.jpeg   person860_virus_1505.jpeg\n",
            "person256_virus_537.jpeg       person861_virus_1506.jpeg\n",
            "person257_bacteria_1191.jpeg   person862_bacteria_2784.jpeg\n",
            "person257_bacteria_1193.jpeg   person862_virus_1507.jpeg\n",
            "person257_bacteria_1194.jpeg   person863_bacteria_2785.jpeg\n",
            "person257_bacteria_1195.jpeg   person863_virus_1508.jpeg\n",
            "person257_bacteria_1196.jpeg   person864_virus_1509.jpeg\n",
            "person257_bacteria_1197.jpeg   person866_bacteria_2788.jpeg\n",
            "person257_bacteria_1199.jpeg   person866_virus_1511.jpeg\n",
            "person257_bacteria_1200.jpeg   person867_bacteria_2789.jpeg\n",
            "person257_virus_538.jpeg       person867_virus_1512.jpeg\n",
            "person258_bacteria_1205.jpeg   person868_virus_1513.jpeg\n",
            "person258_bacteria_1206.jpeg   person868_virus_1514.jpeg\n",
            "person258_bacteria_1207.jpeg   person86_virus_159.jpeg\n",
            "person258_bacteria_1208.jpeg   person870_bacteria_2792.jpeg\n",
            "person258_bacteria_1209.jpeg   person870_virus_1516.jpeg\n",
            "person258_bacteria_1210.jpeg   person871_bacteria_2793.jpeg\n",
            "person258_bacteria_1212.jpeg   person871_virus_1517.jpeg\n",
            "person258_bacteria_1214.jpeg   person872_bacteria_2795.jpeg\n",
            "person258_bacteria_1215.jpeg   person873_bacteria_2796.jpeg\n",
            "person258_bacteria_1216.jpeg   person874_bacteria_2797.jpeg\n",
            "person258_virus_539.jpeg       person875_bacteria_2798.jpeg\n",
            "person259_bacteria_1217.jpeg   person876_bacteria_2799.jpeg\n",
            "person259_bacteria_1219.jpeg   person877_bacteria_2800.jpeg\n",
            "person259_bacteria_1220.jpeg   person877_virus_1525.jpeg\n",
            "person259_virus_540.jpeg       person878_bacteria_2801.jpeg\n",
            "person25_bacteria_113.jpeg     person878_virus_1526.jpeg\n",
            "person25_bacteria_114.jpeg     person87_virus_160.jpeg\n",
            "person25_bacteria_115.jpeg     person880_bacteria_2804.jpeg\n",
            "person25_bacteria_116.jpeg     person880_virus_1529.jpeg\n",
            "person25_bacteria_117.jpeg     person881_bacteria_2805.jpeg\n",
            "person25_bacteria_118.jpeg     person881_virus_1531.jpeg\n",
            "person25_bacteria_119.jpeg     person882_bacteria_2806.jpeg\n",
            "person25_bacteria_120.jpeg     person883_bacteria_2807.jpeg\n",
            "person25_bacteria_121.jpeg     person883_virus_1533.jpeg\n",
            "person260_bacteria_1222.jpeg   person884_bacteria_2808.jpeg\n",
            "person260_bacteria_1223.jpeg   person884_virus_1534.jpeg\n",
            "person260_bacteria_1224.jpeg   person885_bacteria_2809.jpeg\n",
            "person260_virus_541.jpeg       person886_bacteria_2810.jpeg\n",
            "person261_bacteria_1225.jpeg   person886_virus_1536.jpeg\n",
            "person261_virus_543.jpeg       person887_bacteria_2811.jpeg\n",
            "person262_bacteria_1226.jpeg   person888_bacteria_2812.jpeg\n",
            "person262_virus_544.jpeg       person888_virus_1538.jpeg\n",
            "person262_virus_545.jpeg       person889_bacteria_2813.jpeg\n",
            "person263_bacteria_1227.jpeg   person88_virus_161.jpeg\n",
            "person263_virus_546.jpeg       person88_virus_163.jpeg\n",
            "person264_bacteria_1228.jpeg   person88_virus_164.jpeg\n",
            "person264_bacteria_1229.jpeg   person88_virus_165.jpeg\n",
            "person264_bacteria_1230.jpeg   person88_virus_166.jpeg\n",
            "person264_bacteria_1231.jpeg   person88_virus_167.jpeg\n",
            "person264_bacteria_1232.jpeg   person890_bacteria_2814.jpeg\n",
            "person264_bacteria_1233.jpeg   person890_virus_1540.jpeg\n",
            "person264_bacteria_1234.jpeg   person891_virus_1541.jpeg\n",
            "person264_virus_547.jpeg       person892_bacteria_2817.jpeg\n",
            "person265_bacteria_1235.jpeg   person893_bacteria_2818.jpeg\n",
            "person265_bacteria_1236.jpeg   person894_bacteria_2819.jpeg\n",
            "person265_virus_548.jpeg       person894_virus_1546.jpeg\n",
            "person266_bacteria_1237.jpeg   person895_bacteria_2820.jpeg\n",
            "person266_bacteria_1238.jpeg   person895_virus_1547.jpeg\n",
            "person266_bacteria_1239.jpeg   person896_bacteria_2821.jpeg\n",
            "person266_bacteria_1240.jpeg   person896_virus_1548.jpeg\n",
            "person266_bacteria_1241.jpeg   person897_bacteria_2822.jpeg\n",
            "person266_bacteria_1242.jpeg   person898_bacteria_2823.jpeg\n",
            "person266_bacteria_1244.jpeg   person898_virus_1552.jpeg\n",
            "person266_bacteria_1245.jpeg   person899_virus_1553.jpeg\n",
            "person266_bacteria_1247.jpeg   person89_virus_168.jpeg\n",
            "person266_bacteria_1248.jpeg   person8_bacteria_37.jpeg\n",
            "person266_bacteria_1249.jpeg   person900_virus_1554.jpeg\n",
            "person266_virus_549.jpeg       person901_virus_1555.jpeg\n",
            "person267_bacteria_1250.jpeg   person902_bacteria_2827.jpeg\n",
            "person267_bacteria_1251.jpeg   person903_bacteria_2828.jpeg\n",
            "person267_bacteria_1252.jpeg   person904_bacteria_2829.jpeg\n",
            "person267_bacteria_1253.jpeg   person905_bacteria_2830.jpeg\n",
            "person267_virus_552.jpeg       person905_virus_1561.jpeg\n",
            "person268_virus_553.jpeg       person906_bacteria_2831.jpeg\n",
            "person269_virus_554.jpeg       person906_virus_1562.jpeg\n",
            "person26_bacteria_122.jpeg     person907_bacteria_2832.jpeg\n",
            "person26_bacteria_123.jpeg     person907_virus_1563.jpeg\n",
            "person26_bacteria_124.jpeg     person908_virus_1564.jpeg\n",
            "person26_bacteria_126.jpeg     person909_bacteria_2834.jpeg\n",
            "person26_bacteria_127.jpeg     person909_virus_1565.jpeg\n",
            "person26_bacteria_128.jpeg     person90_virus_169.jpeg\n",
            "person26_bacteria_129.jpeg     person90_virus_170.jpeg\n",
            "person26_bacteria_130.jpeg     person911_bacteria_2836.jpeg\n",
            "person26_bacteria_131.jpeg     person911_virus_1567.jpeg\n",
            "person26_bacteria_132.jpeg     person912_bacteria_2837.jpeg\n",
            "person26_bacteria_133.jpeg     person913_bacteria_2838.jpeg\n",
            "person270_virus_555.jpeg       person913_virus_1570.jpeg\n",
            "person271_virus_556.jpeg       person914_bacteria_2839.jpeg\n",
            "person272_virus_559.jpeg       person914_virus_1571.jpeg\n",
            "person273_virus_561.jpeg       person915_virus_1572.jpeg\n",
            "person273_virus_562.jpeg       person916_bacteria_2841.jpeg\n",
            "person274_bacteria_1288.jpeg   person917_bacteria_2842.jpeg\n",
            "person274_bacteria_1289.jpeg   person918_bacteria_2843.jpeg\n",
            "person274_bacteria_1290.jpeg   person918_virus_1575.jpeg\n",
            "person274_virus_563.jpeg       person919_bacteria_2844.jpeg\n",
            "person275_bacteria_1291.jpeg   person919_virus_1576.jpeg\n",
            "person275_bacteria_1293.jpeg   person920_bacteria_2845.jpeg\n",
            "person275_bacteria_1294.jpeg   person920_virus_1577.jpeg\n",
            "person275_virus_565.jpeg       person921_bacteria_2846.jpeg\n",
            "person276_bacteria_1295.jpeg   person921_virus_1578.jpeg\n",
            "person276_bacteria_1296.jpeg   person922_bacteria_2847.jpeg\n",
            "person276_bacteria_1297.jpeg   person923_bacteria_2848.jpeg\n",
            "person276_bacteria_1298.jpeg   person924_bacteria_2849.jpeg\n",
            "person276_bacteria_1299.jpeg   person924_virus_1581.jpeg\n",
            "person276_virus_569.jpeg       person925_bacteria_2850.jpeg\n",
            "person277_bacteria_1300.jpeg   person925_virus_1582.jpeg\n",
            "person277_bacteria_1301.jpeg   person926_virus_1583.jpeg\n",
            "person277_bacteria_1302.jpeg   person927_bacteria_2852.jpeg\n",
            "person277_bacteria_1303.jpeg   person927_virus_1584.jpeg\n",
            "person277_bacteria_1304.jpeg   person928_virus_1586.jpeg\n",
            "person277_bacteria_1305.jpeg   person929_bacteria_2854.jpeg\n",
            "person277_bacteria_1306.jpeg   person929_virus_1588.jpeg\n",
            "person277_bacteria_1307.jpeg   person929_virus_1589.jpeg\n",
            "person277_virus_571.jpeg       person92_virus_174.jpeg\n",
            "person278_bacteria_1309.jpeg   person930_bacteria_2855.jpeg\n",
            "person278_bacteria_1311.jpeg   person931_bacteria_2856.jpeg\n",
            "person278_bacteria_1313.jpeg   person931_virus_1592.jpeg\n",
            "person278_bacteria_1314.jpeg   person932_virus_1593.jpeg\n",
            "person278_virus_572.jpeg       person933_bacteria_2858.jpeg\n",
            "person278_virus_573.jpeg       person933_virus_1594.jpeg\n",
            "person278_virus_574.jpeg       person934_bacteria_2859.jpeg\n",
            "person278_virus_575.jpeg       person934_virus_1595.jpeg\n",
            "person279_bacteria_1315.jpeg   person935_virus_1597.jpeg\n",
            "person279_bacteria_1316.jpeg   person936_bacteria_2861.jpeg\n",
            "person279_virus_576.jpeg       person936_virus_1598.jpeg\n",
            "person27_bacteria_135.jpeg     person937_bacteria_2862.jpeg\n",
            "person27_bacteria_136.jpeg     person937_virus_1599.jpeg\n",
            "person27_bacteria_137.jpeg     person938_bacteria_2863.jpeg\n",
            "person27_bacteria_138.jpeg     person938_virus_1600.jpeg\n",
            "person280_bacteria_1318.jpeg   person939_bacteria_2864.jpeg\n",
            "person280_bacteria_1320.jpeg   person93_virus_175.jpeg\n",
            "person280_bacteria_1321.jpeg   person940_bacteria_2865.jpeg\n",
            "person280_bacteria_1322.jpeg   person940_virus_1602.jpeg\n",
            "person280_virus_577.jpeg       person940_virus_1604.jpeg\n",
            "person281_bacteria_1323.jpeg   person940_virus_1605.jpeg\n",
            "person281_bacteria_1324.jpeg   person940_virus_1607.jpeg\n",
            "person281_bacteria_1325.jpeg   person940_virus_1609.jpeg\n",
            "person281_bacteria_1326.jpeg   person941_virus_1610.jpeg\n",
            "person281_bacteria_1327.jpeg   person942_bacteria_2867.jpeg\n",
            "person281_bacteria_1328.jpeg   person942_virus_1611.jpeg\n",
            "person281_bacteria_1329.jpeg   person943_bacteria_2868.jpeg\n",
            "person281_bacteria_1330.jpeg   person944_bacteria_2869.jpeg\n",
            "person281_bacteria_1331.jpeg   person945_bacteria_2870.jpeg\n",
            "person281_bacteria_1332.jpeg   person945_virus_1616.jpeg\n",
            "person281_bacteria_1333.jpeg   person946_bacteria_2871.jpeg\n",
            "person281_virus_578.jpeg       person947_bacteria_2872.jpeg\n",
            "person282_virus_579.jpeg       person947_virus_1618.jpeg\n",
            "person284_virus_582.jpeg       person949_bacteria_2874.jpeg\n",
            "person286_virus_585.jpeg       person949_virus_1620.jpeg\n",
            "person287_bacteria_1354.jpeg   person94_virus_176.jpeg\n",
            "person287_bacteria_1355.jpeg   person950_virus_1621.jpeg\n",
            "person287_virus_586.jpeg       person951_bacteria_2876.jpeg\n",
            "person288_virus_587.jpeg       person951_virus_1622.jpeg\n",
            "person289_virus_593.jpeg       person952_bacteria_2877.jpeg\n",
            "person28_bacteria_139.jpeg     person952_virus_1623.jpeg\n",
            "person28_bacteria_141.jpeg     person953_bacteria_2878.jpeg\n",
            "person28_bacteria_142.jpeg     person954_bacteria_2879.jpeg\n",
            "person28_bacteria_143.jpeg     person954_virus_1626.jpeg\n",
            "person290_bacteria_1372.jpeg   person955_bacteria_2880.jpeg\n",
            "person290_virus_594.jpeg       person955_virus_1627.jpeg\n",
            "person291_bacteria_1374.jpeg   person956_bacteria_2881.jpeg\n",
            "person291_bacteria_1376.jpeg   person956_virus_1628.jpeg\n",
            "person291_bacteria_1377.jpeg   person957_bacteria_2882.jpeg\n",
            "person291_virus_596.jpeg       person957_virus_1629.jpeg\n",
            "person292_bacteria_1378.jpeg   person958_bacteria_2883.jpeg\n",
            "person292_virus_597.jpeg       person958_virus_1630.jpeg\n",
            "person292_virus_598.jpeg       person959_bacteria_2884.jpeg\n",
            "person292_virus_599.jpeg       person95_virus_177.jpeg\n",
            "person292_virus_600.jpeg       person960_bacteria_2885.jpeg\n",
            "person292_virus_602.jpeg       person960_virus_1633.jpeg\n",
            "person293_bacteria_1379.jpeg   person961_bacteria_2886.jpeg\n",
            "person293_virus_604.jpeg       person961_virus_1634.jpeg\n",
            "person293_virus_605.jpeg       person962_bacteria_2887.jpeg\n",
            "person294_bacteria_1380.jpeg   person962_virus_1635.jpeg\n",
            "person294_bacteria_1381.jpeg   person963_bacteria_2888.jpeg\n",
            "person294_bacteria_1382.jpeg   person963_virus_1636.jpeg\n",
            "person294_bacteria_1383.jpeg   person964_bacteria_2889.jpeg\n",
            "person294_bacteria_1384.jpeg   person964_virus_1637.jpeg\n",
            "person294_bacteria_1385.jpeg   person965_bacteria_2890.jpeg\n",
            "person294_bacteria_1386.jpeg   person965_virus_1638.jpeg\n",
            "person294_bacteria_1388.jpeg   person966_bacteria_2891.jpeg\n",
            "person294_virus_606.jpeg       person966_virus_1639.jpeg\n",
            "person294_virus_610.jpeg       person967_bacteria_2892.jpeg\n",
            "person294_virus_611.jpeg       person967_virus_1640.jpeg\n",
            "person295_bacteria_1389.jpeg   person968_bacteria_2893.jpeg\n",
            "person295_bacteria_1390.jpeg   person968_virus_1642.jpeg\n",
            "person295_virus_612.jpeg       person969_bacteria_2894.jpeg\n",
            "person296_bacteria_1391.jpeg   person969_virus_1643.jpeg\n",
            "person296_bacteria_1392.jpeg   person96_virus_178.jpeg\n",
            "person296_bacteria_1393.jpeg   person96_virus_179.jpeg\n",
            "person296_bacteria_1394.jpeg   person970_bacteria_2895.jpeg\n",
            "person296_bacteria_1395.jpeg   person970_virus_1644.jpeg\n",
            "person296_bacteria_1396.jpeg   person971_bacteria_2896.jpeg\n",
            "person296_bacteria_1397.jpeg   person972_bacteria_2897.jpeg\n",
            "person296_virus_613.jpeg       person972_virus_1646.jpeg\n",
            "person297_bacteria_1400.jpeg   person973_virus_1647.jpeg\n",
            "person297_bacteria_1404.jpeg   person974_bacteria_2899.jpeg\n",
            "person297_virus_614.jpeg       person974_virus_1649.jpeg\n",
            "person298_bacteria_1408.jpeg   person975_virus_1650.jpeg\n",
            "person298_bacteria_1409.jpeg   person976_bacteria_2901.jpeg\n",
            "person298_bacteria_1410.jpeg   person976_virus_1651.jpeg\n",
            "person298_bacteria_1411.jpeg   person977_bacteria_2902.jpeg\n",
            "person298_bacteria_1412.jpeg   person977_virus_1652.jpeg\n",
            "person298_bacteria_1413.jpeg   person978_bacteria_2904.jpeg\n",
            "person298_virus_617.jpeg       person978_virus_1653.jpeg\n",
            "person298_virus_618.jpeg       person979_bacteria_2905.jpeg\n",
            "person299_bacteria_1414.jpeg   person979_virus_1654.jpeg\n",
            "person299_bacteria_1416.jpeg   person97_virus_180.jpeg\n",
            "person299_bacteria_1417.jpeg   person97_virus_181.jpeg\n",
            "person299_bacteria_1418.jpeg   person980_bacteria_2906.jpeg\n",
            "person299_bacteria_1419.jpeg   person980_virus_1655.jpeg\n",
            "person299_virus_620.jpeg       person981_bacteria_2907.jpeg\n",
            "person29_bacteria_144.jpeg     person981_bacteria_2908.jpeg\n",
            "person2_bacteria_3.jpeg        person981_virus_1657.jpeg\n",
            "person2_bacteria_4.jpeg        person982_bacteria_2909.jpeg\n",
            "person300_bacteria_1421.jpeg   person982_virus_1658.jpeg\n",
            "person300_bacteria_1422.jpeg   person983_bacteria_2910.jpeg\n",
            "person300_bacteria_1423.jpeg   person983_virus_1660.jpeg\n",
            "person300_virus_621.jpeg       person984_bacteria_2911.jpeg\n",
            "person301_bacteria_1424.jpeg   person985_bacteria_2912.jpeg\n",
            "person301_bacteria_1427.jpeg   person986_bacteria_2913.jpeg\n",
            "person301_bacteria_1428.jpeg   person987_bacteria_2914.jpeg\n",
            "person301_bacteria_1429.jpeg   person988_bacteria_2915.jpeg\n",
            "person301_virus_622.jpeg       person988_virus_1666.jpeg\n",
            "person302_bacteria_1430.jpeg   person989_virus_1667.jpeg\n",
            "person302_virus_623.jpeg       person98_virus_182.jpeg\n",
            "person303_bacteria_1431.jpeg   person990_bacteria_2917.jpeg\n",
            "person303_virus_624.jpeg       person991_bacteria_2918.jpeg\n",
            "person304_virus_625.jpeg       person991_virus_1669.jpeg\n",
            "person305_bacteria_1435.jpeg   person992_bacteria_2919.jpeg\n",
            "person305_bacteria_1436.jpeg   person992_bacteria_2920.jpeg\n",
            "person305_bacteria_1437.jpeg   person992_virus_1670.jpeg\n",
            "person305_virus_627.jpeg       person993_bacteria_2921.jpeg\n",
            "person306_bacteria_1439.jpeg   person993_virus_1671.jpeg\n",
            "person306_bacteria_1440.jpeg   person994_bacteria_2922.jpeg\n",
            "person306_virus_628.jpeg       person994_virus_1672.jpeg\n",
            "person307_bacteria_1441.jpeg   person995_bacteria_2923.jpeg\n",
            "person307_bacteria_1442.jpeg   person995_virus_1676.jpeg\n",
            "person307_virus_629.jpeg       person996_bacteria_2924.jpeg\n",
            "person308_bacteria_1443.jpeg   person996_virus_1677.jpeg\n",
            "person308_bacteria_1445.jpeg   person997_bacteria_2926.jpeg\n",
            "person308_virus_630.jpeg       person997_virus_1678.jpeg\n",
            "person309_bacteria_1447.jpeg   person998_bacteria_2927.jpeg\n",
            "person309_bacteria_1449.jpeg   person998_bacteria_2928.jpeg\n",
            "person309_virus_631.jpeg       person99_virus_183.jpeg\n",
            "person309_virus_632.jpeg       person9_bacteria_38.jpeg\n",
            "person30_bacteria_145.jpeg     person9_bacteria_39.jpeg\n",
            "person30_bacteria_146.jpeg     person9_bacteria_40.jpeg\n",
            "person30_bacteria_147.jpeg     person9_bacteria_41.jpeg\n",
            "person30_bacteria_148.jpeg\n"
          ],
          "name": "stdout"
        }
      ]
    },
    {
      "cell_type": "markdown",
      "metadata": {
        "id": "1rhfJxX7SYqW"
      },
      "source": [
        "Getting more insights of our data :"
      ]
    },
    {
      "cell_type": "code",
      "metadata": {
        "colab": {
          "base_uri": "https://localhost:8080/"
        },
        "id": "KAwYbWwn8AsS",
        "outputId": "02329e9e-2146-4bd9-d479-9687a5f24306"
      },
      "source": [
        "import os \n",
        "\n",
        "# Walkthrough chest xray directory and list number of files\n",
        "for dirpath, dirnames, filenames in os.walk(\"/content/drive/MyDrive/Pneumonia/chest_xray/chest_xray\"):\n",
        "  print(f\"There are {len(dirnames)} directories and {len(filenames)} images in '{dirpath}'. \")"
      ],
      "execution_count": null,
      "outputs": [
        {
          "output_type": "stream",
          "text": [
            "There are 3 directories and 1 images in '/content/drive/MyDrive/Pneumonia/chest_xray/chest_xray'. \n",
            "There are 2 directories and 1 images in '/content/drive/MyDrive/Pneumonia/chest_xray/chest_xray/test'. \n",
            "There are 0 directories and 234 images in '/content/drive/MyDrive/Pneumonia/chest_xray/chest_xray/test/NORMAL'. \n",
            "There are 0 directories and 390 images in '/content/drive/MyDrive/Pneumonia/chest_xray/chest_xray/test/PNEUMONIA'. \n",
            "There are 2 directories and 1 images in '/content/drive/MyDrive/Pneumonia/chest_xray/chest_xray/train'. \n",
            "There are 0 directories and 1342 images in '/content/drive/MyDrive/Pneumonia/chest_xray/chest_xray/train/NORMAL'. \n",
            "There are 0 directories and 3876 images in '/content/drive/MyDrive/Pneumonia/chest_xray/chest_xray/train/PNEUMONIA'. \n",
            "There are 2 directories and 1 images in '/content/drive/MyDrive/Pneumonia/chest_xray/chest_xray/val'. \n",
            "There are 0 directories and 9 images in '/content/drive/MyDrive/Pneumonia/chest_xray/chest_xray/val/NORMAL'. \n",
            "There are 0 directories and 9 images in '/content/drive/MyDrive/Pneumonia/chest_xray/chest_xray/val/PNEUMONIA'. \n"
          ],
          "name": "stdout"
        }
      ]
    },
    {
      "cell_type": "code",
      "metadata": {
        "colab": {
          "base_uri": "https://localhost:8080/"
        },
        "id": "VF6UZD358Q3X",
        "outputId": "6cf90715-49bc-43db-b880-0306ec265f42"
      },
      "source": [
        "import pathlib\n",
        "import numpy as np\n",
        "data_dir = pathlib.Path(\"/content/drive/MyDrive/Pneumonia/chest_xray/chest_xray/train\")\n",
        "class_names = np.array(sorted([item.name for item in data_dir.glob(\"*\")]))\n",
        "class_names = class_names[1:]\n",
        "print(class_names)"
      ],
      "execution_count": null,
      "outputs": [
        {
          "output_type": "stream",
          "text": [
            "['NORMAL' 'PNEUMONIA']\n"
          ],
          "name": "stdout"
        }
      ]
    },
    {
      "cell_type": "code",
      "metadata": {
        "id": "AbllZPba8YjV"
      },
      "source": [
        "# Visualizing our data \n",
        "import matplotlib.pyplot as plt\n",
        "import matplotlib.image as mpimg\n",
        "import random\n",
        "\n",
        "def view_random_image(target_dir, target_class):\n",
        "  # Setup the target directory \n",
        "  target_folder = target_dir+target_class\n",
        "\n",
        "  # Get a random image path \n",
        "  random_image = random.sample(os.listdir(target_folder), 1)\n",
        "  print(random_image)\n",
        "\n",
        "  # Read in the image and plot it using matplotlib\n",
        "  img = mpimg.imread(target_folder + \"/\" + random_image[0])\n",
        "  plt.imshow(img)\n",
        "  plt.title(target_class)\n",
        "  plt.axis(\"off\");\n",
        "\n",
        "  print(f\"Image shape: {img.shape}\") # Show the shape of the image \n",
        "\n",
        "  return img"
      ],
      "execution_count": null,
      "outputs": []
    },
    {
      "cell_type": "markdown",
      "metadata": {
        "id": "_Q17_R2dSgYJ"
      },
      "source": [
        "Visualizing our data so that we can understand our data more efficiently by randomly selecting an image and viewing it."
      ]
    },
    {
      "cell_type": "code",
      "metadata": {
        "colab": {
          "base_uri": "https://localhost:8080/",
          "height": 296
        },
        "id": "ZhUtAJFT8uwk",
        "outputId": "4eb00b92-5c81-473a-d315-10caf7db0333"
      },
      "source": [
        "# Viewing a random image from train\n",
        "img = view_random_image(target_dir=\"/content/drive/MyDrive/Pneumonia/chest_xray/chest_xray/test/\",\n",
        "                        target_class=\"PNEUMONIA\")"
      ],
      "execution_count": null,
      "outputs": [
        {
          "output_type": "stream",
          "text": [
            "['person25_virus_59.jpeg']\n",
            "Image shape: (616, 960)\n"
          ],
          "name": "stdout"
        },
        {
          "output_type": "display_data",
          "data": {
            "image/png": "[encoded data removed]",
            "text/plain": [
              "<Figure size 432x288 with 1 Axes>"
            ]
          },
          "metadata": {
            "tags": [],
            "needs_background": "light"
          }
        }
      ]
    },
    {
      "cell_type": "code",
      "metadata": {
        "colab": {
          "base_uri": "https://localhost:8080/"
        },
        "id": "IKeqpqM18wLf",
        "outputId": "2379d926-5c58-4731-aaed-a57968119b40"
      },
      "source": [
        "import tensorflow as tf\n",
        "tf.constant(img)"
      ],
      "execution_count": null,
      "outputs": [
        {
          "output_type": "execute_result",
          "data": {
            "text/plain": [
              "<tf.Tensor: shape=(616, 960), dtype=uint8, numpy=\n",
              "array([[4, 4, 5, ..., 0, 0, 0],\n",
              "       [4, 4, 5, ..., 0, 0, 0],\n",
              "       [4, 4, 5, ..., 0, 0, 0],\n",
              "       ...,\n",
              "       [0, 0, 0, ..., 0, 0, 0],\n",
              "       [0, 0, 0, ..., 0, 0, 0],\n",
              "       [0, 0, 0, ..., 0, 0, 0]], dtype=uint8)>"
            ]
          },
          "metadata": {
            "tags": []
          },
          "execution_count": 5
        }
      ]
    },
    {
      "cell_type": "code",
      "metadata": {
        "colab": {
          "base_uri": "https://localhost:8080/"
        },
        "id": "SypgCkPK9Fu8",
        "outputId": "cc844933-4e55-413a-adea-1509a1f4770c"
      },
      "source": [
        "# Image shape \n",
        "img.shape"
      ],
      "execution_count": null,
      "outputs": [
        {
          "output_type": "execute_result",
          "data": {
            "text/plain": [
              "(616, 960)"
            ]
          },
          "metadata": {
            "tags": []
          },
          "execution_count": 6
        }
      ]
    },
    {
      "cell_type": "code",
      "metadata": {
        "colab": {
          "base_uri": "https://localhost:8080/"
        },
        "id": "OiuIgU-Y9I1J",
        "outputId": "c77664b5-46cc-48ee-af40-e18cbcffe273"
      },
      "source": [
        "# Neural networks preffer Normalization\n",
        "img/255."
      ],
      "execution_count": null,
      "outputs": [
        {
          "output_type": "execute_result",
          "data": {
            "text/plain": [
              "array([[0.01568627, 0.01568627, 0.01960784, ..., 0.        , 0.        ,\n",
              "        0.        ],\n",
              "       [0.01568627, 0.01568627, 0.01960784, ..., 0.        , 0.        ,\n",
              "        0.        ],\n",
              "       [0.01568627, 0.01568627, 0.01960784, ..., 0.        , 0.        ,\n",
              "        0.        ],\n",
              "       ...,\n",
              "       [0.        , 0.        , 0.        , ..., 0.        , 0.        ,\n",
              "        0.        ],\n",
              "       [0.        , 0.        , 0.        , ..., 0.        , 0.        ,\n",
              "        0.        ],\n",
              "       [0.        , 0.        , 0.        , ..., 0.        , 0.        ,\n",
              "        0.        ]])"
            ]
          },
          "metadata": {
            "tags": []
          },
          "execution_count": 7
        }
      ]
    },
    {
      "cell_type": "markdown",
      "metadata": {
        "id": "v8JdZ9u9SuXR"
      },
      "source": [
        "#### Lets visualize our data with respect to one another like the Normal X-ray and the infected one."
      ]
    },
    {
      "cell_type": "markdown",
      "metadata": {
        "id": "I2l4U_lk9t67"
      },
      "source": [
        "## 1. Visualizing the data "
      ]
    },
    {
      "cell_type": "code",
      "metadata": {
        "colab": {
          "base_uri": "https://localhost:8080/",
          "height": 242
        },
        "id": "nNI2Uerc9LhW",
        "outputId": "06106108-9248-4ded-fb3b-9c466813e176"
      },
      "source": [
        "# Visualize both the data \n",
        "plt.figure()\n",
        "plt.subplot(1, 2, 1)\n",
        "steak_img = view_random_image(\"/content/drive/MyDrive/Pneumonia/chest_xray/chest_xray/train/\", \"NORMAL\")\n",
        "plt.subplot(1, 2, 2)\n",
        "pizza_img = view_random_image(\"/content/drive/MyDrive/Pneumonia/chest_xray/chest_xray/train/\", \"PNEUMONIA\")"
      ],
      "execution_count": null,
      "outputs": [
        {
          "output_type": "stream",
          "text": [
            "['NORMAL2-IM-0582-0001.jpeg']\n",
            "Image shape: (1190, 1484)\n",
            "['person337_bacteria_1565.jpeg']\n",
            "Image shape: (688, 824)\n"
          ],
          "name": "stdout"
        },
        {
          "output_type": "display_data",
          "data": {
            "image/png": "[encoded data removed]",
            "text/plain": [
              "<Figure size 432x288 with 2 Axes>"
            ]
          },
          "metadata": {
            "tags": [],
            "needs_background": "light"
          }
        }
      ]
    },
    {
      "cell_type": "markdown",
      "metadata": {
        "id": "HthWfKPL9xP6"
      },
      "source": [
        "## 2. Preprocessing the data "
      ]
    },
    {
      "cell_type": "markdown",
      "metadata": {
        "id": "MHF25jF4TOgz"
      },
      "source": [
        "The data presented to us is not same, some images are of random shapes and also let's Normalize our data so that it becomes easier for our Neural Network to learn patterns."
      ]
    },
    {
      "cell_type": "code",
      "metadata": {
        "id": "VDR7poll9hGt"
      },
      "source": [
        "# Defining directory dataset paths\n",
        "train_dir = \"/content/drive/MyDrive/Pneumonia/chest_xray/chest_xray/train\"\n",
        "val_dir = \"/content/drive/MyDrive/Pneumonia/chest_xray/chest_xray/val\"\n",
        "test_dir = \"/content/drive/MyDrive/Pneumonia/chest_xray/chest_xray/test/\""
      ],
      "execution_count": null,
      "outputs": []
    },
    {
      "cell_type": "markdown",
      "metadata": {
        "id": "JjZMbvjK-F82"
      },
      "source": [
        "Turning our data into batches"
      ]
    },
    {
      "cell_type": "code",
      "metadata": {
        "id": "6bk9bB4u-Eiw"
      },
      "source": [
        "from tensorflow.keras.preprocessing.image import ImageDataGenerator\n",
        "\n",
        "# Normalization \n",
        "train_datagen = ImageDataGenerator(rescale=1./255)\n",
        "val_datagen = ImageDataGenerator(rescale=1./255)\n",
        "test_datagen = ImageDataGenerator(rescale=1./255)"
      ],
      "execution_count": null,
      "outputs": []
    },
    {
      "cell_type": "code",
      "metadata": {
        "colab": {
          "base_uri": "https://localhost:8080/"
        },
        "id": "i5uNH8Xw-STT",
        "outputId": "2eab7558-7030-4962-cdaf-d45023522926"
      },
      "source": [
        "# Import data from directories and turn it into batches\n",
        "train_data = train_datagen.flow_from_directory(directory=train_dir,\n",
        "                                               batch_size=32,\n",
        "                                               target_size=(224, 224),\n",
        "                                               class_mode=\"binary\",\n",
        "                                               seed=42)\n",
        "\n",
        "val_data = val_datagen.flow_from_directory(directory=val_dir,\n",
        "                                           batch_size=32,\n",
        "                                           target_size=(224, 224),\n",
        "                                           class_mode=\"binary\",\n",
        "                                           seed=42)\n",
        "\n",
        "test_data = test_datagen.flow_from_directory(directory=test_dir,\n",
        "                                               batch_size=32,\n",
        "                                               target_size=(224, 224),\n",
        "                                               class_mode=\"binary\",\n",
        "                                               seed=42)"
      ],
      "execution_count": null,
      "outputs": [
        {
          "output_type": "stream",
          "text": [
            "Found 5216 images belonging to 2 classes.\n",
            "Found 16 images belonging to 2 classes.\n",
            "Found 624 images belonging to 2 classes.\n"
          ],
          "name": "stdout"
        }
      ]
    },
    {
      "cell_type": "markdown",
      "metadata": {
        "id": "HDMNU3YnTziF"
      },
      "source": [
        "The batch size we are using for this network is 32. also according to this research paper it is the best in most cases - https://arxiv.org/pdf/1804.07612v1.pdf\n"
      ]
    },
    {
      "cell_type": "code",
      "metadata": {
        "colab": {
          "base_uri": "https://localhost:8080/"
        },
        "id": "4WAFFtUV-rH4",
        "outputId": "d0f32a34-9846-47d7-eb42-3b05cdf21160"
      },
      "source": [
        "# Getting a sample of a train data batch\n",
        "images, labels = train_data.next()  \n",
        "len(images), len(labels)"
      ],
      "execution_count": null,
      "outputs": [
        {
          "output_type": "execute_result",
          "data": {
            "text/plain": [
              "(32, 32)"
            ]
          },
          "metadata": {
            "tags": []
          },
          "execution_count": 12
        }
      ]
    },
    {
      "cell_type": "code",
      "metadata": {
        "colab": {
          "base_uri": "https://localhost:8080/"
        },
        "id": "SnO4zBAD-wO5",
        "outputId": "ddf9eeb5-8bc3-4c6d-b28b-837a4e4f3518"
      },
      "source": [
        "len(train_data)"
      ],
      "execution_count": null,
      "outputs": [
        {
          "output_type": "execute_result",
          "data": {
            "text/plain": [
              "163"
            ]
          },
          "metadata": {
            "tags": []
          },
          "execution_count": 13
        }
      ]
    },
    {
      "cell_type": "code",
      "metadata": {
        "colab": {
          "base_uri": "https://localhost:8080/"
        },
        "id": "6LO3pXkU-0uU",
        "outputId": "b0912373-4c60-4c4f-9af1-37920f9c53e8"
      },
      "source": [
        "5216/32"
      ],
      "execution_count": null,
      "outputs": [
        {
          "output_type": "execute_result",
          "data": {
            "text/plain": [
              "163.0"
            ]
          },
          "metadata": {
            "tags": []
          },
          "execution_count": 14
        }
      ]
    },
    {
      "cell_type": "code",
      "metadata": {
        "colab": {
          "base_uri": "https://localhost:8080/"
        },
        "id": "DBOhluBn-4jX",
        "outputId": "da5b81aa-3ad8-4333-c5e6-01f9fc820386"
      },
      "source": [
        "# Viewing the first batch of labels\n",
        "labels"
      ],
      "execution_count": null,
      "outputs": [
        {
          "output_type": "execute_result",
          "data": {
            "text/plain": [
              "array([1., 0., 1., 1., 1., 1., 0., 0., 0., 0., 1., 0., 1., 1., 1., 1., 0.,\n",
              "       1., 0., 1., 1., 1., 0., 1., 1., 1., 1., 0., 0., 0., 1., 1.],\n",
              "      dtype=float32)"
            ]
          },
          "metadata": {
            "tags": []
          },
          "execution_count": 15
        }
      ]
    },
    {
      "cell_type": "markdown",
      "metadata": {
        "id": "9V5XBxO1-8nm"
      },
      "source": [
        "## 3. Creating our models\n",
        "\n",
        "We are using a CNNs (Convolutional Neural Networks) to get quick results on our model than a normal ANN (Artificial Neural Network)"
      ]
    },
    {
      "cell_type": "markdown",
      "metadata": {
        "id": "V7Ma4pczX0LY"
      },
      "source": [
        "### 1. Model 1\n",
        "\n",
        "For this model we will be using a Conv2D layer then a MaxPool2D then Conv2D layer and then a MaxPool2D layer followed by a Flatten and output layer.\n",
        "\n",
        "*All the models are trained and saved in the drive, so they need not to be run again.*"
      ]
    },
    {
      "cell_type": "code",
      "metadata": {
        "id": "lAKa_lev-6x-"
      },
      "source": [
        "# Build a CNN model \n",
        "model_1 = tf.keras.models.Sequential([\n",
        "     tf.keras.layers.Conv2D(filters=10,\n",
        "                            kernel_size=3,\n",
        "                            activation=\"relu\",\n",
        "\n",
        "                            input_shape=(224, 224, 3)),\n",
        "     tf.keras.layers.MaxPool2D(pool_size=2,\n",
        "\n",
        "                               padding=\"valid\"),\n",
        "     tf.keras.layers.Conv2D(10, 3, activation=\"relu\"),\n",
        "     tf.keras.layers.MaxPool2D(2),\n",
        "     tf.keras.layers.Flatten(),\n",
        "     tf.keras.layers.Dense(1, activation=\"sigmoid\")\n",
        "])"
      ],
      "execution_count": null,
      "outputs": []
    },
    {
      "cell_type": "code",
      "metadata": {
        "id": "lATa6gRD_PUJ"
      },
      "source": [
        "# Compiling the model\n",
        "model_1.compile(loss=\"binary_crossentropy\",\n",
        "              optimizer=tf.keras.optimizers.Adam(),\n",
        "              metrics=[\"accuracy\"])"
      ],
      "execution_count": null,
      "outputs": []
    },
    {
      "cell_type": "code",
      "metadata": {
        "id": "rpFb_0rg_SR3",
        "colab": {
          "base_uri": "https://localhost:8080/"
        },
        "outputId": "c1ef994a-6d4f-41af-a174-179e8b075ee9"
      },
      "source": [
        "# seed  \n",
        "tf.random.set_seed(42)\n",
        "\n",
        "# Fit the model\n",
        "history_1 = model_1.fit(train_data,\n",
        "                        epochs=5,\n",
        "                        steps_per_epoch=len(train_data),\n",
        "                        validation_data=val_data,\n",
        "                        validation_steps=len(val_data))"
      ],
      "execution_count": null,
      "outputs": [
        {
          "output_type": "stream",
          "text": [
            "Epoch 1/5\n",
            "163/163 [==============================] - 2148s 13s/step - loss: 0.2359 - accuracy: 0.8938 - val_loss: 0.6996 - val_accuracy: 0.6875\n",
            "Epoch 2/5\n",
            "163/163 [==============================] - 185s 1s/step - loss: 0.0940 - accuracy: 0.9638 - val_loss: 0.4416 - val_accuracy: 0.7500\n",
            "Epoch 3/5\n",
            "163/163 [==============================] - 182s 1s/step - loss: 0.0799 - accuracy: 0.9703 - val_loss: 0.4807 - val_accuracy: 0.7500\n",
            "Epoch 4/5\n",
            "163/163 [==============================] - 180s 1s/step - loss: 0.0624 - accuracy: 0.9755 - val_loss: 1.1050 - val_accuracy: 0.6250\n",
            "Epoch 5/5\n",
            "163/163 [==============================] - 180s 1s/step - loss: 0.0639 - accuracy: 0.9757 - val_loss: 0.1695 - val_accuracy: 0.9375\n"
          ],
          "name": "stdout"
        }
      ]
    },
    {
      "cell_type": "code",
      "metadata": {
        "id": "-HnsjCO0SBf8",
        "colab": {
          "base_uri": "https://localhost:8080/"
        },
        "outputId": "8d737c37-3f59-4eb9-861c-4f1a08dfa523"
      },
      "source": [
        "model_1.summary()"
      ],
      "execution_count": null,
      "outputs": [
        {
          "output_type": "stream",
          "text": [
            "Model: \"sequential_2\"\n",
            "_________________________________________________________________\n",
            "Layer (type)                 Output Shape              Param #   \n",
            "=================================================================\n",
            "conv2d_6 (Conv2D)            (None, 222, 222, 10)      280       \n",
            "_________________________________________________________________\n",
            "max_pooling2d_4 (MaxPooling2 (None, 111, 111, 10)      0         \n",
            "_________________________________________________________________\n",
            "conv2d_7 (Conv2D)            (None, 109, 109, 10)      910       \n",
            "_________________________________________________________________\n",
            "max_pooling2d_5 (MaxPooling2 (None, 54, 54, 10)        0         \n",
            "_________________________________________________________________\n",
            "flatten_2 (Flatten)          (None, 29160)             0         \n",
            "_________________________________________________________________\n",
            "dense_2 (Dense)              (None, 1)                 29161     \n",
            "=================================================================\n",
            "Total params: 30,351\n",
            "Trainable params: 30,351\n",
            "Non-trainable params: 0\n",
            "_________________________________________________________________\n"
          ],
          "name": "stdout"
        }
      ]
    },
    {
      "cell_type": "code",
      "metadata": {
        "id": "o7l8EyzRM_7g"
      },
      "source": [
        "# model_1 = tf.keras.models.load_model(\"/content/drive/MyDrive/Pneumonia/model_1.h5\")\n",
        "# model_1.summary()"
      ],
      "execution_count": null,
      "outputs": []
    },
    {
      "cell_type": "code",
      "metadata": {
        "id": "99j9MRrRMToI",
        "colab": {
          "base_uri": "https://localhost:8080/"
        },
        "outputId": "f25fc70e-6532-4165-ce7b-6852e3bb4f1b"
      },
      "source": [
        "# Evaluating our model\n",
        "model_1.evaluate(test_data)"
      ],
      "execution_count": null,
      "outputs": [
        {
          "output_type": "stream",
          "text": [
            "20/20 [==============================] - 206s 11s/step - loss: 1.0591 - accuracy: 0.7532\n"
          ],
          "name": "stdout"
        },
        {
          "output_type": "execute_result",
          "data": {
            "text/plain": [
              "[1.0590711832046509, 0.7532051205635071]"
            ]
          },
          "metadata": {
            "tags": []
          },
          "execution_count": 65
        }
      ]
    },
    {
      "cell_type": "code",
      "metadata": {
        "id": "-IkRtObxC7t0"
      },
      "source": [
        "# Plotting the valildation and training curves seperately\n",
        "def plot_loss_curves(history):\n",
        "  \"\"\"\n",
        "  Returns seperate loss curves for training and validation metrics.\n",
        "  \"\"\"\n",
        "\n",
        "  loss = history.history[\"loss\"]\n",
        "  val_loss = history.history[\"val_loss\"]\n",
        "\n",
        "  accuracy = history.history[\"accuracy\"]\n",
        "  val_accuracy = history.history[\"val_accuracy\"]\n",
        "\n",
        "  epochs = range(len(history.history[\"loss\"]))\n",
        "\n",
        "  # Plot loss \n",
        "  plt.plot(epochs, loss, label=\"training_loss\")\n",
        "  plt.plot(epochs, val_loss, label=\"val_loss\")\n",
        "  plt.title(\"loss\")\n",
        "  plt.xlabel(\"epochs\")\n",
        "  plt.legend()\n",
        "\n",
        "  # Plot accuracy\n",
        "  plt.figure()\n",
        "  plt.plot(epochs, accuracy, label=\"accuracy\")\n",
        "  plt.plot(epochs, val_accuracy, label=\"val_accuracy\")\n",
        "  plt.title(\"accuracy\")\n",
        "  plt.xlabel(\"epochs\")\n",
        "  plt.legend()"
      ],
      "execution_count": null,
      "outputs": []
    },
    {
      "cell_type": "code",
      "metadata": {
        "id": "sD3iR2HYDIO9",
        "colab": {
          "base_uri": "https://localhost:8080/",
          "height": 166
        },
        "outputId": "2681751d-7cac-4e9b-82d3-202ffdbe1b74"
      },
      "source": [
        "plot_loss_curves(history_1)"
      ],
      "execution_count": null,
      "outputs": [
        {
          "output_type": "error",
          "ename": "NameError",
          "evalue": "ignored",
          "traceback": [
            "\u001b[0;31m---------------------------------------------------------------------------\u001b[0m",
            "\u001b[0;31mNameError\u001b[0m                                 Traceback (most recent call last)",
            "\u001b[0;32m<ipython-input-67-66dc7e1082cf>\u001b[0m in \u001b[0;36m<module>\u001b[0;34m()\u001b[0m\n\u001b[0;32m----> 1\u001b[0;31m \u001b[0mplot_loss_curves\u001b[0m\u001b[0;34m(\u001b[0m\u001b[0mhistory\u001b[0m\u001b[0;34m)\u001b[0m\u001b[0;34m\u001b[0m\u001b[0;34m\u001b[0m\u001b[0m\n\u001b[0m",
            "\u001b[0;31mNameError\u001b[0m: name 'history' is not defined"
          ]
        }
      ]
    },
    {
      "cell_type": "code",
      "metadata": {
        "id": "JJLdzqTfPvUQ"
      },
      "source": [
        "# model_1.save(\"/content/drive/MyDrive/Pneumonia/model_1.h5\")"
      ],
      "execution_count": null,
      "outputs": []
    },
    {
      "cell_type": "markdown",
      "metadata": {
        "id": "6MtQIsbmX7A8"
      },
      "source": [
        "### 2. Model 2\n",
        "\n",
        "For this model we will be using a Conv2D layer, then a Conv2D layer, then a MaxPool2D layer, then Conv2D layer, then Conv2D layer and then a MaxPool2D layer followed by a Flatten and output layer.\n",
        "\n",
        "*All the models are trained and saved in the drive, so they need not to be run again.*"
      ]
    },
    {
      "cell_type": "code",
      "metadata": {
        "id": "BJxWZUbUU5E4"
      },
      "source": [
        "# Build a CNN model (Tiny VGG)\n",
        "model_2 = tf.keras.models.Sequential([\n",
        "    tf.keras.layers.Conv2D(filters=10,\n",
        "                           kernel_size=3,\n",
        "                           activation=\"relu\",\n",
        "                           input_shape=(224, 224, 3)),\n",
        "    tf.keras.layers.Conv2D(10, 3, activation=\"relu\"),\n",
        "    tf.keras.layers.MaxPool2D(pool_size=2,\n",
        "                              padding=\"valid\"),\n",
        "    tf.keras.layers.Conv2D(10, 3, activation=\"relu\"),\n",
        "    tf.keras.layers.Conv2D(10, 3, activation=\"relu\"),\n",
        "    tf.keras.layers.MaxPool2D(2),\n",
        "    tf.keras.layers.Flatten(),\n",
        "    tf.keras.layers.Dense(1, activation=\"sigmoid\")\n",
        "])"
      ],
      "execution_count": null,
      "outputs": []
    },
    {
      "cell_type": "code",
      "metadata": {
        "id": "sgmoX_KvWovD"
      },
      "source": [
        "# Compiling the model\n",
        "model_2.compile(loss=\"binary_crossentropy\",\n",
        "                optimizer=tf.keras.optimizers.Adam(),\n",
        "                metrics=[\"accuracy\"])"
      ],
      "execution_count": null,
      "outputs": []
    },
    {
      "cell_type": "code",
      "metadata": {
        "id": "AHBIZrbQWsE7"
      },
      "source": [
        "# seed  \n",
        "tf.random.set_seed(42)\n",
        "\n",
        "# Fit the model\n",
        "history_2 = model_2.fit(train_data,\n",
        "                        epochs=5,\n",
        "                        steps_per_epoch=len(train_data),\n",
        "                        validation_data=val_data,\n",
        "                        validation_steps=len(val_data))"
      ],
      "execution_count": null,
      "outputs": []
    },
    {
      "cell_type": "code",
      "metadata": {
        "id": "ZSmWiSNTOKdo"
      },
      "source": [
        "# loading our model\n",
        "# model_2 = tf.keras.models.load_model(\"/content/drive/MyDrive/Pneumonia/model_2.h5\")"
      ],
      "execution_count": null,
      "outputs": []
    },
    {
      "cell_type": "code",
      "metadata": {
        "id": "2IctyQ4QXPzD"
      },
      "source": [
        "model_2.summary()"
      ],
      "execution_count": null,
      "outputs": []
    },
    {
      "cell_type": "code",
      "metadata": {
        "id": "yn6Edm6wXDsZ"
      },
      "source": [
        "# model_2.save(\"/content/drive/MyDrive/Pneumonia/model_2.h5\")"
      ],
      "execution_count": null,
      "outputs": []
    },
    {
      "cell_type": "code",
      "metadata": {
        "id": "5Iy6xOZUWzDd"
      },
      "source": [
        "# Evaluating our model\n",
        "model_2.evaluate(test_data)"
      ],
      "execution_count": null,
      "outputs": []
    },
    {
      "cell_type": "code",
      "metadata": {
        "id": "4ZfM9BhbW74H"
      },
      "source": [
        "plot_loss_curves(history_2)"
      ],
      "execution_count": null,
      "outputs": []
    },
    {
      "cell_type": "markdown",
      "metadata": {
        "id": "zjNiKAMtYxCl"
      },
      "source": [
        "### 3. Model 3\n",
        "\n",
        "For this model we will be using a Conv2D layer, then a Conv2D layer, then a MaxPool2D layer, then Conv2D layer, then Conv2D layer and then a MaxPool2D layer followed by a Flatten and output layer. But the `Adam()`'s learning rate set to `0.01`.\n",
        "\n",
        "*All the models are trained and saved in the drive, so they need not to be run again.*"
      ]
    },
    {
      "cell_type": "code",
      "metadata": {
        "id": "qDXVs1MHXU1i"
      },
      "source": [
        "# Build a CNN model (Tiny VGG)\n",
        "model_3 = tf.keras.models.Sequential([\n",
        "    tf.keras.layers.Conv2D(filters=10,\n",
        "                           kernel_size=3,\n",
        "                           activation=\"relu\",\n",
        "                           input_shape=(224, 224, 3)),\n",
        "    tf.keras.layers.Conv2D(10, 3, activation=\"relu\"),\n",
        "    tf.keras.layers.MaxPool2D(pool_size=2,\n",
        "                              padding=\"valid\"),\n",
        "    tf.keras.layers.Conv2D(10, 3, activation=\"relu\"),\n",
        "    tf.keras.layers.Conv2D(10, 3, activation=\"relu\"),\n",
        "    tf.keras.layers.MaxPool2D(2),\n",
        "    tf.keras.layers.Flatten(),\n",
        "    tf.keras.layers.Dense(1, activation=\"sigmoid\")\n",
        "])"
      ],
      "execution_count": null,
      "outputs": []
    },
    {
      "cell_type": "code",
      "metadata": {
        "id": "XI8qmYnfaXA9"
      },
      "source": [
        "# Compiling the model\n",
        "model_3.compile(loss=\"binary_crossentropy\",\n",
        "                optimizer=tf.keras.optimizers.Adam(learning_rate=0.01),\n",
        "                metrics=[\"accuracy\"])"
      ],
      "execution_count": null,
      "outputs": []
    },
    {
      "cell_type": "code",
      "metadata": {
        "id": "BwljjcODaYT8"
      },
      "source": [
        "# seed  \n",
        "tf.random.set_seed(42)\n",
        "\n",
        "# Fit the model\n",
        "history_3 = model_3.fit(train_data,\n",
        "                        epochs=5,\n",
        "                        steps_per_epoch=len(train_data),\n",
        "                        validation_data=val_data,\n",
        "                        validation_steps=len(val_data))"
      ],
      "execution_count": null,
      "outputs": []
    },
    {
      "cell_type": "code",
      "metadata": {
        "id": "xSCXrATJOeYR"
      },
      "source": [
        "# loading our model\n",
        "# model_3 = tf.keras.models.load_model(\"/content/drive/MyDrive/Pneumonia/model_3.h5\")"
      ],
      "execution_count": null,
      "outputs": []
    },
    {
      "cell_type": "code",
      "metadata": {
        "id": "ElnfDUp3anxH"
      },
      "source": [
        "model_3.summary()"
      ],
      "execution_count": null,
      "outputs": []
    },
    {
      "cell_type": "code",
      "metadata": {
        "id": "KNRb1TVvaoTY"
      },
      "source": [
        "# model_3.save(\"/content/drive/MyDrive/Pneumonia/model_3.h5\")"
      ],
      "execution_count": null,
      "outputs": []
    },
    {
      "cell_type": "code",
      "metadata": {
        "id": "mvD3aPnXaqaf"
      },
      "source": [
        "# Evaluating our model\n",
        "model_3.evaluate(test_data)"
      ],
      "execution_count": null,
      "outputs": []
    },
    {
      "cell_type": "code",
      "metadata": {
        "id": "XdXxYhVKaug2"
      },
      "source": [
        "plot_loss_curves(history_3)"
      ],
      "execution_count": null,
      "outputs": []
    },
    {
      "cell_type": "code",
      "metadata": {
        "id": "RCv1qHAMD1Gq"
      },
      "source": [
        "model_1.evaluate(test_data)"
      ],
      "execution_count": null,
      "outputs": []
    },
    {
      "cell_type": "code",
      "metadata": {
        "id": "D_ZFDmZsD2tN"
      },
      "source": [
        "model_2.evaluate(test_data)"
      ],
      "execution_count": null,
      "outputs": []
    },
    {
      "cell_type": "code",
      "metadata": {
        "id": "wHk9BN98D2L6"
      },
      "source": [
        "model_3.evaluate(test_data)"
      ],
      "execution_count": null,
      "outputs": []
    },
    {
      "cell_type": "markdown",
      "metadata": {
        "id": "6wMTurIEnJ0C"
      },
      "source": [
        "### 4. Model 4\n",
        "\n",
        "For this model we will be using a Conv2D layer, then a Conv2D layer, then a MaxPool2D layer, then Conv2D layer, then Conv2D layer and then a MaxPool2D layer followed by a Flatten and output layer.\n",
        "\n",
        "*All the models are trained and saved in the drive, so they need not to be run again.*"
      ]
    },
    {
      "cell_type": "code",
      "metadata": {
        "id": "cDJjPduOEQqX"
      },
      "source": [
        "# Build a CNN model (Tiny VGG)\n",
        "model_4 = tf.keras.models.Sequential([\n",
        "    tf.keras.layers.Conv2D(filters=10,\n",
        "                           kernel_size=3,\n",
        "                           activation=\"relu\",\n",
        "                           input_shape=(224, 224, 3)),\n",
        "    tf.keras.layers.MaxPool2D(pool_size=2,\n",
        "                              padding=\"valid\"),\n",
        "    tf.keras.layers.Conv2D(10, 3, activation=\"relu\"),\n",
        "    tf.keras.layers.MaxPool2D(2),\n",
        "    tf.keras.layers.Flatten(),\n",
        "    tf.keras.layers.Dense(1, activation=\"sigmoid\")\n",
        "])"
      ],
      "execution_count": null,
      "outputs": []
    },
    {
      "cell_type": "code",
      "metadata": {
        "id": "dI8dk5BWER1E"
      },
      "source": [
        "# Compiling the model\n",
        "model_4.compile(loss=\"binary_crossentropy\",\n",
        "                optimizer=tf.keras.optimizers.Adam(learning_rate=0.01),\n",
        "                metrics=[\"accuracy\"])"
      ],
      "execution_count": null,
      "outputs": []
    },
    {
      "cell_type": "code",
      "metadata": {
        "id": "jc36bNw_ERv6"
      },
      "source": [
        "# seed  \n",
        "tf.random.set_seed(42)\n",
        "\n",
        "# Fit the model\n",
        "history_4= model_4.fit(train_data,\n",
        "                       epochs=5,\n",
        "                       steps_per_epoch=len(train_data),\n",
        "                       validation_data=val_data,\n",
        "                       validation_steps=len(val_data))"
      ],
      "execution_count": null,
      "outputs": []
    },
    {
      "cell_type": "code",
      "metadata": {
        "id": "-XrVwk3rEgNc"
      },
      "source": [
        "# model_4.save(\"/content/drive/MyDrive/Pneumonia/model_4.h5\")"
      ],
      "execution_count": null,
      "outputs": []
    },
    {
      "cell_type": "code",
      "metadata": {
        "id": "zdvsfVLiO8KT"
      },
      "source": [
        "# loading our model\n",
        "# model_4 = tf.keras.models.load_model(\"/content/drive/MyDrive/Pneumonia/model_4.h5\")"
      ],
      "execution_count": null,
      "outputs": []
    },
    {
      "cell_type": "code",
      "metadata": {
        "id": "xbyV-RHWO8ma"
      },
      "source": [
        "model_4.summary()"
      ],
      "execution_count": null,
      "outputs": []
    },
    {
      "cell_type": "code",
      "metadata": {
        "id": "xQHyXZoUERW4"
      },
      "source": [
        "# Evaluating our model\n",
        "model_4.evaluate(test_data)"
      ],
      "execution_count": null,
      "outputs": []
    },
    {
      "cell_type": "code",
      "metadata": {
        "id": "CwK88x-xEcmT"
      },
      "source": [
        "plot_loss_curves(history)"
      ],
      "execution_count": null,
      "outputs": []
    },
    {
      "cell_type": "markdown",
      "metadata": {
        "id": "8mQCgZzdjHa2"
      },
      "source": [
        "## Predictions on custom data"
      ]
    },
    {
      "cell_type": "code",
      "metadata": {
        "id": "qWB7UMBSbGzz"
      },
      "source": [
        "# function to import image and resize \n",
        "def load_and_prep_image(filename, img_shape=224):\n",
        "  \"\"\"\n",
        "  Reads an image from filename, turns it into a tensor and reshapes it to (img_shape, img_shape,, color_channels)\n",
        "  \"\"\"\n",
        "  # Read in the image\n",
        "  img = tf.io.read_file(filename)\n",
        "  # Decode the read file into a tensor\n",
        "  img = tf.image.decode_image(img)\n",
        "  # Resize the image  \n",
        "  img = tf.image.resize(img, size=[img_shape, img_shape])\n",
        "  # Rescale the image (getting all values between 0 & 1)\n",
        "  img = img/255\n",
        "\n",
        "  return img"
      ],
      "execution_count": null,
      "outputs": []
    },
    {
      "cell_type": "code",
      "metadata": {
        "id": "HIZ1Iiz5jXNB"
      },
      "source": [
        "def pred_and_plot(model, filename, class_names=class_names):\n",
        "  \"\"\"\n",
        "  Imports an image located at filename, makes a prediction with model and plots the image with the predicted class as the title.\n",
        "  \"\"\"\n",
        "  # Import target image and preprocess it \n",
        "  img = load_and_prep_image(filename)\n",
        "\n",
        "  # Make a prediction \n",
        "  pred = model.predict(tf.expand_dims(img, axis=0))\n",
        "\n",
        "  # Get the predicted class \n",
        "  pred_class = class_names[int(tf.round(pred))]\n",
        "\n",
        "  # Plot image and predicted class\n",
        "  plt.imshow(img)\n",
        "  plt.title(f\"Prediction : {pred_class}\")\n",
        "  plt.axis(False);"
      ],
      "execution_count": null,
      "outputs": []
    },
    {
      "cell_type": "code",
      "metadata": {
        "id": "VbADvGdyLPB8"
      },
      "source": [
        "a1 = model_1.evaluate(test_data)"
      ],
      "execution_count": null,
      "outputs": []
    },
    {
      "cell_type": "code",
      "metadata": {
        "id": "61NSnFfSLO-9"
      },
      "source": [
        "a2 = model_2.evaluate(test_data)"
      ],
      "execution_count": null,
      "outputs": []
    },
    {
      "cell_type": "code",
      "metadata": {
        "id": "nHK8OjYGLO8j"
      },
      "source": [
        "a3 = model_3.evaluate(test_data)"
      ],
      "execution_count": null,
      "outputs": []
    },
    {
      "cell_type": "code",
      "metadata": {
        "id": "TBt7m82xLO5x"
      },
      "source": [
        "a4 = model_4.evaluate(test_data)"
      ],
      "execution_count": null,
      "outputs": []
    },
    {
      "cell_type": "code",
      "metadata": {
        "id": "AtxEhR3nLqiL"
      },
      "source": [
        "import pandas as pd\n",
        "\n",
        "pd.DataFrame([a1[1], a2[1], a3[1], a4[1]], [1, 2, 3, 4])"
      ],
      "execution_count": null,
      "outputs": []
    },
    {
      "cell_type": "code",
      "metadata": {
        "id": "3M2uURW_jaei"
      },
      "source": [
        "# Test our model on custom image \n",
        "# pred_and_plot(model_1, \"pneu1.jpeg\")"
      ],
      "execution_count": null,
      "outputs": []
    },
    {
      "cell_type": "code",
      "metadata": {
        "id": "1lXX-a9GkJWS"
      },
      "source": [
        "# Test our model on custom image \n",
        "# pred_and_plot(model_1, \"pneu2.jpg\")"
      ],
      "execution_count": null,
      "outputs": []
    },
    {
      "cell_type": "code",
      "metadata": {
        "id": "joKBF4x6kkWJ"
      },
      "source": [
        "# Test our model on custom image \n",
        "# pred_and_plot(model_1, \"norm1.jpeg\")"
      ],
      "execution_count": null,
      "outputs": []
    },
    {
      "cell_type": "code",
      "metadata": {
        "id": "NMwjqwsek3go"
      },
      "source": [
        "# Test our model on custom image \n",
        "# pred_and_plot(model_1, \"norm2.jpeg\")"
      ],
      "execution_count": null,
      "outputs": []
    },
    {
      "cell_type": "code",
      "metadata": {
        "id": "gccovZw2lJG4"
      },
      "source": [
        "# img = mpimg.imread(\"norm2.jpeg\")\n",
        "# plt.imshow(img)\n",
        "# plt.title(\"Normal\")\n",
        "# plt.axis(\"off\");\n",
        "\n",
        "# print(f\"Image shape: {img.shape}\") \n",
        "\n",
        "# tf.expand_dims((tf.constant(img)), axis=-1)"
      ],
      "execution_count": null,
      "outputs": []
    },
    {
      "cell_type": "code",
      "metadata": {
        "id": "TJ8yJ6Fi6cqn"
      },
      "source": [
        "# !pip install tensorflowjs"
      ],
      "execution_count": null,
      "outputs": []
    },
    {
      "cell_type": "code",
      "metadata": {
        "id": "QBdt9yJC6LnP"
      },
      "source": [
        "# !tensorflowjs_converter --input_format=keras /content/drive/MyDrive/Pneumonia/model_1.h5 /content/drive/MyDrive/Pneumonia"
      ],
      "execution_count": null,
      "outputs": []
    },
    {
      "cell_type": "markdown",
      "metadata": {
        "id": "Kw5iF2l_TJdb"
      },
      "source": [
        "## Model 5"
      ]
    },
    {
      "cell_type": "code",
      "metadata": {
        "id": "shbNSuEFQFGc"
      },
      "source": [
        "# Build a CNN model \n",
        "model_5 = tf.keras.models.Sequential([\n",
        "    tf.keras.layers.Conv2D(filters=16,\n",
        "                           kernel_size=3,\n",
        "                           activation=\"relu\",\n",
        "                           padding=\"same\",\n",
        "                           input_shape=(224, 224, 3)),\n",
        "    tf.keras.layers.Conv2D(16, 3, activation=\"relu\", padding=\"same\"),\n",
        "    tf.keras.layers.MaxPool2D(pool_size=2),\n",
        "    tf.keras.layers.SeparableConv2D(32, 3, activation=\"relu\", padding=\"same\"),\n",
        "    tf.keras.layers.SeparableConv2D(32, 3, activation=\"relu\", padding=\"same\"),\n",
        "    tf.keras.layers.MaxPool2D(2),\n",
        "    tf.keras.layers.SeparableConv2D(64, 3, activation=\"relu\", padding=\"same\"),\n",
        "    tf.keras.layers.SeparableConv2D(64, 3, activation=\"relu\", padding=\"same\"),\n",
        "    tf.keras.layers.MaxPool2D(2),\n",
        "    tf.keras.layers.SeparableConv2D(128, 3, activation=\"relu\", padding=\"same\"),\n",
        "    tf.keras.layers.SeparableConv2D(128, 3, activation=\"relu\", padding=\"same\"),\n",
        "    tf.keras.layers.MaxPool2D(2),\n",
        "    tf.keras.layers.Dropout(rate=0.2),\n",
        "    tf.keras.layers.SeparableConv2D(256, 3, activation=\"relu\", padding=\"same\"),\n",
        "    tf.keras.layers.SeparableConv2D(256, 3, activation=\"relu\", padding=\"same\"),\n",
        "    tf.keras.layers.MaxPool2D(2),\n",
        "    tf.keras.layers.Dropout(rate=0.2),\n",
        "    tf.keras.layers.Flatten(),\n",
        "    tf.keras.layers.Dense(512, activation=\"relu\"),\n",
        "    tf.keras.layers.Dropout(rate=0.7),\n",
        "    tf.keras.layers.Dense(128, activation=\"relu\"),\n",
        "    tf.keras.layers.Dropout(rate=0.5),\n",
        "    tf.keras.layers.Dense(64, activation=\"relu\"),\n",
        "    tf.keras.layers.Dropout(rate=0.3),\n",
        "    tf.keras.layers.Dense(1, activation=\"sigmoid\")\n",
        "])"
      ],
      "execution_count": null,
      "outputs": []
    },
    {
      "cell_type": "code",
      "metadata": {
        "colab": {
          "base_uri": "https://localhost:8080/"
        },
        "id": "GCpNA1ICh4fP",
        "outputId": "bcf17401-f187-451e-d8b8-cc65457976aa"
      },
      "source": [
        "model_5.summary()"
      ],
      "execution_count": null,
      "outputs": [
        {
          "output_type": "stream",
          "text": [
            "Model: \"sequential_3\"\n",
            "_________________________________________________________________\n",
            "Layer (type)                 Output Shape              Param #   \n",
            "=================================================================\n",
            "conv2d_12 (Conv2D)           (None, 224, 224, 16)      448       \n",
            "_________________________________________________________________\n",
            "conv2d_13 (Conv2D)           (None, 224, 224, 16)      2320      \n",
            "_________________________________________________________________\n",
            "max_pooling2d_8 (MaxPooling2 (None, 112, 112, 16)      0         \n",
            "_________________________________________________________________\n",
            "separable_conv2d_1 (Separabl (None, 112, 112, 32)      688       \n",
            "_________________________________________________________________\n",
            "separable_conv2d_2 (Separabl (None, 112, 112, 32)      1344      \n",
            "_________________________________________________________________\n",
            "max_pooling2d_9 (MaxPooling2 (None, 56, 56, 32)        0         \n",
            "_________________________________________________________________\n",
            "separable_conv2d_3 (Separabl (None, 56, 56, 64)        2400      \n",
            "_________________________________________________________________\n",
            "separable_conv2d_4 (Separabl (None, 56, 56, 64)        4736      \n",
            "_________________________________________________________________\n",
            "max_pooling2d_10 (MaxPooling (None, 28, 28, 64)        0         \n",
            "_________________________________________________________________\n",
            "separable_conv2d_5 (Separabl (None, 28, 28, 128)       8896      \n",
            "_________________________________________________________________\n",
            "separable_conv2d_6 (Separabl (None, 28, 28, 128)       17664     \n",
            "_________________________________________________________________\n",
            "max_pooling2d_11 (MaxPooling (None, 14, 14, 128)       0         \n",
            "_________________________________________________________________\n",
            "dropout (Dropout)            (None, 14, 14, 128)       0         \n",
            "_________________________________________________________________\n",
            "separable_conv2d_7 (Separabl (None, 14, 14, 256)       34176     \n",
            "_________________________________________________________________\n",
            "separable_conv2d_8 (Separabl (None, 14, 14, 256)       68096     \n",
            "_________________________________________________________________\n",
            "max_pooling2d_12 (MaxPooling (None, 7, 7, 256)         0         \n",
            "_________________________________________________________________\n",
            "dropout_1 (Dropout)          (None, 7, 7, 256)         0         \n",
            "_________________________________________________________________\n",
            "flatten_3 (Flatten)          (None, 12544)             0         \n",
            "_________________________________________________________________\n",
            "dense_3 (Dense)              (None, 512)               6423040   \n",
            "_________________________________________________________________\n",
            "dropout_2 (Dropout)          (None, 512)               0         \n",
            "_________________________________________________________________\n",
            "dense_4 (Dense)              (None, 128)               65664     \n",
            "_________________________________________________________________\n",
            "dropout_3 (Dropout)          (None, 128)               0         \n",
            "_________________________________________________________________\n",
            "dense_5 (Dense)              (None, 64)                8256      \n",
            "_________________________________________________________________\n",
            "dropout_4 (Dropout)          (None, 64)                0         \n",
            "_________________________________________________________________\n",
            "dense_6 (Dense)              (None, 1)                 65        \n",
            "=================================================================\n",
            "Total params: 6,637,793\n",
            "Trainable params: 6,637,793\n",
            "Non-trainable params: 0\n",
            "_________________________________________________________________\n"
          ],
          "name": "stdout"
        }
      ]
    },
    {
      "cell_type": "code",
      "metadata": {
        "id": "JuCnbQex6LI-"
      },
      "source": [
        "# Compiling the model\n",
        "model_5.compile(loss=\"binary_crossentropy\",\n",
        "                optimizer=tf.keras.optimizers.Adam(),\n",
        "                metrics=[\"accuracy\"])"
      ],
      "execution_count": null,
      "outputs": []
    },
    {
      "cell_type": "code",
      "metadata": {
        "colab": {
          "base_uri": "https://localhost:8080/"
        },
        "id": "eE98QH-5hgEw",
        "outputId": "96a7cf83-3387-43f2-afb6-8b9d60a012d1"
      },
      "source": [
        "# seed  \n",
        "tf.random.set_seed(42)\n",
        "\n",
        "# Fit the model\n",
        "history_5 = model_5.fit(train_data,\n",
        "                        epochs=5,\n",
        "                        steps_per_epoch=len(train_data),\n",
        "                        validation_data=val_data,\n",
        "                        validation_steps=len(val_data))"
      ],
      "execution_count": null,
      "outputs": [
        {
          "output_type": "stream",
          "text": [
            "Epoch 1/5\n",
            "163/163 [==============================] - 483s 3s/step - loss: 0.5901 - accuracy: 0.7385 - val_loss: 0.7627 - val_accuracy: 0.5000\n",
            "Epoch 2/5\n",
            "163/163 [==============================] - 478s 3s/step - loss: 0.5749 - accuracy: 0.7425 - val_loss: 0.8476 - val_accuracy: 0.5000\n",
            "Epoch 3/5\n",
            "163/163 [==============================] - 478s 3s/step - loss: 0.5721 - accuracy: 0.7429 - val_loss: 0.8577 - val_accuracy: 0.5000\n",
            "Epoch 4/5\n",
            "163/163 [==============================] - 477s 3s/step - loss: 0.5719 - accuracy: 0.7429 - val_loss: 0.8078 - val_accuracy: 0.5000\n",
            "Epoch 5/5\n",
            "163/163 [==============================] - 476s 3s/step - loss: 0.5719 - accuracy: 0.7429 - val_loss: 0.8405 - val_accuracy: 0.5000\n"
          ],
          "name": "stdout"
        }
      ]
    },
    {
      "cell_type": "code",
      "metadata": {
        "id": "fV4xqcLchgzT"
      },
      "source": [
        "model_5.save(\"/content/drive/MyDrive/Pneumonia/model_5.h5\")"
      ],
      "execution_count": null,
      "outputs": []
    },
    {
      "cell_type": "code",
      "metadata": {
        "colab": {
          "base_uri": "https://localhost:8080/",
          "height": 573
        },
        "id": "cUtmbiwuhpGH",
        "outputId": "ed84089c-0b4b-42b7-fec1-cfa300e1f51e"
      },
      "source": [
        "plot_loss_curves(history_5)"
      ],
      "execution_count": null,
      "outputs": [
        {
          "output_type": "display_data",
          "data": {
            "image/png": "[encoded data removed]",
            "text/plain": [
              "<Figure size 432x288 with 1 Axes>"
            ]
          },
          "metadata": {
            "tags": [],
            "needs_background": "light"
          }
        },
        {
          "output_type": "display_data",
          "data": {
            "image/png": "[encoded data removed]",
            "text/plain": [
              "<Figure size 432x288 with 1 Axes>"
            ]
          },
          "metadata": {
            "tags": [],
            "needs_background": "light"
          }
        }
      ]
    },
    {
      "cell_type": "code",
      "metadata": {
        "colab": {
          "base_uri": "https://localhost:8080/"
        },
        "id": "WJ8f9ciNig_e",
        "outputId": "7d234100-7466-45d1-95c9-ee06a5fab9c2"
      },
      "source": [
        "# Evaluating our model\n",
        "model_5.evaluate(test_data)"
      ],
      "execution_count": null,
      "outputs": [
        {
          "output_type": "stream",
          "text": [
            "20/20 [==============================] - 18s 890ms/step - loss: 0.7014 - accuracy: 0.6250\n"
          ],
          "name": "stdout"
        },
        {
          "output_type": "execute_result",
          "data": {
            "text/plain": [
              "[0.7014251351356506, 0.625]"
            ]
          },
          "metadata": {
            "tags": []
          },
          "execution_count": 96
        }
      ]
    },
    {
      "cell_type": "markdown",
      "metadata": {
        "id": "esyjON4_uRMj"
      },
      "source": [
        "## Model 6"
      ]
    },
    {
      "cell_type": "code",
      "metadata": {
        "id": "f7X2Yyepumkp"
      },
      "source": [
        "from keras.callbacks import ModelCheckpoint, ReduceLROnPlateau, EarlyStopping\n",
        "\n",
        "# Callbacks\n",
        "checkpoint = ModelCheckpoint(filepath='best_weights.hdf5', save_best_only=True, save_weights_only=True)\n",
        "lr_reduce = ReduceLROnPlateau(monitor='val_loss', factor=0.3, patience=2, verbose=2, mode='max')\n",
        "early_stop = EarlyStopping(monitor='val_loss', min_delta=0.1, patience=1, mode='min')"
      ],
      "execution_count": null,
      "outputs": []
    },
    {
      "cell_type": "code",
      "metadata": {
        "id": "cW31a1T_i1b-"
      },
      "source": [
        "# Build a CNN model \n",
        "model_6 = tf.keras.models.Sequential([\n",
        "    tf.keras.layers.Conv2D(filters=16,\n",
        "                           kernel_size=3,\n",
        "                           activation=\"relu\",\n",
        "                           padding=\"same\",\n",
        "                           input_shape=(224, 224, 3)),\n",
        "    tf.keras.layers.Conv2D(16, 3, activation=\"relu\", padding=\"same\"),\n",
        "    tf.keras.layers.MaxPool2D(pool_size=2),\n",
        "    tf.keras.layers.SeparableConv2D(32, 3, activation=\"relu\", padding=\"same\"),\n",
        "    tf.keras.layers.SeparableConv2D(32, 3, activation=\"relu\", padding=\"same\"),\n",
        "    tf.keras.layers.MaxPool2D(2),\n",
        "    tf.keras.layers.SeparableConv2D(64, 3, activation=\"relu\", padding=\"same\"),\n",
        "    tf.keras.layers.SeparableConv2D(64, 3, activation=\"relu\", padding=\"same\"),\n",
        "    tf.keras.layers.MaxPool2D(2),\n",
        "    tf.keras.layers.SeparableConv2D(128, 3, activation=\"relu\", padding=\"same\"),\n",
        "    tf.keras.layers.SeparableConv2D(128, 3, activation=\"relu\", padding=\"same\"),\n",
        "    tf.keras.layers.MaxPool2D(2),\n",
        "    tf.keras.layers.Dropout(rate=0.2),\n",
        "    tf.keras.layers.SeparableConv2D(256, 3, activation=\"relu\", padding=\"same\"),\n",
        "    tf.keras.layers.SeparableConv2D(256, 3, activation=\"relu\", padding=\"same\"),\n",
        "    tf.keras.layers.MaxPool2D(2),\n",
        "    tf.keras.layers.Dropout(rate=0.2),\n",
        "    tf.keras.layers.Flatten(),\n",
        "    tf.keras.layers.Dense(512, activation=\"relu\"),\n",
        "    tf.keras.layers.Dropout(rate=0.7),\n",
        "    tf.keras.layers.Dense(128, activation=\"relu\"),\n",
        "    tf.keras.layers.Dropout(rate=0.5),\n",
        "    tf.keras.layers.Dense(64, activation=\"relu\"),\n",
        "    tf.keras.layers.Dropout(rate=0.3),\n",
        "    tf.keras.layers.Dense(1, activation=\"sigmoid\")\n",
        "])"
      ],
      "execution_count": null,
      "outputs": []
    },
    {
      "cell_type": "code",
      "metadata": {
        "id": "M4ssuhKDuVAV"
      },
      "source": [
        "# Compiling the model\n",
        "model_6.compile(loss=\"binary_crossentropy\",\n",
        "                optimizer=tf.keras.optimizers.Adam(),\n",
        "                metrics=[\"accuracy\"])"
      ],
      "execution_count": null,
      "outputs": []
    },
    {
      "cell_type": "code",
      "metadata": {
        "colab": {
          "base_uri": "https://localhost:8080/"
        },
        "id": "H5gZWeFKuY7B",
        "outputId": "cdcb7632-cc19-4071-86fb-984d2ab735bf"
      },
      "source": [
        "# seed  \n",
        "tf.random.set_seed(42)\n",
        "\n",
        "# Fit the model\n",
        "history_6 = model_6.fit_generator(train_data,\n",
        "                                  epochs=5,\n",
        "                                  steps_per_epoch=len(train_data),\n",
        "                                  validation_data=val_data,\n",
        "                                  validation_steps=len(val_data),\n",
        "                                  callbacks=[checkpoint, lr_reduce])"
      ],
      "execution_count": null,
      "outputs": [
        {
          "output_type": "stream",
          "text": [
            "/usr/local/lib/python3.7/dist-packages/tensorflow/python/keras/engine/training.py:1940: UserWarning: `Model.fit_generator` is deprecated and will be removed in a future version. Please use `Model.fit`, which supports generators.\n",
            "  warnings.warn('`Model.fit_generator` is deprecated and '\n"
          ],
          "name": "stderr"
        },
        {
          "output_type": "stream",
          "text": [
            "Epoch 1/5\n",
            "163/163 [==============================] - 481s 3s/step - loss: 0.5906 - accuracy: 0.7400 - val_loss: 0.7572 - val_accuracy: 0.5000\n",
            "Epoch 2/5\n",
            "163/163 [==============================] - 477s 3s/step - loss: 0.5807 - accuracy: 0.7429 - val_loss: 0.8411 - val_accuracy: 0.5000\n",
            "Epoch 3/5\n",
            "163/163 [==============================] - 477s 3s/step - loss: 0.5764 - accuracy: 0.7429 - val_loss: 0.8057 - val_accuracy: 0.5000\n",
            "Epoch 4/5\n",
            "163/163 [==============================] - 476s 3s/step - loss: 0.5732 - accuracy: 0.7429 - val_loss: 0.8087 - val_accuracy: 0.5000\n",
            "\n",
            "Epoch 00004: ReduceLROnPlateau reducing learning rate to 0.0003000000142492354.\n",
            "Epoch 5/5\n",
            "163/163 [==============================] - 477s 3s/step - loss: 0.5723 - accuracy: 0.7429 - val_loss: 0.8129 - val_accuracy: 0.5000\n"
          ],
          "name": "stdout"
        }
      ]
    },
    {
      "cell_type": "code",
      "metadata": {
        "colab": {
          "base_uri": "https://localhost:8080/",
          "height": 573
        },
        "id": "rG91NMXeuZdo",
        "outputId": "2ca5633d-f677-49ae-bb73-3d69c9ff540a"
      },
      "source": [
        "plot_loss_curves(history_6)"
      ],
      "execution_count": null,
      "outputs": [
        {
          "output_type": "display_data",
          "data": {
            "image/png": "[encoded data removed]",
            "text/plain": [
              "<Figure size 432x288 with 1 Axes>"
            ]
          },
          "metadata": {
            "tags": [],
            "needs_background": "light"
          }
        },
        {
          "output_type": "display_data",
          "data": {
            "image/png": "[encoded data removed]",
            "text/plain": [
              "<Figure size 432x288 with 1 Axes>"
            ]
          },
          "metadata": {
            "tags": [],
            "needs_background": "light"
          }
        }
      ]
    },
    {
      "cell_type": "code",
      "metadata": {
        "id": "pJBcFGRU7xVp"
      },
      "source": [
        "model_6.evaluate(test_data)"
      ],
      "execution_count": null,
      "outputs": []
    },
    {
      "cell_type": "code",
      "metadata": {
        "colab": {
          "base_uri": "https://localhost:8080/"
        },
        "id": "N8kBmf6qvh7r",
        "outputId": "952d5602-b46e-4650-fee9-adb95aa79269"
      },
      "source": [
        "model_6.save(\"/content/drive/MyDrive/Pneumonia/model_6.h5\")"
      ],
      "execution_count": null,
      "outputs": [
        {
          "output_type": "stream",
          "text": [
            "INFO:tensorflow:Assets written to: /content/drive/MyDrive/Pneumonia/model_6h5/assets\n"
          ],
          "name": "stdout"
        }
      ]
    },
    {
      "cell_type": "markdown",
      "metadata": {
        "id": "4ayrMXHpE1Ko"
      },
      "source": [
        "## Evaluation"
      ]
    },
    {
      "cell_type": "code",
      "metadata": {
        "id": "mje8EHUJgvbT"
      },
      "source": [
        "  # import tensorflow_hub as hub\n",
        "  # model_url = \"https://tfhub.dev/tensorflow/efficientnet/b1/classification/1\"\n",
        "  # IMAGE_SHAPE=(224, 224)\n",
        "  # # Download the pretrained model and save it as a Keras layer\n",
        "  # feature_extractor_layer = hub.KerasLayer(model_url,\n",
        "  #                                          trainable=True, # freezing already learnt patterns \n",
        "  #                                          name=\"feature_extraction_layer\",\n",
        "  #                                          input_shape=IMAGE_SHAPE+(None,))"
      ],
      "execution_count": null,
      "outputs": []
    },
    {
      "cell_type": "code",
      "metadata": {
        "colab": {
          "base_uri": "https://localhost:8080/",
          "height": 163
        },
        "id": "L41j5KCNM5p4",
        "outputId": "950c0e90-dc85-4d96-d1bd-2e31251ebded"
      },
      "source": [
        "model_1 = tf.keras.models.load_model(\"/content/drive/MyDrive/Pneumonia/efficientnetb1_model.h5\", custom_objects={\"KerasLayer\":KerasLayer})"
      ],
      "execution_count": null,
      "outputs": [
        {
          "output_type": "error",
          "ename": "NameError",
          "evalue": "ignored",
          "traceback": [
            "\u001b[0;31m---------------------------------------------------------------------------\u001b[0m",
            "\u001b[0;31mNameError\u001b[0m                                 Traceback (most recent call last)",
            "\u001b[0;32m<ipython-input-29-11c66d69689b>\u001b[0m in \u001b[0;36m<module>\u001b[0;34m()\u001b[0m\n\u001b[0;32m----> 1\u001b[0;31m \u001b[0mmodel_1\u001b[0m \u001b[0;34m=\u001b[0m \u001b[0mtf\u001b[0m\u001b[0;34m.\u001b[0m\u001b[0mkeras\u001b[0m\u001b[0;34m.\u001b[0m\u001b[0mmodels\u001b[0m\u001b[0;34m.\u001b[0m\u001b[0mload_model\u001b[0m\u001b[0;34m(\u001b[0m\u001b[0;34m\"/content/drive/MyDrive/Pneumonia/efficientnetb1_model.h5\"\u001b[0m\u001b[0;34m,\u001b[0m \u001b[0mcustom_objects\u001b[0m\u001b[0;34m=\u001b[0m\u001b[0;34m{\u001b[0m\u001b[0;34m\"KerasLayer\"\u001b[0m\u001b[0;34m:\u001b[0m\u001b[0mKerasLayer\u001b[0m\u001b[0;34m}\u001b[0m\u001b[0;34m)\u001b[0m\u001b[0;34m\u001b[0m\u001b[0;34m\u001b[0m\u001b[0m\n\u001b[0m",
            "\u001b[0;31mNameError\u001b[0m: name 'KerasLayer' is not defined"
          ]
        }
      ]
    },
    {
      "cell_type": "code",
      "metadata": {
        "id": "x0apMRAqM_O6"
      },
      "source": [
        ""
      ],
      "execution_count": null,
      "outputs": []
    }
  ]
}